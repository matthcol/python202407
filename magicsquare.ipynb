{
 "cells": [
  {
   "cell_type": "markdown",
   "id": "9edce402-ab60-4905-924c-d0c25c044aeb",
   "metadata": {},
   "source": [
    "# Magic Square\n",
    "https://fr.wikipedia.org/wiki/Carr%C3%A9_magique_(math%C3%A9matiques)"
   ]
  },
  {
   "cell_type": "code",
   "execution_count": 2,
   "id": "7fc9e11b-e1dd-4c1d-bf8c-f260e4126afe",
   "metadata": {},
   "outputs": [],
   "source": [
    "square1 = [\n",
    "    [2, 7 , 6],\n",
    "    [9, 5 , 1],\n",
    "    [4, 3 , 8],\n",
    "]\n",
    "\n",
    "square2 = [\n",
    "    [8,1,5],\n",
    "    [3,5,7], \n",
    "    [4,9,2]]"
   ]
  },
  {
   "cell_type": "markdown",
   "id": "3ea4692e-f264-4435-8fdc-4cc3105a87ce",
   "metadata": {},
   "source": [
    "## Check magicness"
   ]
  },
  {
   "cell_type": "code",
   "execution_count": 21,
   "id": "31a35fdd-d156-4ea3-bbeb-cc75da4c0b8c",
   "metadata": {},
   "outputs": [],
   "source": [
    "# square = square1\n",
    "square = square2"
   ]
  },
  {
   "cell_type": "code",
   "execution_count": 22,
   "id": "3aa0a576-d4b8-4483-9c6a-0c85ed1e9821",
   "metadata": {},
   "outputs": [
    {
     "data": {
      "text/plain": [
       "15"
      ]
     },
     "execution_count": 22,
     "metadata": {},
     "output_type": "execute_result"
    }
   ],
   "source": [
    "# with all rules magic_sum = n (n^2 +1) / 2\n",
    "n = 3 \n",
    "\n",
    "magic_sum = n*(n**2 +1)//2\n",
    "magic_sum"
   ]
  },
  {
   "cell_type": "code",
   "execution_count": 23,
   "id": "63ac993f-9990-4738-b8bb-0ed80dcef198",
   "metadata": {},
   "outputs": [],
   "source": [
    "magic = True"
   ]
  },
  {
   "cell_type": "code",
   "execution_count": 24,
   "id": "b2eb125a-c129-437a-ab46-a943c9439f24",
   "metadata": {},
   "outputs": [
    {
     "data": {
      "text/plain": [
       "False"
      ]
     },
     "execution_count": 24,
     "metadata": {},
     "output_type": "execute_result"
    }
   ],
   "source": [
    "# check all rows are magic\n",
    "for line in square : \n",
    "    if not sum(line) == magic_sum :\n",
    "        magic = False\n",
    "magic"
   ]
  },
  {
   "cell_type": "code",
   "execution_count": 25,
   "id": "c8622b96-43e9-4109-b040-913f529e847d",
   "metadata": {},
   "outputs": [
    {
     "data": {
      "text/plain": [
       "False"
      ]
     },
     "execution_count": 25,
     "metadata": {},
     "output_type": "execute_result"
    }
   ],
   "source": [
    "# check all columns are magic\n",
    "for i in range (n): \n",
    "   if not sum(line[i] for line in square) == magic_sum : \n",
    "       magic = False\n",
    "magic"
   ]
  },
  {
   "cell_type": "code",
   "execution_count": 26,
   "id": "49d9b93f-b246-41c5-a26b-c5a177945d2c",
   "metadata": {},
   "outputs": [
    {
     "data": {
      "text/plain": [
       "False"
      ]
     },
     "execution_count": 26,
     "metadata": {},
     "output_type": "execute_result"
    }
   ],
   "source": [
    "# check 'diagonals' are magic\n",
    "if not sum(square[i][i] for i in range (n)) == magic_sum :\n",
    "   magic = False\n",
    "magic"
   ]
  },
  {
   "cell_type": "code",
   "execution_count": 27,
   "id": "7d6fcfc7-29b7-4a8d-9a88-8eb6dbd07798",
   "metadata": {},
   "outputs": [
    {
     "data": {
      "text/plain": [
       "False"
      ]
     },
     "execution_count": 27,
     "metadata": {},
     "output_type": "execute_result"
    }
   ],
   "source": [
    "if not sum(square[i][-i-1] for i in range (n)) == magic_sum :\n",
    "   magic = False   \n",
    "magic"
   ]
  },
  {
   "cell_type": "code",
   "execution_count": 28,
   "id": "3adbe31e-02cb-452f-8035-a6c88eeccadd",
   "metadata": {},
   "outputs": [
    {
     "data": {
      "text/plain": [
       "False"
      ]
     },
     "execution_count": 28,
     "metadata": {},
     "output_type": "execute_result"
    }
   ],
   "source": [
    "# bonus: check all numbers are used once only, from range [1, n^2] \n",
    "list_number = []\n",
    "for line in square : \n",
    "    for i in line : \n",
    "        if i not in list_number and 0 <= i <= n**2 : \n",
    "            list_number.append(i)\n",
    "        else : \n",
    "            magic = False        \n",
    "magic"
   ]
  }
 ],
 "metadata": {
  "kernelspec": {
   "display_name": "Python 3 (ipykernel)",
   "language": "python",
   "name": "python3"
  },
  "language_info": {
   "codemirror_mode": {
    "name": "ipython",
    "version": 3
   },
   "file_extension": ".py",
   "mimetype": "text/x-python",
   "name": "python",
   "nbconvert_exporter": "python",
   "pygments_lexer": "ipython3",
   "version": "3.12.4"
  }
 },
 "nbformat": 4,
 "nbformat_minor": 5
}
