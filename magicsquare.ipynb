{
 "cells": [
  {
   "cell_type": "markdown",
   "id": "9edce402-ab60-4905-924c-d0c25c044aeb",
   "metadata": {},
   "source": [
    "# Magic Square\n",
    "https://fr.wikipedia.org/wiki/Carr%C3%A9_magique_(math%C3%A9matiques)"
   ]
  },
  {
   "cell_type": "code",
   "execution_count": 1,
   "id": "7fc9e11b-e1dd-4c1d-bf8c-f260e4126afe",
   "metadata": {},
   "outputs": [],
   "source": [
    "square1 = [\n",
    "    [2, 7 , 6],\n",
    "    [9, 5 , 1],\n",
    "    [4, 3 , 8],\n",
    "]\n",
    "\n",
    "square2 = [\n",
    "    [8,1,5],\n",
    "    [3,5,7], \n",
    "    [4,9,2]]"
   ]
  },
  {
   "cell_type": "markdown",
   "id": "3ea4692e-f264-4435-8fdc-4cc3105a87ce",
   "metadata": {},
   "source": [
    "## Check magicness"
   ]
  },
  {
   "cell_type": "code",
   "execution_count": null,
   "id": "31a35fdd-d156-4ea3-bbeb-cc75da4c0b8c",
   "metadata": {},
   "outputs": [],
   "source": [
    "square = square1\n",
    "# square = square2"
   ]
  },
  {
   "cell_type": "code",
   "execution_count": null,
   "id": "1563075f-1a65-4b78-8d4f-ef2dd2a81506",
   "metadata": {},
   "outputs": [],
   "source": [
    "# with all rules magic_sum = n (n^2 +1) / 2"
   ]
  },
  {
   "cell_type": "code",
   "execution_count": 5,
   "id": "20ba2bb1-1433-43c4-84f7-c48dcaffabd0",
   "metadata": {},
   "outputs": [],
   "source": [
    "# check all rows are magic"
   ]
  },
  {
   "cell_type": "code",
   "execution_count": 7,
   "id": "38ee3c3c-8820-484b-94c8-c4adcb96604e",
   "metadata": {},
   "outputs": [],
   "source": [
    "# check all columns are magic"
   ]
  },
  {
   "cell_type": "code",
   "execution_count": 9,
   "id": "c871928b-652d-4be8-8cef-283ed25135a8",
   "metadata": {},
   "outputs": [],
   "source": [
    "# check 'diagonals' are magic"
   ]
  },
  {
   "cell_type": "code",
   "execution_count": null,
   "id": "119f5dbe-21e5-43bc-845f-3d9674f789d8",
   "metadata": {},
   "outputs": [],
   "source": [
    "# bonus: check all numbers are used once only, from range [1, n^2] "
   ]
  }
 ],
 "metadata": {
  "kernelspec": {
   "display_name": "Python 3 (ipykernel)",
   "language": "python",
   "name": "python3"
  },
  "language_info": {
   "codemirror_mode": {
    "name": "ipython",
    "version": 3
   },
   "file_extension": ".py",
   "mimetype": "text/x-python",
   "name": "python",
   "nbconvert_exporter": "python",
   "pygments_lexer": "ipython3",
   "version": "3.12.4"
  }
 },
 "nbformat": 4,
 "nbformat_minor": 5
}
