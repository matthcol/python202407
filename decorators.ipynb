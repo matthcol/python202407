{
 "cells": [
  {
   "cell_type": "markdown",
   "id": "7385f83b-3895-49f0-99a2-62717955c69a",
   "metadata": {},
   "source": [
    "# Decorators\n",
    "Article: https://realpython.com/primer-on-python-decorators/\n",
    "\n",
    "Examples:\n",
    "- @total_ordering\n",
    "- @dataclass\n",
    "- @abstractmethod\n",
    "- @property\n",
    "- @cache, @lru_cache\n",
    "- @override\n",
    "- @pytest.fixture, @pytest.mark.parametrize"
   ]
  },
  {
   "cell_type": "code",
   "execution_count": 125,
   "id": "8cd3d59f-9392-48a3-a773-3e8917a98dec",
   "metadata": {},
   "outputs": [],
   "source": [
    "from functools import lru_cache, wraps\n",
    "from datetime import datetime"
   ]
  },
  {
   "cell_type": "markdown",
   "id": "8c65633d-4c09-488d-a44b-60f57fe11c47",
   "metadata": {},
   "source": [
    "## Decorator lru_cache"
   ]
  },
  {
   "cell_type": "code",
   "execution_count": 42,
   "id": "f6a59248-ce64-46bd-ab20-54fc68f9e203",
   "metadata": {},
   "outputs": [
    {
     "data": {
      "text/plain": [
       "\u001b[1;31mSignature:\u001b[0m \u001b[0mlru_cache\u001b[0m\u001b[1;33m(\u001b[0m\u001b[0mmaxsize\u001b[0m\u001b[1;33m=\u001b[0m\u001b[1;36m128\u001b[0m\u001b[1;33m,\u001b[0m \u001b[0mtyped\u001b[0m\u001b[1;33m=\u001b[0m\u001b[1;32mFalse\u001b[0m\u001b[1;33m)\u001b[0m\u001b[1;33m\u001b[0m\u001b[1;33m\u001b[0m\u001b[0m\n",
       "\u001b[1;31mDocstring:\u001b[0m\n",
       "Least-recently-used cache decorator.\n",
       "\n",
       "If *maxsize* is set to None, the LRU features are disabled and the cache\n",
       "can grow without bound.\n",
       "\n",
       "If *typed* is True, arguments of different types will be cached separately.\n",
       "For example, f(3.0) and f(3) will be treated as distinct calls with\n",
       "distinct results.\n",
       "\n",
       "Arguments to the cached function must be hashable.\n",
       "\n",
       "View the cache statistics named tuple (hits, misses, maxsize, currsize)\n",
       "with f.cache_info().  Clear the cache and statistics with f.cache_clear().\n",
       "Access the underlying function with f.__wrapped__.\n",
       "\n",
       "See:  https://en.wikipedia.org/wiki/Cache_replacement_policies#Least_recently_used_(LRU)\n",
       "\u001b[1;31mFile:\u001b[0m      c:\\users\\matth\\anaconda3\\lib\\functools.py\n",
       "\u001b[1;31mType:\u001b[0m      function"
      ]
     },
     "metadata": {},
     "output_type": "display_data"
    }
   ],
   "source": [
    "lru_cache?"
   ]
  },
  {
   "cell_type": "code",
   "execution_count": 64,
   "id": "9ea0c702-62e0-4f1a-9c99-f30173923bd3",
   "metadata": {},
   "outputs": [],
   "source": [
    "@lru_cache\n",
    "def fibo(n):\n",
    "    \"\"\"Fibonacci series\"\"\"\n",
    "    match n:\n",
    "        case 0:\n",
    "            return 0\n",
    "        case 1:\n",
    "            return 1\n",
    "        case _:\n",
    "            return fibo(n-2) + fibo(n-1)"
   ]
  },
  {
   "cell_type": "code",
   "execution_count": 32,
   "id": "9830ce3e-4551-45e7-b6fa-a6b3cdfa5fb4",
   "metadata": {},
   "outputs": [
    {
     "data": {
      "text/plain": [
       "(0, 1, 1)"
      ]
     },
     "execution_count": 32,
     "metadata": {},
     "output_type": "execute_result"
    }
   ],
   "source": [
    "fibo(0), fibo(1), fibo(2)"
   ]
  },
  {
   "cell_type": "code",
   "execution_count": 34,
   "id": "b61dc104-04f4-450c-96a6-4c379ca08e06",
   "metadata": {},
   "outputs": [
    {
     "data": {
      "text/plain": [
       "[0, 1, 1, 2, 3, 5, 8]"
      ]
     },
     "execution_count": 34,
     "metadata": {},
     "output_type": "execute_result"
    }
   ],
   "source": [
    "[fibo(n) for n in range(7)]"
   ]
  },
  {
   "cell_type": "code",
   "execution_count": null,
   "id": "ecde6cb8-0b39-40c4-9fdf-adb9b9a6e36f",
   "metadata": {},
   "outputs": [],
   "source": []
  },
  {
   "cell_type": "code",
   "execution_count": 36,
   "id": "cb5186cc-280b-45cd-8bc1-1a0c4e9b86db",
   "metadata": {},
   "outputs": [
    {
     "data": {
      "text/plain": [
       "102334155"
      ]
     },
     "execution_count": 36,
     "metadata": {},
     "output_type": "execute_result"
    }
   ],
   "source": [
    "fibo(40)"
   ]
  },
  {
   "cell_type": "code",
   "execution_count": 54,
   "id": "0c93812e-84c9-41b8-bf89-c579ce486809",
   "metadata": {},
   "outputs": [],
   "source": [
    "def fibo2(n):\n",
    "    \"\"\"Fibonacci series\"\"\"\n",
    "    match n:\n",
    "        case 0:\n",
    "            return 0\n",
    "        case 1:\n",
    "            return 1\n",
    "        case _:\n",
    "            return fibo2(n-2) + fibo2(n-1)"
   ]
  },
  {
   "cell_type": "code",
   "execution_count": 52,
   "id": "ec67d300-fb45-4f53-98d5-608d15d2d9d1",
   "metadata": {},
   "outputs": [
    {
     "name": "stdout",
     "output_type": "stream",
     "text": [
      "1 s ± 21.1 ms per loop (mean ± std. dev. of 7 runs, 1 loop each)\n"
     ]
    }
   ],
   "source": [
    "%timeit fibo2(32)"
   ]
  },
  {
   "cell_type": "code",
   "execution_count": 56,
   "id": "ac5662a2-9a7e-497b-b0a5-e8b06cd772eb",
   "metadata": {},
   "outputs": [
    {
     "data": {
      "text/plain": [
       "<functools._lru_cache_wrapper at 0x1babcd38880>"
      ]
     },
     "execution_count": 56,
     "metadata": {},
     "output_type": "execute_result"
    }
   ],
   "source": [
    "fibo3 = lru_cache(fibo2)\n",
    "fibo3"
   ]
  },
  {
   "cell_type": "code",
   "execution_count": 60,
   "id": "757d69b9-3952-423b-8791-47259cd810a2",
   "metadata": {},
   "outputs": [
    {
     "name": "stdout",
     "output_type": "stream",
     "text": [
      "The slowest run took 10.00 times longer than the fastest. This could mean that an intermediate result is being cached.\n",
      "814 ns ± 900 ns per loop (mean ± std. dev. of 7 runs, 1 loop each)\n"
     ]
    }
   ],
   "source": [
    "%timeit fibo3(32)"
   ]
  },
  {
   "cell_type": "code",
   "execution_count": 68,
   "id": "86de1539-f361-44be-819d-4dc5dd64830d",
   "metadata": {},
   "outputs": [
    {
     "name": "stdout",
     "output_type": "stream",
     "text": [
      "130 ns ± 1.96 ns per loop (mean ± std. dev. of 7 runs, 10,000,000 loops each)\n"
     ]
    }
   ],
   "source": [
    "%timeit fibo(32)"
   ]
  },
  {
   "cell_type": "code",
   "execution_count": 66,
   "id": "b2bc6410-356d-4b00-b1ba-732df3f2a64e",
   "metadata": {},
   "outputs": [
    {
     "data": {
      "text/plain": [
       "\u001b[1;31mSignature:\u001b[0m       \u001b[0mfibo\u001b[0m\u001b[1;33m(\u001b[0m\u001b[0mn\u001b[0m\u001b[1;33m)\u001b[0m\u001b[1;33m\u001b[0m\u001b[1;33m\u001b[0m\u001b[0m\n",
       "\u001b[1;31mCall signature:\u001b[0m  \u001b[0mfibo\u001b[0m\u001b[1;33m(\u001b[0m\u001b[1;33m*\u001b[0m\u001b[0margs\u001b[0m\u001b[1;33m,\u001b[0m \u001b[1;33m**\u001b[0m\u001b[0mkwargs\u001b[0m\u001b[1;33m)\u001b[0m\u001b[1;33m\u001b[0m\u001b[1;33m\u001b[0m\u001b[0m\n",
       "\u001b[1;31mType:\u001b[0m            _lru_cache_wrapper\n",
       "\u001b[1;31mString form:\u001b[0m     <functools._lru_cache_wrapper object at 0x000001BABCD389E0>\n",
       "\u001b[1;31mFile:\u001b[0m            c:\\users\\matth\\appdata\\local\\temp\\ipykernel_15572\\3645992487.py\n",
       "\u001b[1;31mDocstring:\u001b[0m       Fibonacci series\n",
       "\u001b[1;31mClass docstring:\u001b[0m\n",
       "Create a cached callable that wraps another function.\n",
       "\n",
       "user_function:      the function being cached\n",
       "\n",
       "maxsize:  0         for no caching\n",
       "          None      for unlimited cache size\n",
       "          n         for a bounded cache\n",
       "\n",
       "typed:    False     cache f(3) and f(3.0) as identical calls\n",
       "          True      cache f(3) and f(3.0) as distinct calls\n",
       "\n",
       "cache_info_type:    namedtuple class with the fields:\n",
       "                        hits misses currsize maxsize"
      ]
     },
     "metadata": {},
     "output_type": "display_data"
    }
   ],
   "source": [
    "fibo?"
   ]
  },
  {
   "cell_type": "markdown",
   "id": "5048da39-327f-48b9-b442-a98d3da48f66",
   "metadata": {},
   "source": [
    "## Custom Decorator"
   ]
  },
  {
   "cell_type": "code",
   "execution_count": 127,
   "id": "3c001f94-7ba2-48d7-b5e3-5d1a4c454a9a",
   "metadata": {},
   "outputs": [],
   "source": [
    "def debug(f):\n",
    "    @wraps(f)\n",
    "    def wrapper(*args, **kwargs):\n",
    "        print(f\"[Call] function {f.__name__} at {datetime.now()} with args: {args}, {kwargs}\")\n",
    "        result = f(*args, **kwargs)\n",
    "        print(f\"[Result] function {f.__name__} at {datetime.now()}: {result}\")\n",
    "        return result\n",
    "    return wrapper"
   ]
  },
  {
   "cell_type": "code",
   "execution_count": 128,
   "id": "5c6606be-ca7d-4fd2-a59f-43681dd71a22",
   "metadata": {},
   "outputs": [],
   "source": [
    "@debug\n",
    "def f(n):\n",
    "    r = fibo(n)\n",
    "    print(\"Fibo:\", r)"
   ]
  },
  {
   "cell_type": "code",
   "execution_count": 129,
   "id": "03bde018-915d-4c82-bc35-f23c10bae341",
   "metadata": {},
   "outputs": [
    {
     "name": "stdout",
     "output_type": "stream",
     "text": [
      "[Call] function f at 2024-07-24 16:56:05.587257 with args: (40,), {}\n",
      "Fibo: 102334155\n",
      "[Result] function f at 2024-07-24 16:56:05.587257: None\n"
     ]
    }
   ],
   "source": [
    "f(40)"
   ]
  },
  {
   "cell_type": "code",
   "execution_count": 130,
   "id": "50228ae3-2170-4343-89a8-1f37f79f099a",
   "metadata": {},
   "outputs": [
    {
     "name": "stdout",
     "output_type": "stream",
     "text": [
      "[Call] function f at 2024-07-24 16:56:05.599183 with args: (), {'n': 40}\n",
      "Fibo: 102334155\n",
      "[Result] function f at 2024-07-24 16:56:05.599183: None\n"
     ]
    }
   ],
   "source": [
    "f(n=40)"
   ]
  },
  {
   "cell_type": "code",
   "execution_count": 131,
   "id": "3211796a-a4f5-409a-a1ef-291cb7980cc9",
   "metadata": {
    "scrolled": true
   },
   "outputs": [
    {
     "name": "stdout",
     "output_type": "stream",
     "text": [
      "[Call] function fibo3 at 2024-07-24 16:56:05.612452 with args: (5,), {}\n",
      "[Call] function fibo3 at 2024-07-24 16:56:05.612452 with args: (3,), {}\n",
      "[Call] function fibo3 at 2024-07-24 16:56:05.612452 with args: (1,), {}\n",
      "[Result] function fibo3 at 2024-07-24 16:56:05.612452: 1\n",
      "[Call] function fibo3 at 2024-07-24 16:56:05.612452 with args: (2,), {}\n",
      "[Call] function fibo3 at 2024-07-24 16:56:05.612452 with args: (0,), {}\n",
      "[Result] function fibo3 at 2024-07-24 16:56:05.612452: 0\n",
      "[Call] function fibo3 at 2024-07-24 16:56:05.612452 with args: (1,), {}\n",
      "[Result] function fibo3 at 2024-07-24 16:56:05.612452: 1\n",
      "[Result] function fibo3 at 2024-07-24 16:56:05.612452: 1\n",
      "[Result] function fibo3 at 2024-07-24 16:56:05.612452: 2\n",
      "[Call] function fibo3 at 2024-07-24 16:56:05.612452 with args: (4,), {}\n",
      "[Call] function fibo3 at 2024-07-24 16:56:05.612452 with args: (2,), {}\n",
      "[Call] function fibo3 at 2024-07-24 16:56:05.612452 with args: (0,), {}\n",
      "[Result] function fibo3 at 2024-07-24 16:56:05.612452: 0\n",
      "[Call] function fibo3 at 2024-07-24 16:56:05.612452 with args: (1,), {}\n",
      "[Result] function fibo3 at 2024-07-24 16:56:05.612452: 1\n",
      "[Result] function fibo3 at 2024-07-24 16:56:05.612452: 1\n",
      "[Call] function fibo3 at 2024-07-24 16:56:05.612452 with args: (3,), {}\n",
      "[Call] function fibo3 at 2024-07-24 16:56:05.612452 with args: (1,), {}\n",
      "[Result] function fibo3 at 2024-07-24 16:56:05.612452: 1\n",
      "[Call] function fibo3 at 2024-07-24 16:56:05.612452 with args: (2,), {}\n",
      "[Call] function fibo3 at 2024-07-24 16:56:05.612452 with args: (0,), {}\n",
      "[Result] function fibo3 at 2024-07-24 16:56:05.612452: 0\n",
      "[Call] function fibo3 at 2024-07-24 16:56:05.612452 with args: (1,), {}\n",
      "[Result] function fibo3 at 2024-07-24 16:56:05.612452: 1\n",
      "[Result] function fibo3 at 2024-07-24 16:56:05.612452: 1\n",
      "[Result] function fibo3 at 2024-07-24 16:56:05.612452: 2\n",
      "[Result] function fibo3 at 2024-07-24 16:56:05.612452: 3\n",
      "[Result] function fibo3 at 2024-07-24 16:56:05.612452: 5\n"
     ]
    },
    {
     "data": {
      "text/plain": [
       "5"
      ]
     },
     "execution_count": 131,
     "metadata": {},
     "output_type": "execute_result"
    }
   ],
   "source": [
    "@debug\n",
    "def fibo3(n):\n",
    "    \"\"\"Fibonacci series\"\"\"\n",
    "    match n:\n",
    "        case 0:\n",
    "            return 0\n",
    "        case 1:\n",
    "            return 1\n",
    "        case _:\n",
    "            return fibo3(n-2) + fibo3(n-1)\n",
    "\n",
    "fibo3(5)"
   ]
  },
  {
   "cell_type": "code",
   "execution_count": 132,
   "id": "3c39d212-aa8f-4613-85da-a0965109dba0",
   "metadata": {},
   "outputs": [
    {
     "name": "stdout",
     "output_type": "stream",
     "text": [
      "[Call] function fibo4 at 2024-07-24 16:56:05.626530 with args: (10,), {}\n",
      "[Call] function fibo4 at 2024-07-24 16:56:05.626530 with args: (8,), {}\n",
      "[Call] function fibo4 at 2024-07-24 16:56:05.626530 with args: (6,), {}\n",
      "[Call] function fibo4 at 2024-07-24 16:56:05.626530 with args: (4,), {}\n",
      "[Call] function fibo4 at 2024-07-24 16:56:05.626530 with args: (2,), {}\n",
      "[Call] function fibo4 at 2024-07-24 16:56:05.626530 with args: (0,), {}\n",
      "[Result] function fibo4 at 2024-07-24 16:56:05.626530: 0\n",
      "[Call] function fibo4 at 2024-07-24 16:56:05.626530 with args: (1,), {}\n",
      "[Result] function fibo4 at 2024-07-24 16:56:05.626530: 1\n",
      "[Result] function fibo4 at 2024-07-24 16:56:05.626530: 1\n",
      "[Call] function fibo4 at 2024-07-24 16:56:05.626530 with args: (3,), {}\n",
      "[Call] function fibo4 at 2024-07-24 16:56:05.626530 with args: (1,), {}\n",
      "[Result] function fibo4 at 2024-07-24 16:56:05.626530: 1\n",
      "[Call] function fibo4 at 2024-07-24 16:56:05.626530 with args: (2,), {}\n",
      "[Result] function fibo4 at 2024-07-24 16:56:05.626530: 1\n",
      "[Result] function fibo4 at 2024-07-24 16:56:05.626530: 2\n",
      "[Result] function fibo4 at 2024-07-24 16:56:05.626530: 3\n",
      "[Call] function fibo4 at 2024-07-24 16:56:05.626530 with args: (5,), {}\n",
      "[Call] function fibo4 at 2024-07-24 16:56:05.626530 with args: (3,), {}\n",
      "[Result] function fibo4 at 2024-07-24 16:56:05.626530: 2\n",
      "[Call] function fibo4 at 2024-07-24 16:56:05.626530 with args: (4,), {}\n",
      "[Result] function fibo4 at 2024-07-24 16:56:05.626530: 3\n",
      "[Result] function fibo4 at 2024-07-24 16:56:05.626530: 5\n",
      "[Result] function fibo4 at 2024-07-24 16:56:05.626530: 8\n",
      "[Call] function fibo4 at 2024-07-24 16:56:05.626530 with args: (7,), {}\n",
      "[Call] function fibo4 at 2024-07-24 16:56:05.626530 with args: (5,), {}\n",
      "[Result] function fibo4 at 2024-07-24 16:56:05.626530: 5\n",
      "[Call] function fibo4 at 2024-07-24 16:56:05.627528 with args: (6,), {}\n",
      "[Result] function fibo4 at 2024-07-24 16:56:05.627528: 8\n",
      "[Result] function fibo4 at 2024-07-24 16:56:05.627528: 13\n",
      "[Result] function fibo4 at 2024-07-24 16:56:05.627528: 21\n",
      "[Call] function fibo4 at 2024-07-24 16:56:05.627528 with args: (9,), {}\n",
      "[Call] function fibo4 at 2024-07-24 16:56:05.627528 with args: (7,), {}\n",
      "[Result] function fibo4 at 2024-07-24 16:56:05.627528: 13\n",
      "[Call] function fibo4 at 2024-07-24 16:56:05.627528 with args: (8,), {}\n",
      "[Result] function fibo4 at 2024-07-24 16:56:05.627528: 21\n",
      "[Result] function fibo4 at 2024-07-24 16:56:05.627528: 34\n",
      "[Result] function fibo4 at 2024-07-24 16:56:05.627528: 55\n"
     ]
    },
    {
     "data": {
      "text/plain": [
       "55"
      ]
     },
     "execution_count": 132,
     "metadata": {},
     "output_type": "execute_result"
    }
   ],
   "source": [
    "@debug\n",
    "@lru_cache\n",
    "def fibo4(n):\n",
    "    \"\"\"Fibonacci series\"\"\"\n",
    "    match n:\n",
    "        case 0:\n",
    "            return 0\n",
    "        case 1:\n",
    "            return 1\n",
    "        case _:\n",
    "            return fibo4(n-2) + fibo4(n-1)\n",
    "\n",
    "fibo4(10)"
   ]
  },
  {
   "cell_type": "code",
   "execution_count": 133,
   "id": "9114afdc-6a3a-4efd-a2fa-bdc9e214bd75",
   "metadata": {},
   "outputs": [
    {
     "data": {
      "text/plain": [
       "\u001b[1;31mSignature:\u001b[0m \u001b[0mfibo4\u001b[0m\u001b[1;33m(\u001b[0m\u001b[0mn\u001b[0m\u001b[1;33m)\u001b[0m\u001b[1;33m\u001b[0m\u001b[1;33m\u001b[0m\u001b[0m\n",
       "\u001b[1;31mDocstring:\u001b[0m Fibonacci series\n",
       "\u001b[1;31mFile:\u001b[0m      c:\\users\\matth\\appdata\\local\\temp\\ipykernel_15572\\2152332571.py\n",
       "\u001b[1;31mType:\u001b[0m      function"
      ]
     },
     "metadata": {},
     "output_type": "display_data"
    }
   ],
   "source": [
    "fibo4?"
   ]
  },
  {
   "cell_type": "code",
   "execution_count": 134,
   "id": "605e211c-b027-455e-9622-b7e5df6dba99",
   "metadata": {},
   "outputs": [
    {
     "data": {
      "text/plain": [
       "'fibo4'"
      ]
     },
     "execution_count": 134,
     "metadata": {},
     "output_type": "execute_result"
    }
   ],
   "source": [
    "fibo4.__name__"
   ]
  },
  {
   "cell_type": "code",
   "execution_count": 135,
   "id": "4c6304b4-5bf0-42c5-af3d-7b9d81930981",
   "metadata": {},
   "outputs": [
    {
     "name": "stdout",
     "output_type": "stream",
     "text": [
      "[Call] function fibo5 at 2024-07-24 16:56:05.651322 with args: (10,), {}\n",
      "[Call] function fibo5 at 2024-07-24 16:56:05.652322 with args: (8,), {}\n",
      "[Call] function fibo5 at 2024-07-24 16:56:05.652322 with args: (6,), {}\n",
      "[Call] function fibo5 at 2024-07-24 16:56:05.652322 with args: (4,), {}\n",
      "[Call] function fibo5 at 2024-07-24 16:56:05.652322 with args: (2,), {}\n",
      "[Call] function fibo5 at 2024-07-24 16:56:05.652322 with args: (0,), {}\n",
      "[Result] function fibo5 at 2024-07-24 16:56:05.652322: 0\n",
      "[Call] function fibo5 at 2024-07-24 16:56:05.652322 with args: (1,), {}\n",
      "[Result] function fibo5 at 2024-07-24 16:56:05.652322: 1\n",
      "[Result] function fibo5 at 2024-07-24 16:56:05.652322: 1\n",
      "[Call] function fibo5 at 2024-07-24 16:56:05.652322 with args: (3,), {}\n",
      "[Result] function fibo5 at 2024-07-24 16:56:05.652322: 2\n",
      "[Result] function fibo5 at 2024-07-24 16:56:05.652322: 3\n",
      "[Call] function fibo5 at 2024-07-24 16:56:05.652322 with args: (5,), {}\n",
      "[Result] function fibo5 at 2024-07-24 16:56:05.652322: 5\n",
      "[Result] function fibo5 at 2024-07-24 16:56:05.652322: 8\n",
      "[Call] function fibo5 at 2024-07-24 16:56:05.652322 with args: (7,), {}\n",
      "[Result] function fibo5 at 2024-07-24 16:56:05.652322: 13\n",
      "[Result] function fibo5 at 2024-07-24 16:56:05.652322: 21\n",
      "[Call] function fibo5 at 2024-07-24 16:56:05.652322 with args: (9,), {}\n",
      "[Result] function fibo5 at 2024-07-24 16:56:05.652322: 34\n",
      "[Result] function fibo5 at 2024-07-24 16:56:05.652322: 55\n"
     ]
    },
    {
     "data": {
      "text/plain": [
       "55"
      ]
     },
     "execution_count": 135,
     "metadata": {},
     "output_type": "execute_result"
    }
   ],
   "source": [
    "@lru_cache\n",
    "@debug\n",
    "def fibo5(n):\n",
    "    \"\"\"Fibonacci series\"\"\"\n",
    "    match n:\n",
    "        case 0:\n",
    "            return 0\n",
    "        case 1:\n",
    "            return 1\n",
    "        case _:\n",
    "            return fibo5(n-2) + fibo5(n-1)\n",
    "\n",
    "fibo5(10)"
   ]
  }
 ],
 "metadata": {
  "kernelspec": {
   "display_name": "Python 3 (ipykernel)",
   "language": "python",
   "name": "python3"
  },
  "language_info": {
   "codemirror_mode": {
    "name": "ipython",
    "version": 3
   },
   "file_extension": ".py",
   "mimetype": "text/x-python",
   "name": "python",
   "nbconvert_exporter": "python",
   "pygments_lexer": "ipython3",
   "version": "3.12.3"
  }
 },
 "nbformat": 4,
 "nbformat_minor": 5
}
