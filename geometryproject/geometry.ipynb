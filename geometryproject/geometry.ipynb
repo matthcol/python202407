{
 "cells": [
  {
   "cell_type": "markdown",
   "id": "ba151c6f-7e80-40f7-9917-dadf325f14bf",
   "metadata": {},
   "source": [
    "# Geometry"
   ]
  },
  {
   "cell_type": "code",
   "execution_count": 2,
   "id": "779bd54c-6fc3-4bce-be2a-db59630937ed",
   "metadata": {},
   "outputs": [],
   "source": [
    "%load_ext autoreload\n",
    "%autoreload 2"
   ]
  },
  {
   "cell_type": "code",
   "execution_count": 64,
   "id": "54237195-4763-41a9-b94a-f0634afb7816",
   "metadata": {},
   "outputs": [],
   "source": [
    "from form import Form\n",
    "from point import Point\n",
    "from circle import Circle\n",
    "from polygon import Polygon\n",
    "from weightedpoint import WeightedPoint\n",
    "from mesurable import Mesurable2D"
   ]
  },
  {
   "cell_type": "markdown",
   "id": "5bbab899-d0b1-4010-9b4d-d01ec6295857",
   "metadata": {},
   "source": [
    "## Points"
   ]
  },
  {
   "cell_type": "code",
   "execution_count": 5,
   "id": "1a222cc2-c205-4029-85ba-af23ac1914f6",
   "metadata": {},
   "outputs": [
    {
     "data": {
      "text/plain": [
       "(Point(name=None, x=0.0, y=0.0),\n",
       " Point(name='O', x=0.0, y=0.0),\n",
       " Point(name=None, x=2.0, y=4.0))"
      ]
     },
     "execution_count": 5,
     "metadata": {},
     "output_type": "execute_result"
    }
   ],
   "source": [
    "p1 = Point()\n",
    "p2 = Point(name=\"O\")\n",
    "p3 = Point(x=2.0, y=4.0)\n",
    "p1, p2, p3"
   ]
  },
  {
   "cell_type": "code",
   "execution_count": 6,
   "id": "2e630de8-5706-4157-9700-6b7b5cb30251",
   "metadata": {},
   "outputs": [
    {
     "data": {
      "text/plain": [
       "Point(name='A', x=3.5, y=7.25)"
      ]
     },
     "execution_count": 6,
     "metadata": {},
     "output_type": "execute_result"
    }
   ],
   "source": [
    "point_a = Point(name=\"A\", x=3.5, y=7.25)\n",
    "point_a"
   ]
  },
  {
   "cell_type": "code",
   "execution_count": 7,
   "id": "0c73cbbd-c3f5-4ec4-9e7f-f9b0c6daaeac",
   "metadata": {},
   "outputs": [
    {
     "data": {
      "text/plain": [
       "Point(name='B', x=7.5, y=4.25)"
      ]
     },
     "execution_count": 7,
     "metadata": {},
     "output_type": "execute_result"
    }
   ],
   "source": [
    "point_b = Point(name=\"B\", x=7.5, y=4.25)\n",
    "point_b"
   ]
  },
  {
   "cell_type": "code",
   "execution_count": 8,
   "id": "a7b3f85d-55c9-492d-a6b4-4f87dfac7d4c",
   "metadata": {},
   "outputs": [
    {
     "name": "stdout",
     "output_type": "stream",
     "text": [
      "Point(name='A', x=3.5, y=7.25)\n",
      "Point(name='B', x=7.5, y=4.25)\n"
     ]
    }
   ],
   "source": [
    "for p in point_a, point_b:\n",
    "    print(p)"
   ]
  },
  {
   "cell_type": "code",
   "execution_count": 9,
   "id": "15d8a05e-620b-44ed-860c-215a4133fc2d",
   "metadata": {},
   "outputs": [
    {
     "data": {
      "text/plain": [
       "5.0"
      ]
     },
     "execution_count": 9,
     "metadata": {},
     "output_type": "execute_result"
    }
   ],
   "source": [
    "d = point_a.distance(point_b)\n",
    "d"
   ]
  },
  {
   "cell_type": "code",
   "execution_count": 10,
   "id": "a92540cd-3797-419b-9135-99a765271b92",
   "metadata": {},
   "outputs": [
    {
     "data": {
      "text/plain": [
       "\u001b[1;31mSignature:\u001b[0m \u001b[0mpoint_a\u001b[0m\u001b[1;33m.\u001b[0m\u001b[0mdistance\u001b[0m\u001b[1;33m(\u001b[0m\u001b[0mother\u001b[0m\u001b[1;33m:\u001b[0m \u001b[1;34m'Point'\u001b[0m\u001b[1;33m)\u001b[0m \u001b[1;33m->\u001b[0m \u001b[0mfloat\u001b[0m\u001b[1;33m\u001b[0m\u001b[1;33m\u001b[0m\u001b[0m\n",
       "\u001b[1;31mDocstring:\u001b[0m <no docstring>\n",
       "\u001b[1;31mFile:\u001b[0m      c:\\users\\matth\\documents\\formation\\python\\stage20240722perf\\geometryproject\\point.py\n",
       "\u001b[1;31mType:\u001b[0m      method"
      ]
     },
     "metadata": {},
     "output_type": "display_data"
    }
   ],
   "source": [
    "point_a.distance?"
   ]
  },
  {
   "cell_type": "markdown",
   "id": "078c2231-1f8f-410d-a0ec-f30e198bdd4f",
   "metadata": {},
   "source": [
    "Circles"
   ]
  },
  {
   "cell_type": "code",
   "execution_count": 12,
   "id": "9cf27fb1-54b1-4a25-97b3-4253836eed50",
   "metadata": {},
   "outputs": [
    {
     "data": {
      "text/plain": [
       "[Circle(name='C1', center=Point(name='A', x=3.5, y=7.25), radius=1.0),\n",
       " Circle(name='C2', center=Point(name='A', x=3.5, y=7.25), radius=2.0),\n",
       " Circle(name='C3', center=Point(name='A', x=3.5, y=7.25), radius=3.0),\n",
       " Circle(name='C4', center=Point(name='A', x=3.5, y=7.25), radius=4.0),\n",
       " Circle(name='C5', center=Point(name='A', x=3.5, y=7.25), radius=5.0),\n",
       " Circle(name='C6', center=Point(name='A', x=3.5, y=7.25), radius=6.0),\n",
       " Circle(name='C7', center=Point(name='A', x=3.5, y=7.25), radius=7.0),\n",
       " Circle(name='C8', center=Point(name='A', x=3.5, y=7.25), radius=8.0),\n",
       " Circle(name='C9', center=Point(name='A', x=3.5, y=7.25), radius=9.0),\n",
       " Circle(name='C10', center=Point(name='A', x=3.5, y=7.25), radius=10.0)]"
      ]
     },
     "execution_count": 12,
     "metadata": {},
     "output_type": "execute_result"
    }
   ],
   "source": [
    "circles = [Circle(name=f\"C{n}\", center=point_a, radius=float(n)) for n in range(1, 11)]\n",
    "circles"
   ]
  },
  {
   "cell_type": "code",
   "execution_count": 13,
   "id": "bfdd54f6-f539-444d-8d02-9d9c4fa4496d",
   "metadata": {},
   "outputs": [
    {
     "name": "stdout",
     "output_type": "stream",
     "text": [
      "C1 ; diameter = 2.0\n",
      "C2 ; diameter = 4.0\n",
      "C3 ; diameter = 6.0\n",
      "C4 ; diameter = 8.0\n",
      "C5 ; diameter = 10.0\n",
      "C6 ; diameter = 12.0\n",
      "C7 ; diameter = 14.0\n",
      "C8 ; diameter = 16.0\n",
      "C9 ; diameter = 18.0\n",
      "C10 ; diameter = 20.0\n"
     ]
    }
   ],
   "source": [
    "for c in circles:\n",
    "    print(c.name, \"; diameter =\", c.diameter)"
   ]
  },
  {
   "cell_type": "code",
   "execution_count": 14,
   "id": "849d4652-69c5-4ed6-a485-8cbf166a0a96",
   "metadata": {},
   "outputs": [],
   "source": [
    "# AttributeError: property 'diameter' of 'Circle' object has no setter\n",
    "# c.diameter = 20"
   ]
  },
  {
   "cell_type": "code",
   "execution_count": 15,
   "id": "9e0abe96-a933-4dfc-9ccd-8aaa6633c85c",
   "metadata": {},
   "outputs": [
    {
     "data": {
      "text/plain": [
       "(9.5, 19.0)"
      ]
     },
     "execution_count": 15,
     "metadata": {},
     "output_type": "execute_result"
    }
   ],
   "source": [
    "c.diameter = 19.0\n",
    "c.radius, c.diameter"
   ]
  },
  {
   "cell_type": "code",
   "execution_count": 16,
   "id": "1adde8a7-a435-4fd5-9f65-856749de8b85",
   "metadata": {},
   "outputs": [
    {
     "data": {
      "text/plain": [
       "(Circle(name='C1', center=Point(name=None, x=0.0, y=0.0), radius=12.0),\n",
       " Circle(name='C2', center=Point(name=None, x=0.0, y=0.0), radius=6.0))"
      ]
     },
     "execution_count": 16,
     "metadata": {},
     "output_type": "execute_result"
    }
   ],
   "source": [
    "circle1 = Circle(name=\"C1\", radius=12.0)\n",
    "circle2 = Circle(name=\"C2\", radius=6.0)\n",
    "circle1, circle2"
   ]
  },
  {
   "cell_type": "code",
   "execution_count": 17,
   "id": "2b3179c5-0dbd-4379-8a86-fe2e8957b75b",
   "metadata": {},
   "outputs": [
    {
     "data": {
      "text/plain": [
       "False"
      ]
     },
     "execution_count": 17,
     "metadata": {},
     "output_type": "execute_result"
    }
   ],
   "source": [
    "circle1.center is circle2.center"
   ]
  },
  {
   "cell_type": "code",
   "execution_count": 18,
   "id": "ad9a9d25-993b-4f05-a97a-71648684b0ac",
   "metadata": {},
   "outputs": [
    {
     "data": {
      "text/plain": [
       "(Circle(name='C1', center=Point(name=None, x=12.5, y=0.0), radius=12.0),\n",
       " Circle(name='C2', center=Point(name=None, x=0.0, y=0.0), radius=6.0))"
      ]
     },
     "execution_count": 18,
     "metadata": {},
     "output_type": "execute_result"
    }
   ],
   "source": [
    "circle1.center.x = 12.5\n",
    "circle1, circle2"
   ]
  },
  {
   "cell_type": "markdown",
   "id": "663d383c-a8bb-40b8-84ab-c64344277d6b",
   "metadata": {},
   "source": [
    "# Forms"
   ]
  },
  {
   "cell_type": "code",
   "execution_count": 20,
   "id": "0ddd31b6-6580-4655-ac04-4a0b60104650",
   "metadata": {},
   "outputs": [
    {
     "data": {
      "text/plain": [
       "[Point(name='A', x=0.0, y=0.0),\n",
       " Circle(name='C1', center=Point(name=None, x=0.0, y=0.0), radius=1.0),\n",
       " Polygon(name='ABCD', vertices=[])]"
      ]
     },
     "execution_count": 20,
     "metadata": {},
     "output_type": "execute_result"
    }
   ],
   "source": [
    "forms: list[Form] = [\n",
    "    Point(name=\"A\"),\n",
    "    Circle(name=\"C1\"),\n",
    "    Polygon(name=\"ABCD\")\n",
    "]\n",
    "forms"
   ]
  },
  {
   "cell_type": "code",
   "execution_count": 21,
   "id": "25975ad0-8919-4050-a7e6-d5e0f3e81558",
   "metadata": {},
   "outputs": [
    {
     "name": "stdout",
     "output_type": "stream",
     "text": [
      "A\n",
      "C1\n",
      "ABCD\n"
     ]
    }
   ],
   "source": [
    "for f in forms:\n",
    "    print(f.name)"
   ]
  },
  {
   "cell_type": "code",
   "execution_count": 22,
   "id": "edb6e246-6386-41a1-a73b-6ce9dd6121b8",
   "metadata": {},
   "outputs": [
    {
     "data": {
      "text/plain": [
       "True"
      ]
     },
     "execution_count": 22,
     "metadata": {},
     "output_type": "execute_result"
    }
   ],
   "source": [
    "f0 = forms[0]\n",
    "isinstance(f0, Point)"
   ]
  },
  {
   "cell_type": "code",
   "execution_count": 23,
   "id": "48248ce2-6d06-41e1-a36b-48e42bcf24c7",
   "metadata": {},
   "outputs": [
    {
     "data": {
      "text/plain": [
       "True"
      ]
     },
     "execution_count": 23,
     "metadata": {},
     "output_type": "execute_result"
    }
   ],
   "source": [
    "isinstance(f0, (Point, Form, object))"
   ]
  },
  {
   "cell_type": "code",
   "execution_count": 24,
   "id": "e23c43f3-a48e-47df-9525-374b2b40df2d",
   "metadata": {},
   "outputs": [
    {
     "data": {
      "text/plain": [
       "False"
      ]
     },
     "execution_count": 24,
     "metadata": {},
     "output_type": "execute_result"
    }
   ],
   "source": [
    "isinstance(f0, WeightedPoint)"
   ]
  },
  {
   "cell_type": "code",
   "execution_count": 26,
   "id": "9f392ebd-0d56-4d97-8b13-91d1cd364cda",
   "metadata": {},
   "outputs": [],
   "source": [
    "# TypeError: Can't instantiate abstract class Form without an implementation for abstract method 'translate'\n",
    "# f = Form()\n",
    "# f"
   ]
  },
  {
   "cell_type": "markdown",
   "id": "074ad581-cff7-413c-96d6-60b870b3343b",
   "metadata": {},
   "source": [
    "## Pattern Matching\n",
    "https://peps.python.org/pep-0636/"
   ]
  },
  {
   "cell_type": "code",
   "execution_count": 58,
   "id": "5d201653-cffd-4188-b679-c2354c2ae0d4",
   "metadata": {},
   "outputs": [],
   "source": [
    "forms = [\n",
    "    Point(name=\"A\", x=1.0, y=3.0),\n",
    "    Point(name=\"B\", x=1.0, y=2.0),\n",
    "    Point(name=\"D\", x=4.0, y=2.0),\n",
    "    WeightedPoint(name=\"W\", x=4.0, y=2.0, weight=5.0),\n",
    "    Point(name=\"E\", x=4.0, y=3.0),\n",
    "    Point(name=\"F\", x=40.0, y=30.0),\n",
    "    Circle(name=\"C1\"),\n",
    "    Polygon(name=\"ABCD\", vertices=[\n",
    "        Point(),\n",
    "        Point(),\n",
    "        Point(),\n",
    "        Point()\n",
    "    ]),\n",
    "    Polygon(name=\"ABC\", vertices=[\n",
    "        Point(),\n",
    "        Point(),\n",
    "        Point(),\n",
    "    ])\n",
    "]"
   ]
  },
  {
   "cell_type": "code",
   "execution_count": 44,
   "id": "e02fd758-1b39-4b53-a4d3-58cdf4bd3be6",
   "metadata": {},
   "outputs": [
    {
     "name": "stdout",
     "output_type": "stream",
     "text": [
      "This is a point: Point(name='A', x=1.0, y=3.0)\n",
      "This is a point: Point(name='B', x=1.0, y=2.0)\n",
      "This is a point: Point(name='D', x=4.0, y=2.0)\n",
      "This is a point: WeightedPoint(name='W', x=4.0, y=2.0, weight=5.0)\n",
      "This is a point: Point(name='E', x=4.0, y=3.0)\n",
      "This is a circle Circle(name='C1', center=Point(name=None, x=0.0, y=0.0), radius=1.0)\n",
      "This is a polygon Polygon(name='ABCD', vertices=[])\n",
      "This is a polygon Polygon(name='ABC', vertices=[])\n"
     ]
    }
   ],
   "source": [
    "for f in forms:\n",
    "    match f:\n",
    "        case Point(): # capture Point and WeightedPoint\n",
    "            print(\"This is a point:\", f)\n",
    "        case Circle():\n",
    "            print(\"This is a circle\", f)\n",
    "        case Polygon():\n",
    "            print(\"This is a polygon\", f)\n",
    "        case _:\n",
    "            print(\"Unknown form:\", f)     "
   ]
  },
  {
   "cell_type": "code",
   "execution_count": 46,
   "id": "0aa638b4-75f2-4811-a0ea-f9d5d05dbac9",
   "metadata": {},
   "outputs": [
    {
     "name": "stdout",
     "output_type": "stream",
     "text": [
      "A\n",
      "\t This is a point: Point(name='A', x=1.0, y=3.0)\n",
      "\t 1.0 3.0\n",
      "B\n",
      "\t This is a point: Point(name='B', x=1.0, y=2.0)\n",
      "\t 1.0 2.0\n",
      "D\n",
      "\t This is a point: Point(name='D', x=4.0, y=2.0)\n",
      "\t 4.0 2.0\n",
      "W\n",
      "\t This is a weighted point: WeightedPoint(name='W', x=4.0, y=2.0, weight=5.0)\n",
      "\t 4.0 2.0 5.0\n",
      "E\n",
      "\t This is a point: Point(name='E', x=4.0, y=3.0)\n",
      "\t 4.0 3.0\n",
      "C1\n",
      "\t This is a circle Circle(name='C1', center=Point(name=None, x=0.0, y=0.0), radius=1.0)\n",
      "\t 1.0 Point(name=None, x=0.0, y=0.0)\n",
      "ABCD\n",
      "\t This is a polygon Polygon(name='ABCD', vertices=[])\n",
      "\t []\n",
      "ABC\n",
      "\t This is a polygon Polygon(name='ABC', vertices=[])\n",
      "\t []\n"
     ]
    }
   ],
   "source": [
    "for f in forms:\n",
    "    print(f.name)\n",
    "    match f:\n",
    "        case WeightedPoint():\n",
    "            print(\"\\t This is a weighted point:\", f)\n",
    "            print(\"\\t\", f.x, f.y, f.weight)\n",
    "        case Point(): \n",
    "            print(\"\\t This is a point:\", f)\n",
    "            print(\"\\t\", f.x, f.y)\n",
    "        case Circle():\n",
    "            print(\"\\t This is a circle\", f)\n",
    "            print(\"\\t\", f.radius, f.center)\n",
    "        case Polygon():\n",
    "            print(\"\\t This is a polygon\", f)\n",
    "            print(\"\\t\", f.vertices)\n",
    "        case _:\n",
    "            print(\"\\t Unknown form:\", f)  "
   ]
  },
  {
   "cell_type": "code",
   "execution_count": 53,
   "id": "28e800ad-54c0-44fd-8fa4-34f843435a4a",
   "metadata": {},
   "outputs": [
    {
     "name": "stdout",
     "output_type": "stream",
     "text": [
      "A\n",
      "\t Point with coord x = 1:  Point(name='A', x=1.0, y=3.0)\n",
      "B\n",
      "\t Point with coord x = 1:  Point(name='B', x=1.0, y=2.0)\n",
      "D\n",
      "\t Point with coord y = 2:  4.0 D\n",
      "W\n",
      "\t Point with coord y = 2:  4.0 W\n",
      "E\n",
      "\t Point with coords x + y < 10: 4.0 3.0\n",
      "F\n",
      "\t Autre point\n",
      "C1\n",
      "ABCD\n",
      "ABC\n"
     ]
    }
   ],
   "source": [
    "for f in forms:\n",
    "    print(f.name)\n",
    "    match f:\n",
    "        case Point(x=1.0): \n",
    "            print(\"\\t Point with coord x = 1: \", f )\n",
    "        case Point(x=x, y=2.0, name=name):\n",
    "            print(\"\\t Point with coord y = 2: \", x, name)\n",
    "        case Point(x=x, y=y) if x + y < 10:\n",
    "            print(\"\\t Point with coords x + y < 10:\", x, y)\n",
    "        case Point():\n",
    "            print(\"\\t Autre point\")"
   ]
  },
  {
   "cell_type": "markdown",
   "id": "8f55d806-7d79-4521-b1b7-c76ca239f68b",
   "metadata": {},
   "source": [
    "## Interfaces (UML)\n",
    "- https://docs.python.org/3/library/abc.html\n",
    "- https://docs.python.org/3/library/collections.abc.html"
   ]
  },
  {
   "cell_type": "code",
   "execution_count": null,
   "id": "50e49c62-ecaa-48f8-b29c-65914835e046",
   "metadata": {},
   "outputs": [],
   "source": []
  },
  {
   "cell_type": "code",
   "execution_count": 66,
   "id": "802d0ce6-24e0-4c3f-924e-93b465936f45",
   "metadata": {},
   "outputs": [
    {
     "name": "stdout",
     "output_type": "stream",
     "text": [
      "A\n",
      "B\n",
      "D\n",
      "W\n",
      "E\n",
      "F\n",
      "C1\n",
      "\t surface = 3.141592653589793 ; perimeter = 6.283185307179586\n",
      "ABCD\n",
      "\t surface = 0.0 ; perimeter = 0.0\n",
      "ABC\n",
      "\t surface = 0.0 ; perimeter = 0.0\n"
     ]
    }
   ],
   "source": [
    "for f in forms:\n",
    "    print(f.name)\n",
    "    match f:\n",
    "        case Mesurable2D():\n",
    "            print(f\"\\t surface = {f.surface()} ; perimeter = {f.perimeter()}\")\n",
    "        case _:\n",
    "            pass"
   ]
  },
  {
   "cell_type": "code",
   "execution_count": 68,
   "id": "dc1cd7b2-706a-4579-88ca-1f1916e0472d",
   "metadata": {},
   "outputs": [
    {
     "name": "stdout",
     "output_type": "stream",
     "text": [
      "A\n",
      "B\n",
      "D\n",
      "W\n",
      "E\n",
      "F\n",
      "C1\n",
      "\t surface = 3.141592653589793 ; perimeter = 6.283185307179586\n",
      "ABCD\n",
      "\t surface = 0.0 ; perimeter = 0.0\n",
      "ABC\n",
      "\t surface = 0.0 ; perimeter = 0.0\n"
     ]
    }
   ],
   "source": [
    "for f in forms:\n",
    "    print(f.name)\n",
    "    if isinstance(f, Mesurable2D):\n",
    "        print(f\"\\t surface = {f.surface()} ; perimeter = {f.perimeter()}\")\n",
    "        "
   ]
  },
  {
   "cell_type": "code",
   "execution_count": 75,
   "id": "ea070c53-75a4-4174-aef1-518ec599dcb1",
   "metadata": {},
   "outputs": [],
   "source": [
    "poly = Polygon(name=\"ABC\", vertices=[\n",
    "        Point(name=\"A\"),\n",
    "        Point(name=\"B\"),\n",
    "        Point(name=\"C\"),\n",
    "    ])"
   ]
  },
  {
   "cell_type": "code",
   "execution_count": 81,
   "id": "25224e27-c27f-4554-a46b-44989a70d785",
   "metadata": {},
   "outputs": [
    {
     "name": "stdout",
     "output_type": "stream",
     "text": [
      "vertix: Point(name='A', x=0.0, y=0.0)\n",
      "vertix: Point(name='B', x=0.0, y=0.0)\n",
      "vertix: Point(name='C', x=0.0, y=0.0)\n"
     ]
    }
   ],
   "source": [
    "for vertix in poly:\n",
    "    print(\"vertix:\", vertix)"
   ]
  },
  {
   "cell_type": "code",
   "execution_count": 79,
   "id": "00ee372f-0c80-43f5-8d8d-dbd77f4810bb",
   "metadata": {},
   "outputs": [
    {
     "data": {
      "text/plain": [
       "[Point(name='A', x=0.0, y=0.0),\n",
       " Point(name='B', x=0.0, y=0.0),\n",
       " Point(name='C', x=0.0, y=0.0)]"
      ]
     },
     "execution_count": 79,
     "metadata": {},
     "output_type": "execute_result"
    }
   ],
   "source": [
    "list(poly)"
   ]
  }
 ],
 "metadata": {
  "kernelspec": {
   "display_name": "Python 3 (ipykernel)",
   "language": "python",
   "name": "python3"
  },
  "language_info": {
   "codemirror_mode": {
    "name": "ipython",
    "version": 3
   },
   "file_extension": ".py",
   "mimetype": "text/x-python",
   "name": "python",
   "nbconvert_exporter": "python",
   "pygments_lexer": "ipython3",
   "version": "3.12.3"
  }
 },
 "nbformat": 4,
 "nbformat_minor": 5
}
