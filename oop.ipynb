{
 "cells": [
  {
   "cell_type": "markdown",
   "id": "576c1958-699a-4266-96a2-8ffbeb5aa5d8",
   "metadata": {},
   "source": [
    "# Object Oriented Programming"
   ]
  },
  {
   "cell_type": "code",
   "execution_count": 2,
   "id": "7f68809f-3728-4ce3-91d2-497bc010413b",
   "metadata": {},
   "outputs": [],
   "source": [
    "import pandas as pd\n",
    "import numpy as np\n",
    "from decimal import Decimal\n",
    "import copy"
   ]
  },
  {
   "cell_type": "code",
   "execution_count": null,
   "id": "cb9613b6-6264-472e-a970-3a6a47e7a33f",
   "metadata": {},
   "outputs": [],
   "source": []
  },
  {
   "cell_type": "code",
   "execution_count": 3,
   "id": "cb3f30a6-b651-47d6-93e9-124e7b52755b",
   "metadata": {},
   "outputs": [],
   "source": [
    "%load_ext autoreload\n",
    "%autoreload 2"
   ]
  },
  {
   "cell_type": "code",
   "execution_count": 4,
   "id": "1bfe1eb1-42ae-4e9f-946f-2cb91b402152",
   "metadata": {},
   "outputs": [],
   "source": [
    "from car import Car"
   ]
  },
  {
   "cell_type": "markdown",
   "id": "86668d3d-b99f-4831-b54a-28616cddb008",
   "metadata": {},
   "source": [
    "## objects and classes from python world"
   ]
  },
  {
   "cell_type": "markdown",
   "id": "43c41dae-4a89-416e-85a9-1ea3a172f42b",
   "metadata": {},
   "source": [
    "### class 'str'"
   ]
  },
  {
   "cell_type": "code",
   "execution_count": 7,
   "id": "c620cd7d-9bdf-4d27-bc81-c5445874af12",
   "metadata": {},
   "outputs": [
    {
     "name": "stdout",
     "output_type": "stream",
     "text": [
      "Toulouse: <class 'str'>\n"
     ]
    }
   ],
   "source": [
    "city = \"Toulouse\" # object of type (class) str\n",
    "print(city, type(city), sep=\": \")"
   ]
  },
  {
   "cell_type": "code",
   "execution_count": 8,
   "id": "866ab9b3-7075-4f6f-baf6-edd646d38964",
   "metadata": {},
   "outputs": [
    {
     "data": {
      "text/plain": [
       "'TOULOUSE'"
      ]
     },
     "execution_count": 8,
     "metadata": {},
     "output_type": "execute_result"
    }
   ],
   "source": [
    "# upper is a method of class str\n",
    "city.upper()"
   ]
  },
  {
   "cell_type": "code",
   "execution_count": 9,
   "id": "7f781019-e24c-43e2-9e35-223eca261634",
   "metadata": {},
   "outputs": [
    {
     "data": {
      "text/plain": [
       "True"
      ]
     },
     "execution_count": 9,
     "metadata": {},
     "output_type": "execute_result"
    }
   ],
   "source": [
    "city.startswith('Tou')"
   ]
  },
  {
   "cell_type": "code",
   "execution_count": 10,
   "id": "58ba6dba-1ca9-4390-8c7d-3df23d6dc524",
   "metadata": {},
   "outputs": [
    {
     "data": {
      "text/plain": [
       "'Toulouse, ville rose'"
      ]
     },
     "execution_count": 10,
     "metadata": {},
     "output_type": "execute_result"
    }
   ],
   "source": [
    "city + ', ville rose'"
   ]
  },
  {
   "cell_type": "code",
   "execution_count": 11,
   "id": "03851e8f-312c-42bc-ade7-30b1108b78cf",
   "metadata": {},
   "outputs": [],
   "source": [
    "# TypeError: can only concatenate str (not \"int\") to str\n",
    "# city + 2"
   ]
  },
  {
   "cell_type": "code",
   "execution_count": 12,
   "id": "2fd3f6ed-8510-491d-ba5e-c2da80a79359",
   "metadata": {},
   "outputs": [
    {
     "data": {
      "text/plain": [
       "'ToulouseToulouseToulouseToulouseToulouseToulouseToulouseToulouseToulouseToulouse'"
      ]
     },
     "execution_count": 12,
     "metadata": {},
     "output_type": "execute_result"
    }
   ],
   "source": [
    "city * 10"
   ]
  },
  {
   "cell_type": "markdown",
   "id": "a91a90c5-2858-4bbe-a6e6-9035f0c1c5cd",
   "metadata": {},
   "source": [
    "### class 'Decimal' and 'float'"
   ]
  },
  {
   "cell_type": "code",
   "execution_count": 14,
   "id": "5d08489a-a90c-488b-a088-5257aa5519a7",
   "metadata": {},
   "outputs": [
    {
     "data": {
      "text/plain": [
       "(Decimal('0.1'), Decimal('0.2'), Decimal('0.3'))"
      ]
     },
     "execution_count": 14,
     "metadata": {},
     "output_type": "execute_result"
    }
   ],
   "source": [
    "price = Decimal('0.1') # constructor\n",
    "price, 2*price, 3*price"
   ]
  },
  {
   "cell_type": "code",
   "execution_count": 15,
   "id": "69e036cf-1b58-4370-92ca-6ab9f172deef",
   "metadata": {},
   "outputs": [
    {
     "data": {
      "text/plain": [
       "decimal.Decimal"
      ]
     },
     "execution_count": 15,
     "metadata": {},
     "output_type": "execute_result"
    }
   ],
   "source": [
    "type(price)"
   ]
  },
  {
   "cell_type": "code",
   "execution_count": 16,
   "id": "60e55774-b5b5-4871-89d1-07e6003d50eb",
   "metadata": {},
   "outputs": [
    {
     "data": {
      "text/plain": [
       "(0.1, 0.2, 0.30000000000000004)"
      ]
     },
     "execution_count": 16,
     "metadata": {},
     "output_type": "execute_result"
    }
   ],
   "source": [
    "price_f = 0.1\n",
    "price_f, 2*price_f, 3*price_f"
   ]
  },
  {
   "cell_type": "code",
   "execution_count": 17,
   "id": "9941b7dd-66a1-4daa-a52b-377672eead36",
   "metadata": {},
   "outputs": [
    {
     "data": {
      "text/plain": [
       "float"
      ]
     },
     "execution_count": 17,
     "metadata": {},
     "output_type": "execute_result"
    }
   ],
   "source": [
    "type(price_f)"
   ]
  },
  {
   "cell_type": "markdown",
   "id": "37ca499d-973a-4021-b57e-737dc0cb4e50",
   "metadata": {},
   "source": [
    "### numpy: class 'ndarray'"
   ]
  },
  {
   "cell_type": "code",
   "execution_count": 19,
   "id": "79a973fc-951d-40d6-bb79-acd630904f9d",
   "metadata": {},
   "outputs": [],
   "source": [
    "values = np.random.normal(10, 2.5, 10_000)\n",
    "matrix = np.random.normal(10, 2.5, (10_000, 10_000))"
   ]
  },
  {
   "cell_type": "code",
   "execution_count": 20,
   "id": "4e02b469-05c7-4e59-a307-a851ca7cd308",
   "metadata": {},
   "outputs": [
    {
     "data": {
      "text/plain": [
       "array([ 5.47913435, 10.99864746,  6.26537854, ..., 10.94912008,\n",
       "        9.7959281 , 12.30809599])"
      ]
     },
     "execution_count": 20,
     "metadata": {},
     "output_type": "execute_result"
    }
   ],
   "source": [
    "values"
   ]
  },
  {
   "cell_type": "code",
   "execution_count": 21,
   "id": "e894fbfc-6110-45d4-8de9-ab85dc3df536",
   "metadata": {},
   "outputs": [
    {
     "name": "stdout",
     "output_type": "stream",
     "text": [
      "[ 5.47913435 10.99864746  6.26537854 ... 10.94912008  9.7959281\n",
      " 12.30809599]\n",
      "type: <class 'numpy.ndarray'>\n",
      "shape: (10000,)\n",
      "data type: float64\n",
      "data type:   C_CONTIGUOUS : True\n",
      "  F_CONTIGUOUS : True\n",
      "  OWNDATA : True\n",
      "  WRITEABLE : True\n",
      "  ALIGNED : True\n",
      "  WRITEBACKIFCOPY : False\n",
      "\n",
      "length: 10000\n",
      "\n",
      "[[10.73873066 10.26676359  8.31383291 ... 10.66968177 12.46012279\n",
      "  13.9499799 ]\n",
      " [11.91058727  8.51443896  6.44509166 ... 13.20895857  9.12595564\n",
      "   8.78404288]\n",
      " [10.83996411 10.94594214  7.61152496 ...  6.25664576  9.45327516\n",
      "  10.43364118]\n",
      " ...\n",
      " [ 6.39703741 12.06512839  8.04544051 ... 14.30810662  7.88278939\n",
      "  11.37585419]\n",
      " [10.37017773  4.90573251  8.24260694 ...  8.92031836 13.9810413\n",
      "  10.89756285]\n",
      " [12.74034303  7.97736989  9.89782714 ...  9.20256298  8.67768371\n",
      "  10.16814334]]\n",
      "type: <class 'numpy.ndarray'>\n",
      "shape: (10000, 10000)\n",
      "data type: float64\n",
      "data type:   C_CONTIGUOUS : True\n",
      "  F_CONTIGUOUS : False\n",
      "  OWNDATA : True\n",
      "  WRITEABLE : True\n",
      "  ALIGNED : True\n",
      "  WRITEBACKIFCOPY : False\n",
      "\n",
      "length: 10000\n",
      "\n"
     ]
    }
   ],
   "source": [
    "for a in values, matrix:\n",
    "    print(a) # => calls str(a) => calls method ndarray.__str__()\n",
    "    print(\"type:\", type(a))\n",
    "    print(\"shape:\", a.shape)\n",
    "    print(\"data type:\", a.dtype)\n",
    "    print(\"data type:\", a.flags)\n",
    "    print(\"length:\", len(a)) # length on 1st dimension => calls method ndarray.__len__()\n",
    "    print()"
   ]
  },
  {
   "cell_type": "code",
   "execution_count": 22,
   "id": "bc486943-9a95-4ef5-a2a8-0920c71d0629",
   "metadata": {},
   "outputs": [
    {
     "data": {
      "text/plain": [
       "  C_CONTIGUOUS : False\n",
       "  F_CONTIGUOUS : True\n",
       "  OWNDATA : False\n",
       "  WRITEABLE : True\n",
       "  ALIGNED : True\n",
       "  WRITEBACKIFCOPY : False"
      ]
     },
     "execution_count": 22,
     "metadata": {},
     "output_type": "execute_result"
    }
   ],
   "source": [
    "matrix.T.flags # owndata = False => view"
   ]
  },
  {
   "cell_type": "code",
   "execution_count": 23,
   "id": "26c4cc39-bdc1-4b70-82fa-dc2bd773208e",
   "metadata": {},
   "outputs": [
    {
     "data": {
      "text/plain": [
       "999987862.5494183"
      ]
     },
     "execution_count": 23,
     "metadata": {},
     "output_type": "execute_result"
    }
   ],
   "source": [
    "matrix.sum()"
   ]
  },
  {
   "cell_type": "code",
   "execution_count": 24,
   "id": "18cd16da-cb24-480e-a0a1-9d1294374dde",
   "metadata": {},
   "outputs": [
    {
     "data": {
      "text/plain": [
       "array([100094.81344445,  99562.7480659 ,  99367.28334841, ...,\n",
       "       100111.08608853, 100190.44275245,  99962.69853796])"
      ]
     },
     "execution_count": 24,
     "metadata": {},
     "output_type": "execute_result"
    }
   ],
   "source": [
    "matrix.sum(axis=1) # by rows"
   ]
  },
  {
   "cell_type": "code",
   "execution_count": 25,
   "id": "263dd885-232f-439b-8ce0-c9307b738c1f",
   "metadata": {},
   "outputs": [
    {
     "data": {
      "text/plain": [
       "array([10.73873066,  8.51443896,  7.61152496, ..., 14.30810662,\n",
       "       13.9810413 , 10.16814334])"
      ]
     },
     "execution_count": 25,
     "metadata": {},
     "output_type": "execute_result"
    }
   ],
   "source": [
    "matrix.diagonal()"
   ]
  },
  {
   "cell_type": "code",
   "execution_count": 26,
   "id": "ef9007af-137c-4e44-afd7-682562008c09",
   "metadata": {},
   "outputs": [
    {
     "data": {
      "text/plain": [
       "[5.479134352607772,\n",
       " 10.998647458894403,\n",
       " 6.2653785370862956,\n",
       " 11.539570206905488,\n",
       " 7.6145304957524775,\n",
       " 12.814807188117172,\n",
       " 13.01165275663101,\n",
       " 13.721592090343897,\n",
       " 8.807024793908068,\n",
       " 12.226121345354848]"
      ]
     },
     "execution_count": 26,
     "metadata": {},
     "output_type": "execute_result"
    }
   ],
   "source": [
    "# ndarray are iterable\n",
    "list(values[:10])"
   ]
  },
  {
   "cell_type": "code",
   "execution_count": 27,
   "id": "a1f09032-33b8-46d4-b27c-46d63c6b8b3a",
   "metadata": {},
   "outputs": [
    {
     "data": {
      "text/plain": [
       "<method-wrapper '__iter__' of numpy.ndarray object at 0x0000024AF981F090>"
      ]
     },
     "execution_count": 27,
     "metadata": {},
     "output_type": "execute_result"
    }
   ],
   "source": [
    "values.__iter__"
   ]
  },
  {
   "cell_type": "code",
   "execution_count": 28,
   "id": "1146b9d2-1227-4684-a967-f242f3301335",
   "metadata": {},
   "outputs": [
    {
     "data": {
      "text/plain": [
       "array([ 6.47913435, 11.99864746,  7.26537854, 12.53957021,  8.6145305 ])"
      ]
     },
     "execution_count": 28,
     "metadata": {},
     "output_type": "execute_result"
    }
   ],
   "source": [
    "values[:5] + 1 # calls ndarray.__add__"
   ]
  },
  {
   "cell_type": "code",
   "execution_count": 29,
   "id": "7cdadfae-1b0f-4c87-8180-65cd709d0a08",
   "metadata": {},
   "outputs": [
    {
     "data": {
      "text/plain": [
       "array([ 6.47913435, 11.99864746,  7.26537854, 12.53957021,  8.6145305 ])"
      ]
     },
     "execution_count": 29,
     "metadata": {},
     "output_type": "execute_result"
    }
   ],
   "source": [
    "# calls int.__add__ with arg values[:5] => returns NotImplemented\n",
    "# calls ndarray.__radd__\n",
    "1 + values[:5] "
   ]
  },
  {
   "cell_type": "code",
   "execution_count": 30,
   "id": "f476e77f-3003-493a-b24f-f5517ae8b407",
   "metadata": {},
   "outputs": [
    {
     "data": {
      "text/plain": [
       "NotImplemented"
      ]
     },
     "execution_count": 30,
     "metadata": {},
     "output_type": "execute_result"
    }
   ],
   "source": [
    "x = 1\n",
    "x.__add__(values[:5])"
   ]
  },
  {
   "cell_type": "code",
   "execution_count": 31,
   "id": "aa5262a2-2bbe-4fbf-a3c2-b85edcf0f550",
   "metadata": {},
   "outputs": [
    {
     "data": {
      "text/plain": [
       "array([ 6.47913435, 11.99864746,  7.26537854, 12.53957021,  8.6145305 ])"
      ]
     },
     "execution_count": 31,
     "metadata": {},
     "output_type": "execute_result"
    }
   ],
   "source": [
    "values[:5].__radd__(1)"
   ]
  },
  {
   "cell_type": "markdown",
   "id": "e43e5d87-b43e-4d1a-9c8e-48700da9cc14",
   "metadata": {},
   "source": [
    "## custom class 'Car'"
   ]
  },
  {
   "cell_type": "code",
   "execution_count": 33,
   "id": "e613b825-8a73-49bf-925a-6c17458857bd",
   "metadata": {},
   "outputs": [
    {
     "data": {
      "text/plain": [
       "\u001b[1;31mInit signature:\u001b[0m \u001b[0mCar\u001b[0m\u001b[1;33m(\u001b[0m\u001b[0mmodel\u001b[0m\u001b[1;33m:\u001b[0m \u001b[0mstr\u001b[0m\u001b[1;33m,\u001b[0m \u001b[0mcolor\u001b[0m\u001b[1;33m:\u001b[0m \u001b[0mstr\u001b[0m \u001b[1;33m|\u001b[0m \u001b[1;32mNone\u001b[0m \u001b[1;33m=\u001b[0m \u001b[1;32mNone\u001b[0m\u001b[1;33m,\u001b[0m \u001b[0mpower\u001b[0m\u001b[1;33m:\u001b[0m \u001b[0mint\u001b[0m \u001b[1;33m|\u001b[0m \u001b[1;32mNone\u001b[0m \u001b[1;33m=\u001b[0m \u001b[1;32mNone\u001b[0m\u001b[1;33m)\u001b[0m\u001b[1;33m\u001b[0m\u001b[1;33m\u001b[0m\u001b[0m\n",
       "\u001b[1;31mDocstring:\u001b[0m     \n",
       "class representing a car with its model, power and color\n",
       "\n",
       "Example:\n",
       "    car = Car(model='Fiat 500', color='rose', power=150)\n",
       "\u001b[1;31mFile:\u001b[0m           c:\\users\\matth\\documents\\formation\\python\\stage20240722perf\\car.py\n",
       "\u001b[1;31mType:\u001b[0m           type\n",
       "\u001b[1;31mSubclasses:\u001b[0m     "
      ]
     },
     "metadata": {},
     "output_type": "display_data"
    }
   ],
   "source": [
    "Car?"
   ]
  },
  {
   "cell_type": "code",
   "execution_count": null,
   "id": "e70b6819-0164-45f1-807a-fe4d4d4a160a",
   "metadata": {},
   "outputs": [],
   "source": []
  },
  {
   "cell_type": "code",
   "execution_count": 34,
   "id": "e913fe84-8432-4a06-9be4-866af7d168bd",
   "metadata": {},
   "outputs": [
    {
     "name": "stdout",
     "output_type": "stream",
     "text": [
      "Fiat 500 (color=None, power=None)\n"
     ]
    },
    {
     "data": {
      "text/plain": [
       "Car(model=Fiat 500, color=None, power=None)"
      ]
     },
     "execution_count": 34,
     "metadata": {},
     "output_type": "execute_result"
    }
   ],
   "source": [
    "c = Car('Fiat 500') # calls constructor __init__(...)\n",
    "print(c) # calls str()\n",
    "c # calls repr()"
   ]
  },
  {
   "cell_type": "code",
   "execution_count": 35,
   "id": "b687eaa9-c3bf-4c7f-981f-835585e144d5",
   "metadata": {},
   "outputs": [
    {
     "data": {
      "text/plain": [
       "'Fiat 500'"
      ]
     },
     "execution_count": 35,
     "metadata": {},
     "output_type": "execute_result"
    }
   ],
   "source": [
    "c.model"
   ]
  },
  {
   "cell_type": "code",
   "execution_count": 36,
   "id": "76d9a38f-233c-4a27-8dd5-6420aa749f1e",
   "metadata": {},
   "outputs": [
    {
     "data": {
      "text/plain": [
       "'rose'"
      ]
     },
     "execution_count": 36,
     "metadata": {},
     "output_type": "execute_result"
    }
   ],
   "source": [
    "c.color = 'rose'\n",
    "c.color"
   ]
  },
  {
   "cell_type": "code",
   "execution_count": 37,
   "id": "7d1f3546-eeb1-43f6-8928-4f9039c35b21",
   "metadata": {},
   "outputs": [],
   "source": [
    "# AttributeError: 'Car' object has no attribute 'kilometer'\n",
    "# c.kilometer\n",
    "# c.kilometer = 100_000 # ok if no slots else AttributeError: 'Car' object has no attribute 'kilometer'\n",
    "# c.kilometer"
   ]
  },
  {
   "cell_type": "code",
   "execution_count": 38,
   "id": "ed9d2461-13a3-4d3f-9679-1d94517a0cb0",
   "metadata": {},
   "outputs": [],
   "source": [
    "c2 = Car('Super 5')\n",
    "# AttributeError: 'Car' object has no attribute 'kilometer'\n",
    "# c2.kilometer"
   ]
  },
  {
   "cell_type": "code",
   "execution_count": 39,
   "id": "6831f1bb-da21-435b-a0d7-0d80c464c7f4",
   "metadata": {},
   "outputs": [
    {
     "data": {
      "text/plain": [
       "['__class__',\n",
       " '__delattr__',\n",
       " '__dir__',\n",
       " '__doc__',\n",
       " '__eq__',\n",
       " '__format__',\n",
       " '__ge__',\n",
       " '__getattribute__',\n",
       " '__getstate__',\n",
       " '__gt__',\n",
       " '__hash__',\n",
       " '__init__',\n",
       " '__init_subclass__',\n",
       " '__le__',\n",
       " '__lt__',\n",
       " '__module__',\n",
       " '__ne__',\n",
       " '__new__',\n",
       " '__reduce__',\n",
       " '__reduce_ex__',\n",
       " '__repr__',\n",
       " '__setattr__',\n",
       " '__sizeof__',\n",
       " '__slots__',\n",
       " '__str__',\n",
       " '__subclasshook__',\n",
       " 'color',\n",
       " 'model',\n",
       " 'power']"
      ]
     },
     "execution_count": 39,
     "metadata": {},
     "output_type": "execute_result"
    }
   ],
   "source": [
    "dir(c)"
   ]
  },
  {
   "cell_type": "code",
   "execution_count": 40,
   "id": "8fcdfc07-e144-411f-9149-3e0fc12f9ccb",
   "metadata": {},
   "outputs": [
    {
     "data": {
      "text/plain": [
       "car.Car"
      ]
     },
     "execution_count": 40,
     "metadata": {},
     "output_type": "execute_result"
    }
   ],
   "source": [
    "c.__class__ # or type(c)"
   ]
  },
  {
   "cell_type": "code",
   "execution_count": 41,
   "id": "bb0522a0-692f-49ae-9ce7-9f8f55ddcfd8",
   "metadata": {},
   "outputs": [
    {
     "data": {
      "text/plain": [
       "'car'"
      ]
     },
     "execution_count": 41,
     "metadata": {},
     "output_type": "execute_result"
    }
   ],
   "source": [
    "c.__module__"
   ]
  },
  {
   "cell_type": "code",
   "execution_count": 42,
   "id": "dbd7a64e-5603-44ec-9f43-fdbc68c56f27",
   "metadata": {},
   "outputs": [],
   "source": [
    "cars = [\n",
    "    Car(model=\"Fiat 500\", color=\"rose\", power=150),\n",
    "    Car(model=\"Super 5\", color=\"gris\", power=65),\n",
    "    Car(model=\"Ferrari F40\", color=\"rouge\", power=400),\n",
    "]"
   ]
  },
  {
   "cell_type": "code",
   "execution_count": 43,
   "id": "641cabf2-1f8c-4279-9d7a-a13456c53c9e",
   "metadata": {},
   "outputs": [
    {
     "data": {
      "text/plain": [
       "[Car(model=Ferrari F40, color=rouge, power=400),\n",
       " Car(model=Fiat 500, color=rose, power=150),\n",
       " Car(model=Super 5, color=gris, power=65)]"
      ]
     },
     "execution_count": 43,
     "metadata": {},
     "output_type": "execute_result"
    }
   ],
   "source": [
    "# fonction anonyme\n",
    "# anonymouse function\n",
    "# lambda function\n",
    "# Ex:    lambda car: car.power\n",
    "# en Java: car -> car.power\n",
    "# en Javascript, C#:   car => car.power\n",
    "cars.sort(key=lambda car: car.power, reverse=True)\n",
    "cars"
   ]
  },
  {
   "cell_type": "code",
   "execution_count": 44,
   "id": "655c5ef2-9af8-48f1-ae1e-4fc8d9845214",
   "metadata": {},
   "outputs": [],
   "source": [
    "# TypeError: '<' not supported between instances of 'Car' and 'Car'\n",
    "# cars.sort()"
   ]
  },
  {
   "cell_type": "code",
   "execution_count": 45,
   "id": "ae419a1a-204a-46cf-80a1-267601019c8a",
   "metadata": {},
   "outputs": [
    {
     "data": {
      "text/plain": [
       "True"
      ]
     },
     "execution_count": 45,
     "metadata": {},
     "output_type": "execute_result"
    }
   ],
   "source": [
    "c = Car(model=\"Fiat 500\", color=\"rose\", power=150)\n",
    "c in cars"
   ]
  },
  {
   "cell_type": "code",
   "execution_count": 46,
   "id": "a12da7d6-6b41-4ab6-81be-bc6040b428a9",
   "metadata": {},
   "outputs": [
    {
     "name": "stdout",
     "output_type": "stream",
     "text": [
      "Ferrari F40 (color=rouge, power=400)\n",
      "Fiat 500 (color=rose, power=150)\n"
     ]
    },
    {
     "data": {
      "text/plain": [
       "(False, False)"
      ]
     },
     "execution_count": 46,
     "metadata": {},
     "output_type": "execute_result"
    }
   ],
   "source": [
    "print(cars[0])\n",
    "print(c)\n",
    "cars[0] == c, cars[0] is c"
   ]
  },
  {
   "cell_type": "code",
   "execution_count": 47,
   "id": "79671f91-4937-4078-8808-45835f71813b",
   "metadata": {},
   "outputs": [
    {
     "name": "stdout",
     "output_type": "stream",
     "text": [
      "Fiat 500 (color=rose, power=150)\n",
      "Fiat 500 (color=rose, power=150)\n"
     ]
    },
    {
     "data": {
      "text/plain": [
       "(True, False)"
      ]
     },
     "execution_count": 47,
     "metadata": {},
     "output_type": "execute_result"
    }
   ],
   "source": [
    "print(cars[1])\n",
    "print(c)\n",
    "cars[1] == c, cars[1] is c"
   ]
  },
  {
   "cell_type": "code",
   "execution_count": 48,
   "id": "f72d00c6-9bc8-409b-aee5-945f66ecc353",
   "metadata": {},
   "outputs": [
    {
     "data": {
      "text/plain": [
       "True"
      ]
     },
     "execution_count": 48,
     "metadata": {},
     "output_type": "execute_result"
    }
   ],
   "source": [
    "(12, 'rose') == (12, 'rose')"
   ]
  },
  {
   "cell_type": "code",
   "execution_count": 49,
   "id": "f5539132-a797-47b5-a8bc-7731e9a02a64",
   "metadata": {},
   "outputs": [
    {
     "data": {
      "text/plain": [
       "False"
      ]
     },
     "execution_count": 49,
     "metadata": {},
     "output_type": "execute_result"
    }
   ],
   "source": [
    "(12, 'rose') == (12, 'gris')"
   ]
  },
  {
   "cell_type": "code",
   "execution_count": 50,
   "id": "98e82c17-4232-4ffc-afeb-2ce28ae8ae62",
   "metadata": {},
   "outputs": [
    {
     "data": {
      "text/plain": [
       "False"
      ]
     },
     "execution_count": 50,
     "metadata": {},
     "output_type": "execute_result"
    }
   ],
   "source": [
    "(12, 'rose') == (12, 'rose', 1250)"
   ]
  },
  {
   "cell_type": "code",
   "execution_count": 51,
   "id": "45f228a5-cd9b-4c35-bfb1-7aea05c366fa",
   "metadata": {},
   "outputs": [
    {
     "data": {
      "text/plain": [
       "True"
      ]
     },
     "execution_count": 51,
     "metadata": {},
     "output_type": "execute_result"
    }
   ],
   "source": [
    "(12, 'gris') < (12, 'rose') # 12 == 12 then 'gris' < 'rose'"
   ]
  },
  {
   "cell_type": "code",
   "execution_count": 52,
   "id": "f148ab2a-0074-46d2-ba66-4af4e72a0b39",
   "metadata": {},
   "outputs": [
    {
     "data": {
      "text/plain": [
       "False"
      ]
     },
     "execution_count": 52,
     "metadata": {},
     "output_type": "execute_result"
    }
   ],
   "source": [
    "(12, 'rose') == [12, 'rose']"
   ]
  },
  {
   "cell_type": "code",
   "execution_count": 53,
   "id": "ae2f7e48-3bc7-479e-b91c-10e41aece5ca",
   "metadata": {},
   "outputs": [
    {
     "data": {
      "text/plain": [
       "True"
      ]
     },
     "execution_count": 53,
     "metadata": {},
     "output_type": "execute_result"
    }
   ],
   "source": [
    "12 == 12.0"
   ]
  },
  {
   "cell_type": "code",
   "execution_count": 54,
   "id": "2376c8d1-e9c3-4b9b-b800-bb564eb8413d",
   "metadata": {},
   "outputs": [
    {
     "data": {
      "text/plain": [
       "False"
      ]
     },
     "execution_count": 54,
     "metadata": {},
     "output_type": "execute_result"
    }
   ],
   "source": [
    "12 == \"12\""
   ]
  },
  {
   "cell_type": "code",
   "execution_count": 55,
   "id": "52faa860-0999-45fa-8a29-94f784c8a394",
   "metadata": {},
   "outputs": [
    {
     "data": {
      "text/plain": [
       "NotImplemented"
      ]
     },
     "execution_count": 55,
     "metadata": {},
     "output_type": "execute_result"
    }
   ],
   "source": [
    "x = 12\n",
    "x.__eq__(\"12\")"
   ]
  },
  {
   "cell_type": "code",
   "execution_count": 56,
   "id": "6561ec18-ed4c-49e8-b94a-2d4cce805457",
   "metadata": {},
   "outputs": [
    {
     "data": {
      "text/plain": [
       "array([False, False, False, ..., False, False, False])"
      ]
     },
     "execution_count": 56,
     "metadata": {},
     "output_type": "execute_result"
    }
   ],
   "source": [
    "values == 10.0"
   ]
  },
  {
   "cell_type": "code",
   "execution_count": 57,
   "id": "12e4285d-cea8-42d1-901d-6743ebd032a2",
   "metadata": {},
   "outputs": [],
   "source": [
    "one_car = cars[0]\n",
    "same_car = one_car\n",
    "assert one_car is cars[0]\n",
    "assert one_car is same_car"
   ]
  },
  {
   "cell_type": "code",
   "execution_count": 58,
   "id": "1b0ed939-27e4-4ef0-b2e6-2029d158264e",
   "metadata": {},
   "outputs": [],
   "source": [
    "# copy with constructor\n",
    "copy_car = Car(one_car.model, one_car.color, one_car.power)\n",
    "assert copy_car == one_car\n",
    "assert copy_car is not one_car"
   ]
  },
  {
   "cell_type": "code",
   "execution_count": 59,
   "id": "5811e812-7c37-409d-a27d-5d2b9728eb83",
   "metadata": {},
   "outputs": [],
   "source": [
    "copy_car = copy.copy(one_car)\n",
    "assert copy_car == one_car\n",
    "assert copy_car is not one_car"
   ]
  },
  {
   "cell_type": "code",
   "execution_count": 60,
   "id": "5e309eb9-24c9-4921-9340-3a375ed37388",
   "metadata": {},
   "outputs": [
    {
     "data": {
      "text/plain": [
       "(False, False)"
      ]
     },
     "execution_count": 60,
     "metadata": {},
     "output_type": "execute_result"
    }
   ],
   "source": [
    "cars[0] < cars[1], \\\n",
    "cars[0] > cars[1]"
   ]
  },
  {
   "cell_type": "code",
   "execution_count": 61,
   "id": "26433ee0-315c-41eb-9f0e-99c5c1344bd4",
   "metadata": {},
   "outputs": [
    {
     "ename": "TypeError",
     "evalue": "'<=' not supported between instances of 'Car' and 'Car'",
     "output_type": "error",
     "traceback": [
      "\u001b[1;31m---------------------------------------------------------------------------\u001b[0m",
      "\u001b[1;31mTypeError\u001b[0m                                 Traceback (most recent call last)",
      "Cell \u001b[1;32mIn[61], line 1\u001b[0m\n\u001b[1;32m----> 1\u001b[0m cars[\u001b[38;5;241m0\u001b[39m] \u001b[38;5;241m<\u001b[39m\u001b[38;5;241m=\u001b[39m cars[\u001b[38;5;241m1\u001b[39m], \\\n\u001b[0;32m      2\u001b[0m cars[\u001b[38;5;241m0\u001b[39m] \u001b[38;5;241m>\u001b[39m\u001b[38;5;241m=\u001b[39m cars[\u001b[38;5;241m1\u001b[39m]\n",
      "\u001b[1;31mTypeError\u001b[0m: '<=' not supported between instances of 'Car' and 'Car'"
     ]
    }
   ],
   "source": [
    "cars[0] <= cars[1], \\\n",
    "cars[0] >= cars[1]"
   ]
  }
 ],
 "metadata": {
  "kernelspec": {
   "display_name": "Python 3 (ipykernel)",
   "language": "python",
   "name": "python3"
  },
  "language_info": {
   "codemirror_mode": {
    "name": "ipython",
    "version": 3
   },
   "file_extension": ".py",
   "mimetype": "text/x-python",
   "name": "python",
   "nbconvert_exporter": "python",
   "pygments_lexer": "ipython3",
   "version": "3.12.3"
  }
 },
 "nbformat": 4,
 "nbformat_minor": 5
}
