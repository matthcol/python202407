{
 "cells": [
  {
   "cell_type": "markdown",
   "id": "b6ae72e6-8d50-400d-abfb-e7d1a3d2e488",
   "metadata": {},
   "source": [
    "# Iterations"
   ]
  },
  {
   "cell_type": "code",
   "execution_count": 177,
   "id": "878529aa-a500-43cd-bd5a-6185a5e93e40",
   "metadata": {},
   "outputs": [],
   "source": [
    "import math\n",
    "import numpy as np\n",
    "from itertools import zip_longest"
   ]
  },
  {
   "cell_type": "code",
   "execution_count": 3,
   "id": "2c80ac7f-b676-42b5-967b-dd9796d1f6e4",
   "metadata": {},
   "outputs": [],
   "source": [
    "cities = [\"Nice\", \"Lyon\", \"Caen\", \"Pau\"]\n",
    "city_t = (\"Nice\",  342_522, \"06000\")\n",
    "city_d = { \n",
    "    \"name\": \"Nice\",\n",
    "    \"population\": 342_522,\n",
    "    \"zipcode\": \"06000\"\n",
    "}"
   ]
  },
  {
   "cell_type": "code",
   "execution_count": 5,
   "id": "da13b6a3-24a5-4488-9f88-6bee9e2e596e",
   "metadata": {},
   "outputs": [
    {
     "data": {
      "text/plain": [
       "['Nice', 'Lyon', 'Caen', 'Pau']"
      ]
     },
     "execution_count": 5,
     "metadata": {},
     "output_type": "execute_result"
    }
   ],
   "source": [
    "cities # uses repr"
   ]
  },
  {
   "cell_type": "code",
   "execution_count": 7,
   "id": "28add336-ae90-4a69-a0d4-65af1df90244",
   "metadata": {},
   "outputs": [
    {
     "name": "stdout",
     "output_type": "stream",
     "text": [
      "['Nice', 'Lyon', 'Caen', 'Pau']\n"
     ]
    }
   ],
   "source": [
    "print(cities) # uses str"
   ]
  },
  {
   "cell_type": "code",
   "execution_count": 11,
   "id": "fe612296-95ab-4f84-b027-e3efb0728a76",
   "metadata": {},
   "outputs": [
    {
     "name": "stdout",
     "output_type": "stream",
     "text": [
      "Nice\n"
     ]
    },
    {
     "data": {
      "text/plain": [
       "'Nice'"
      ]
     },
     "execution_count": 11,
     "metadata": {},
     "output_type": "execute_result"
    }
   ],
   "source": [
    "city = cities[0]\n",
    "print(city)\n",
    "city"
   ]
  },
  {
   "cell_type": "code",
   "execution_count": 13,
   "id": "36e27106-66c8-4ecd-bf3c-b48b7c36c869",
   "metadata": {},
   "outputs": [
    {
     "name": "stdout",
     "output_type": "stream",
     "text": [
      "Nice 'Nice'\n"
     ]
    }
   ],
   "source": [
    "print(str(city), repr(city))"
   ]
  },
  {
   "cell_type": "code",
   "execution_count": 15,
   "id": "992efaf0-af85-4b39-9e86-e31dafc60a29",
   "metadata": {},
   "outputs": [
    {
     "name": "stdout",
     "output_type": "stream",
     "text": [
      "Nice\n",
      "Lyon\n",
      "Caen\n",
      "Pau\n"
     ]
    }
   ],
   "source": [
    "for city in cities:\n",
    "    print(city)"
   ]
  },
  {
   "cell_type": "code",
   "execution_count": 19,
   "id": "fcd11ba2-ed6e-4db4-8eca-f666fd40e210",
   "metadata": {},
   "outputs": [],
   "source": [
    "# TypeError: 'int' object is not iterable\n",
    "# for x in 12345:\n",
    "#     print(x)"
   ]
  },
  {
   "cell_type": "code",
   "execution_count": 43,
   "id": "a7ac9743-e6fc-4d27-808f-716733ff78ec",
   "metadata": {},
   "outputs": [
    {
     "name": "stdout",
     "output_type": "stream",
     "text": [
      "S  a  i  n  t  -  R  e  m  y  -  e  n  -  B  o  u  z  e  m  o  n  t  -  S  a  i  n  t  -  G  e  n  e  s  t  -  e  t  -  I  s  s  o  n  "
     ]
    }
   ],
   "source": [
    "city = \"Saint-Remy-en-Bouzemont-Saint-Genest-et-Isson\"\n",
    "for letter in city:\n",
    "    print(letter, end='  ')"
   ]
  },
  {
   "cell_type": "code",
   "execution_count": 23,
   "id": "750b95a7-83bb-40d6-9d30-03140bcfe2aa",
   "metadata": {},
   "outputs": [
    {
     "name": "stdout",
     "output_type": "stream",
     "text": [
      "Nice\n",
      "342522\n",
      "06000\n"
     ]
    }
   ],
   "source": [
    "for info in city_t:\n",
    "    print(info)"
   ]
  },
  {
   "cell_type": "code",
   "execution_count": 27,
   "id": "74ad4f6d-4487-4ea7-90e4-b64a35748558",
   "metadata": {},
   "outputs": [
    {
     "name": "stdout",
     "output_type": "stream",
     "text": [
      "name\n",
      "population\n",
      "zipcode\n"
     ]
    }
   ],
   "source": [
    "# default iteration on dict: keys\n",
    "for info_name in city_d:\n",
    "    print(info_name)"
   ]
  },
  {
   "cell_type": "code",
   "execution_count": 29,
   "id": "f5babeca-7fc6-40de-a17d-f3ec187a072d",
   "metadata": {},
   "outputs": [
    {
     "name": "stdout",
     "output_type": "stream",
     "text": [
      "name\n",
      "population\n",
      "zipcode\n"
     ]
    }
   ],
   "source": [
    "for info_name in city_d.keys():\n",
    "    print(info_name)"
   ]
  },
  {
   "cell_type": "code",
   "execution_count": 31,
   "id": "bbd4c16e-4cd3-4fad-9db6-405d69fd3273",
   "metadata": {},
   "outputs": [
    {
     "name": "stdout",
     "output_type": "stream",
     "text": [
      "Nice\n",
      "342522\n",
      "06000\n"
     ]
    }
   ],
   "source": [
    "for info_value in city_d.values():\n",
    "    print(info_value)"
   ]
  },
  {
   "cell_type": "code",
   "execution_count": 35,
   "id": "8cd870b0-9c22-490f-b775-db2726fbef6b",
   "metadata": {},
   "outputs": [
    {
     "name": "stdout",
     "output_type": "stream",
     "text": [
      "name: Nice\n",
      "population: 342522\n",
      "zipcode: 06000\n"
     ]
    }
   ],
   "source": [
    "for info_name, info_value in city_d.items():\n",
    "    print(info_name, info_value, sep=\": \")"
   ]
  },
  {
   "cell_type": "code",
   "execution_count": null,
   "id": "e64da609-f3d1-4989-87d4-5aa06ef6e48d",
   "metadata": {},
   "outputs": [],
   "source": [
    "enumerate"
   ]
  },
  {
   "cell_type": "code",
   "execution_count": 45,
   "id": "16e69c65-b3a2-4d39-a7d6-b56d5e9204ec",
   "metadata": {},
   "outputs": [
    {
     "data": {
      "text/plain": [
       "dict"
      ]
     },
     "execution_count": 45,
     "metadata": {},
     "output_type": "execute_result"
    }
   ],
   "source": [
    "type(city_d)"
   ]
  },
  {
   "cell_type": "code",
   "execution_count": 49,
   "id": "73531dc6-2e60-44ab-9415-5df08133b51e",
   "metadata": {},
   "outputs": [
    {
     "name": "stdout",
     "output_type": "stream",
     "text": [
      "Help on built-in function count:\n",
      "\n",
      "count(value, /) method of builtins.tuple instance\n",
      "    Return number of occurrences of value.\n",
      "\n"
     ]
    }
   ],
   "source": [
    "# aide de python\n",
    "help(city_t.count)"
   ]
  },
  {
   "cell_type": "code",
   "execution_count": 51,
   "id": "6b3a72b5-9442-43c6-8d26-07e9aeb2369a",
   "metadata": {},
   "outputs": [
    {
     "data": {
      "text/plain": [
       "\u001b[1;31mSignature:\u001b[0m \u001b[0mcity_t\u001b[0m\u001b[1;33m.\u001b[0m\u001b[0mcount\u001b[0m\u001b[1;33m(\u001b[0m\u001b[0mvalue\u001b[0m\u001b[1;33m,\u001b[0m \u001b[1;33m/\u001b[0m\u001b[1;33m)\u001b[0m\u001b[1;33m\u001b[0m\u001b[1;33m\u001b[0m\u001b[0m\n",
       "\u001b[1;31mDocstring:\u001b[0m Return number of occurrences of value.\n",
       "\u001b[1;31mType:\u001b[0m      builtin_function_or_method"
      ]
     },
     "metadata": {},
     "output_type": "display_data"
    }
   ],
   "source": [
    "# aide ipython, notebook\n",
    "city_t.count?"
   ]
  },
  {
   "cell_type": "code",
   "execution_count": 55,
   "id": "1b3bad39-f41b-410c-bc79-fee27fa914d1",
   "metadata": {},
   "outputs": [
    {
     "data": {
      "text/plain": [
       "<method-wrapper '__iter__' of list object at 0x000002C97CA88E00>"
      ]
     },
     "execution_count": 55,
     "metadata": {},
     "output_type": "execute_result"
    }
   ],
   "source": [
    "# each iterable object has a hidden method __iter__\n",
    "cities.__iter__"
   ]
  },
  {
   "cell_type": "code",
   "execution_count": 57,
   "id": "ad7a1d57-1ed2-4ecc-9a15-22137d23b3e0",
   "metadata": {},
   "outputs": [
    {
     "data": {
      "text/plain": [
       "<slot wrapper '__iter__' of 'list' objects>"
      ]
     },
     "execution_count": 57,
     "metadata": {},
     "output_type": "execute_result"
    }
   ],
   "source": [
    "list.__iter__"
   ]
  },
  {
   "cell_type": "code",
   "execution_count": 59,
   "id": "43dffa73-edf8-4362-b1f5-5122c9713464",
   "metadata": {},
   "outputs": [],
   "source": [
    "x = 123 "
   ]
  },
  {
   "cell_type": "code",
   "execution_count": 63,
   "id": "16f7bcef-f541-48d8-a9bf-ccae5dae2eaa",
   "metadata": {},
   "outputs": [],
   "source": [
    "# AttributeError: 'int' object has no attribute '__iter__'\n",
    "# x.__iter__"
   ]
  },
  {
   "cell_type": "code",
   "execution_count": 69,
   "id": "2bdcd497-c513-41e3-931a-7aad2e0ac781",
   "metadata": {},
   "outputs": [
    {
     "data": {
      "text/plain": [
       "<list_iterator at 0x2c97bd2b190>"
      ]
     },
     "execution_count": 69,
     "metadata": {},
     "output_type": "execute_result"
    }
   ],
   "source": [
    "it = cities.__iter__()\n",
    "it"
   ]
  },
  {
   "cell_type": "code",
   "execution_count": 71,
   "id": "59f578e7-3796-4eac-898b-c30076cda8f0",
   "metadata": {},
   "outputs": [
    {
     "data": {
      "text/plain": [
       "<list_iterator at 0x2c97ce229b0>"
      ]
     },
     "execution_count": 71,
     "metadata": {},
     "output_type": "execute_result"
    }
   ],
   "source": [
    "it = iter(cities) # call cities.__iter__()\n",
    "it"
   ]
  },
  {
   "cell_type": "code",
   "execution_count": 75,
   "id": "e54fdfb7-7593-45ed-9619-1a8326b4c5ca",
   "metadata": {},
   "outputs": [],
   "source": [
    "# TypeError: 'int' object is not iterable\n",
    "# iter(x)"
   ]
  },
  {
   "cell_type": "code",
   "execution_count": 77,
   "id": "d9ee778a-958c-42a3-bce0-11a9355fa842",
   "metadata": {},
   "outputs": [
    {
     "data": {
      "text/plain": [
       "4"
      ]
     },
     "execution_count": 77,
     "metadata": {},
     "output_type": "execute_result"
    }
   ],
   "source": [
    "len(cities) # calls cities.__len__()"
   ]
  },
  {
   "cell_type": "code",
   "execution_count": 81,
   "id": "2a1f4869-1565-4ad2-b1ef-effd424fbb9d",
   "metadata": {},
   "outputs": [
    {
     "name": "stdout",
     "output_type": "stream",
     "text": [
      "['Nice', 'Lyon', 'Caen', 'Pau'] <class 'list'> 4 4\n",
      "('Nice', 342522, '06000') <class 'tuple'> 3 3\n",
      "{'name': 'Nice', 'population': 342522, 'zipcode': '06000'} <class 'dict'> 3 3\n",
      "Saint-Remy-en-Bouzemont-Saint-Genest-et-Isson <class 'str'> 45 45\n"
     ]
    }
   ],
   "source": [
    "for obj in cities, city_t, city_d, city:\n",
    "    print(obj, type(obj), len(obj), obj.__len__())"
   ]
  },
  {
   "cell_type": "code",
   "execution_count": 83,
   "id": "7518f5e5-7246-4c4b-94cd-8a45cd6cd7ec",
   "metadata": {},
   "outputs": [
    {
     "data": {
      "text/plain": [
       "True"
      ]
     },
     "execution_count": 83,
     "metadata": {},
     "output_type": "execute_result"
    }
   ],
   "source": [
    "\"Pau\" in cities"
   ]
  },
  {
   "cell_type": "code",
   "execution_count": 115,
   "id": "9fcae6ef-ddbc-4bcd-8cec-7aed9908aae6",
   "metadata": {},
   "outputs": [
    {
     "data": {
      "text/plain": [
       "<list_iterator at 0x2c97ca6aa40>"
      ]
     },
     "execution_count": 115,
     "metadata": {},
     "output_type": "execute_result"
    }
   ],
   "source": [
    "it = iter(cities)\n",
    "it"
   ]
  },
  {
   "cell_type": "code",
   "execution_count": 125,
   "id": "0ac2ca79-f1f2-44d6-9f9b-b75b903dc675",
   "metadata": {},
   "outputs": [
    {
     "ename": "StopIteration",
     "evalue": "",
     "output_type": "error",
     "traceback": [
      "\u001b[1;31m---------------------------------------------------------------------------\u001b[0m",
      "\u001b[1;31mStopIteration\u001b[0m                             Traceback (most recent call last)",
      "Cell \u001b[1;32mIn[125], line 1\u001b[0m\n\u001b[1;32m----> 1\u001b[0m \u001b[38;5;28mnext\u001b[39m(it)\n",
      "\u001b[1;31mStopIteration\u001b[0m: "
     ]
    }
   ],
   "source": [
    "# execute this cell until exception StopIteration\n",
    "next(it)"
   ]
  },
  {
   "cell_type": "code",
   "execution_count": 129,
   "id": "3862bf48-584d-428b-9be1-05c792e48451",
   "metadata": {},
   "outputs": [
    {
     "name": "stdout",
     "output_type": "stream",
     "text": [
      "Nice\n",
      "Lyon\n",
      "Caen\n",
      "Pau\n"
     ]
    }
   ],
   "source": [
    "# code equivalent to 'loop for'\n",
    "it = iter(cities)\n",
    "while True:\n",
    "    try:\n",
    "        city = next(it)\n",
    "        # do something with current value\n",
    "        print(city)\n",
    "    except StopIteration:\n",
    "        break"
   ]
  },
  {
   "cell_type": "code",
   "execution_count": null,
   "id": "8f5b4383-1635-4621-94be-090c2aaeda70",
   "metadata": {},
   "outputs": [],
   "source": []
  },
  {
   "cell_type": "code",
   "execution_count": 99,
   "id": "924e42d7-ea34-412d-9ea5-fb2c663baf29",
   "metadata": {},
   "outputs": [
    {
     "data": {
      "text/plain": [
       "90"
      ]
     },
     "execution_count": 99,
     "metadata": {},
     "output_type": "execute_result"
    }
   ],
   "source": [
    "sum([12, 33, 45])"
   ]
  },
  {
   "cell_type": "code",
   "execution_count": 101,
   "id": "c247d0c7-7c34-440a-959f-8de92a4a5252",
   "metadata": {},
   "outputs": [
    {
     "data": {
      "text/plain": [
       "57"
      ]
     },
     "execution_count": 101,
     "metadata": {},
     "output_type": "execute_result"
    }
   ],
   "source": [
    "12 + 45"
   ]
  },
  {
   "cell_type": "code",
   "execution_count": 105,
   "id": "d24400a7-f6c0-46eb-af24-b2f58477406b",
   "metadata": {},
   "outputs": [
    {
     "name": "stdout",
     "output_type": "stream",
     "text": [
      "0 - Nice\n",
      "1 - Lyon\n",
      "2 - Caen\n",
      "3 - Pau\n"
     ]
    }
   ],
   "source": [
    "for i, city in enumerate(cities):\n",
    "    print(i, city, sep=\" - \")"
   ]
  },
  {
   "cell_type": "code",
   "execution_count": 109,
   "id": "66ddc604-c33b-4b56-abbd-6f91e9ce768a",
   "metadata": {},
   "outputs": [
    {
     "name": "stdout",
     "output_type": "stream",
     "text": [
      "1 - Nice\n",
      "2 - Lyon\n",
      "3 - Caen\n",
      "4 - Pau\n"
     ]
    }
   ],
   "source": [
    "for i, city in enumerate(cities, start=1):\n",
    "    print(i, city, sep=\" - \")"
   ]
  },
  {
   "cell_type": "code",
   "execution_count": 113,
   "id": "6bae5dba-b671-40de-a9e5-af5273455292",
   "metadata": {},
   "outputs": [
    {
     "name": "stdout",
     "output_type": "stream",
     "text": [
      "1 - S\n",
      "2 - a\n",
      "3 - i\n",
      "4 - n\n",
      "5 - t\n",
      "6 - -\n",
      "7 - R\n",
      "8 - e\n",
      "9 - m\n",
      "10 - y\n",
      "11 - -\n",
      "12 - e\n",
      "13 - n\n",
      "14 - -\n",
      "15 - B\n",
      "16 - o\n",
      "17 - u\n",
      "18 - z\n",
      "19 - e\n",
      "20 - m\n",
      "21 - o\n",
      "22 - n\n",
      "23 - t\n",
      "24 - -\n",
      "25 - S\n",
      "26 - a\n",
      "27 - i\n",
      "28 - n\n",
      "29 - t\n",
      "30 - -\n",
      "31 - G\n",
      "32 - e\n",
      "33 - n\n",
      "34 - e\n",
      "35 - s\n",
      "36 - t\n",
      "37 - -\n",
      "38 - e\n",
      "39 - t\n",
      "40 - -\n",
      "41 - I\n",
      "42 - s\n",
      "43 - s\n",
      "44 - o\n",
      "45 - n\n"
     ]
    }
   ],
   "source": [
    "long_city = \"Saint-Remy-en-Bouzemont-Saint-Genest-et-Isson\"\n",
    "for i, letter in enumerate(long_city, start=1):\n",
    "    print(i, letter, sep=\" - \")"
   ]
  },
  {
   "cell_type": "code",
   "execution_count": 133,
   "id": "536b7752-69a4-47de-9c74-23a186f3dd3b",
   "metadata": {},
   "outputs": [
    {
     "data": {
      "text/plain": [
       "<enumerate at 0x2c97ca7ef70>"
      ]
     },
     "execution_count": 133,
     "metadata": {},
     "output_type": "execute_result"
    }
   ],
   "source": [
    "enumerate(long_city)"
   ]
  },
  {
   "cell_type": "code",
   "execution_count": 139,
   "id": "9dfb1ab2-b5a5-4a75-82ad-00371564143f",
   "metadata": {},
   "outputs": [
    {
     "data": {
      "text/plain": [
       "range(0, 1000000)"
      ]
     },
     "execution_count": 139,
     "metadata": {},
     "output_type": "execute_result"
    }
   ],
   "source": [
    "r = range(1_000_000)\n",
    "r"
   ]
  },
  {
   "cell_type": "code",
   "execution_count": 141,
   "id": "e8e26c5a-3879-43bb-ad48-82848e54fc11",
   "metadata": {},
   "outputs": [
    {
     "data": {
      "text/plain": [
       "499999500000"
      ]
     },
     "execution_count": 141,
     "metadata": {},
     "output_type": "execute_result"
    }
   ],
   "source": [
    "sum(r)"
   ]
  },
  {
   "cell_type": "code",
   "execution_count": 143,
   "id": "4ff5939d-9897-4b10-957b-0f74622a33a2",
   "metadata": {},
   "outputs": [
    {
     "name": "stdout",
     "output_type": "stream",
     "text": [
      "range(0, 1000000)\n"
     ]
    }
   ],
   "source": [
    "print(range(1_000_000))"
   ]
  },
  {
   "cell_type": "code",
   "execution_count": 147,
   "id": "27ed68ff-4f2f-40c9-b45d-07329a85f7ac",
   "metadata": {},
   "outputs": [
    {
     "data": {
      "text/plain": [
       "[0, 1, 2, 3, 4, 5, 6, 7, 8, 9]"
      ]
     },
     "execution_count": 147,
     "metadata": {},
     "output_type": "execute_result"
    }
   ],
   "source": [
    "values = list(range(10))\n",
    "values"
   ]
  },
  {
   "cell_type": "code",
   "execution_count": 149,
   "id": "d70ebb36-4d8a-4a2b-a8e3-b79e9525052d",
   "metadata": {},
   "outputs": [
    {
     "data": {
      "text/plain": [
       "[(1, 'Nice'), (2, 'Lyon'), (3, 'Caen'), (4, 'Pau')]"
      ]
     },
     "execution_count": 149,
     "metadata": {},
     "output_type": "execute_result"
    }
   ],
   "source": [
    "list(enumerate(cities, start=1))"
   ]
  },
  {
   "cell_type": "code",
   "execution_count": 153,
   "id": "add71077-0ba2-49bd-9214-063e0154247e",
   "metadata": {},
   "outputs": [
    {
     "data": {
      "text/plain": [
       "['Nice', 'Lyon', 'Caen', 'Pau', 'Toulouse', 'Marseille']"
      ]
     },
     "execution_count": 153,
     "metadata": {},
     "output_type": "execute_result"
    }
   ],
   "source": [
    "cities.extend([\"Toulouse\", \"Marseille\"]) # extend with an iterable list\n",
    "cities"
   ]
  },
  {
   "cell_type": "code",
   "execution_count": 155,
   "id": "571372f4-e351-4c45-8c3d-222dd8aa40a3",
   "metadata": {},
   "outputs": [
    {
     "data": {
      "text/plain": [
       "['Nice', 'Lyon', 'Caen', 'Pau', 'Toulouse', 'Marseille', 'Paris', 'Bordeaux']"
      ]
     },
     "execution_count": 155,
     "metadata": {},
     "output_type": "execute_result"
    }
   ],
   "source": [
    "cities.extend((\"Paris\", \"Bordeaux\"))\n",
    "cities"
   ]
  },
  {
   "cell_type": "code",
   "execution_count": 159,
   "id": "6a39f864-3342-4356-afab-6320b81804d6",
   "metadata": {},
   "outputs": [
    {
     "data": {
      "text/plain": [
       "[12, 34, 56, 0, 1, 2, 3, 4, 5, 6, 7, 8, 9]"
      ]
     },
     "execution_count": 159,
     "metadata": {},
     "output_type": "execute_result"
    }
   ],
   "source": [
    "numbers = [12, 34, 56]\n",
    "numbers.extend(range(10))\n",
    "numbers"
   ]
  },
  {
   "cell_type": "code",
   "execution_count": 163,
   "id": "3d2f2cf4-0609-4a33-aca7-6150a9c1cce7",
   "metadata": {},
   "outputs": [
    {
     "data": {
      "text/plain": [
       "<zip at 0x2c97d3c2300>"
      ]
     },
     "execution_count": 163,
     "metadata": {},
     "output_type": "execute_result"
    }
   ],
   "source": [
    "z = zip('abcdefg', range(3), range(4))\n",
    "z"
   ]
  },
  {
   "cell_type": "code",
   "execution_count": 165,
   "id": "4c1060f7-f8bf-4890-b51f-81fcb8ea74dc",
   "metadata": {},
   "outputs": [
    {
     "data": {
      "text/plain": [
       "[('a', 0, 0), ('b', 1, 1), ('c', 2, 2)]"
      ]
     },
     "execution_count": 165,
     "metadata": {},
     "output_type": "execute_result"
    }
   ],
   "source": [
    "list(z)"
   ]
  },
  {
   "cell_type": "code",
   "execution_count": 173,
   "id": "dfc06fc7-2788-430c-af6c-b451f1b757a6",
   "metadata": {},
   "outputs": [
    {
     "data": {
      "text/plain": [
       "[('a', 0, 0),\n",
       " ('b', 1, 1),\n",
       " ('c', 2, 2),\n",
       " ('d', None, 3),\n",
       " ('e', None, None),\n",
       " ('f', None, None),\n",
       " ('g', None, None)]"
      ]
     },
     "execution_count": 173,
     "metadata": {},
     "output_type": "execute_result"
    }
   ],
   "source": [
    "list(zip_longest('abcdefg', range(3), range(4)))"
   ]
  },
  {
   "cell_type": "code",
   "execution_count": 179,
   "id": "f3e5b1c8-d6cd-4315-8755-5f4f1b028828",
   "metadata": {},
   "outputs": [
    {
     "data": {
      "text/plain": [
       "itertools.zip_longest"
      ]
     },
     "execution_count": 179,
     "metadata": {},
     "output_type": "execute_result"
    }
   ],
   "source": [
    "zip_longest"
   ]
  },
  {
   "cell_type": "code",
   "execution_count": 181,
   "id": "77aef537-69dc-4568-8278-560de5b1aed3",
   "metadata": {},
   "outputs": [
    {
     "data": {
      "text/plain": [
       "<function math.sqrt(x, /)>"
      ]
     },
     "execution_count": 181,
     "metadata": {},
     "output_type": "execute_result"
    }
   ],
   "source": [
    "math.sqrt"
   ]
  },
  {
   "cell_type": "code",
   "execution_count": 183,
   "id": "c6e54559-4c9b-4908-b780-901836782c5e",
   "metadata": {},
   "outputs": [
    {
     "data": {
      "text/plain": [
       "<function sum at 0x000002C9788EF570>"
      ]
     },
     "execution_count": 183,
     "metadata": {},
     "output_type": "execute_result"
    }
   ],
   "source": [
    "np.sum"
   ]
  },
  {
   "cell_type": "code",
   "execution_count": 185,
   "id": "b0cb9a97-99b2-48f1-9237-0b4381767d87",
   "metadata": {},
   "outputs": [
    {
     "data": {
      "text/plain": [
       "<list_iterator at 0x2c97d4bdc60>"
      ]
     },
     "execution_count": 185,
     "metadata": {},
     "output_type": "execute_result"
    }
   ],
   "source": [
    "# an iterator is iterable\n",
    "it = iter(cities)\n",
    "it"
   ]
  },
  {
   "cell_type": "code",
   "execution_count": 187,
   "id": "cbd22f85-4cc8-4b0e-a48c-380492e4d6a3",
   "metadata": {},
   "outputs": [
    {
     "data": {
      "text/plain": [
       "<list_iterator at 0x2c97d4bdc60>"
      ]
     },
     "execution_count": 187,
     "metadata": {},
     "output_type": "execute_result"
    }
   ],
   "source": [
    "it2 = iter(it)\n",
    "it2"
   ]
  },
  {
   "cell_type": "code",
   "execution_count": 189,
   "id": "294f83b9-a2d4-42a3-ba56-e5371de31a23",
   "metadata": {},
   "outputs": [
    {
     "data": {
      "text/plain": [
       "True"
      ]
     },
     "execution_count": 189,
     "metadata": {},
     "output_type": "execute_result"
    }
   ],
   "source": [
    "it is it2"
   ]
  },
  {
   "cell_type": "code",
   "execution_count": 193,
   "id": "c147d279-0974-4100-9bf8-1c8ac982feca",
   "metadata": {},
   "outputs": [
    {
     "data": {
      "text/plain": [
       "True"
      ]
     },
     "execution_count": 193,
     "metadata": {},
     "output_type": "execute_result"
    }
   ],
   "source": [
    "12 == 24 * 2 // 4"
   ]
  },
  {
   "cell_type": "code",
   "execution_count": 195,
   "id": "2de57c2c-bbfd-44f9-ab60-4c2d2b09d6ac",
   "metadata": {},
   "outputs": [
    {
     "data": {
      "text/plain": [
       "True"
      ]
     },
     "execution_count": 195,
     "metadata": {},
     "output_type": "execute_result"
    }
   ],
   "source": [
    "city.upper().lower() == city.lower()"
   ]
  },
  {
   "cell_type": "code",
   "execution_count": 197,
   "id": "62cbac2b-d7fa-4112-8d90-c3be83c7a0de",
   "metadata": {},
   "outputs": [
    {
     "data": {
      "text/plain": [
       "False"
      ]
     },
     "execution_count": 197,
     "metadata": {},
     "output_type": "execute_result"
    }
   ],
   "source": [
    "city.upper().lower() is city.lower()"
   ]
  },
  {
   "cell_type": "code",
   "execution_count": 201,
   "id": "06bfe181-4024-4b52-b4f3-34fe51c4f246",
   "metadata": {},
   "outputs": [
    {
     "data": {
      "text/plain": [
       "['Nice', 'Lyon', 'Caen', 'Pau', 'Toulouse', 'Marseille', 'Paris', 'Bordeaux']"
      ]
     },
     "execution_count": 201,
     "metadata": {},
     "output_type": "execute_result"
    }
   ],
   "source": [
    "list(it)"
   ]
  },
  {
   "cell_type": "markdown",
   "id": "c8ae5b76-0607-4098-962a-a08b952d6e39",
   "metadata": {},
   "source": [
    "## Expression for"
   ]
  },
  {
   "cell_type": "code",
   "execution_count": 211,
   "id": "2882bed9-9348-4142-8b21-57b914edd0d0",
   "metadata": {},
   "outputs": [
    {
     "data": {
      "text/plain": [
       "['Nice', 'Lyon', 'Caen', 'Pau', 'Toulouse', 'Marseille', 'Paris', 'Bordeaux']"
      ]
     },
     "execution_count": 211,
     "metadata": {},
     "output_type": "execute_result"
    }
   ],
   "source": [
    "cities"
   ]
  },
  {
   "cell_type": "code",
   "execution_count": 203,
   "id": "02c6b568-5142-4923-8254-7e5e1dda5640",
   "metadata": {},
   "outputs": [
    {
     "data": {
      "text/plain": [
       "['NICE', 'LYON', 'CAEN', 'PAU', 'TOULOUSE', 'MARSEILLE', 'PARIS', 'BORDEAUX']"
      ]
     },
     "execution_count": 203,
     "metadata": {},
     "output_type": "execute_result"
    }
   ],
   "source": [
    "# list comprehension: expression for with [ ]\n",
    "[ city.upper() for city in cities ]"
   ]
  },
  {
   "cell_type": "code",
   "execution_count": 205,
   "id": "8a82ad54-1c0e-4a60-8d5e-6c6712f92983",
   "metadata": {},
   "outputs": [
    {
     "data": {
      "text/plain": [
       "<generator object <genexpr> at 0x000002C97CB09E50>"
      ]
     },
     "execution_count": 205,
     "metadata": {},
     "output_type": "execute_result"
    }
   ],
   "source": [
    "# expression for a generator\n",
    "g = (city.upper() for city in cities)\n",
    "g"
   ]
  },
  {
   "cell_type": "code",
   "execution_count": 207,
   "id": "c2c3ddb5-86eb-4c6f-ab36-e92cabbf41b1",
   "metadata": {},
   "outputs": [
    {
     "data": {
      "text/plain": [
       "['NICE', 'LYON', 'CAEN', 'PAU', 'TOULOUSE', 'MARSEILLE', 'PARIS', 'BORDEAUX']"
      ]
     },
     "execution_count": 207,
     "metadata": {},
     "output_type": "execute_result"
    }
   ],
   "source": [
    "list(g)"
   ]
  },
  {
   "cell_type": "code",
   "execution_count": 209,
   "id": "a58631ae-2bdd-42b9-8ecd-f8a6697a8a75",
   "metadata": {},
   "outputs": [
    {
     "data": {
      "text/plain": [
       "[]"
      ]
     },
     "execution_count": 209,
     "metadata": {},
     "output_type": "execute_result"
    }
   ],
   "source": [
    "list(g)"
   ]
  },
  {
   "cell_type": "code",
   "execution_count": 214,
   "id": "5335ec7a-ceb1-44ca-b1eb-52854025eb95",
   "metadata": {},
   "outputs": [
    {
     "data": {
      "text/plain": [
       "45"
      ]
     },
     "execution_count": 214,
     "metadata": {},
     "output_type": "execute_result"
    }
   ],
   "source": [
    "# compute total number of letters to write all cities\n",
    "sum(len(city) for city in cities)"
   ]
  },
  {
   "cell_type": "code",
   "execution_count": 216,
   "id": "235494b4-58c9-46a6-8907-12e8f6a802ba",
   "metadata": {},
   "outputs": [
    {
     "data": {
      "text/plain": [
       "45"
      ]
     },
     "execution_count": 216,
     "metadata": {},
     "output_type": "execute_result"
    }
   ],
   "source": [
    "total = 0\n",
    "for city in cities:\n",
    "    total += len(city)\n",
    "total"
   ]
  },
  {
   "cell_type": "code",
   "execution_count": 218,
   "id": "1f5ef179-fd0b-4208-9e5f-74c61aa4c774",
   "metadata": {},
   "outputs": [
    {
     "data": {
      "text/plain": [
       "[4, 4, 4, 3, 8, 9, 5, 8]"
      ]
     },
     "execution_count": 218,
     "metadata": {},
     "output_type": "execute_result"
    }
   ],
   "source": [
    "city_lengths = [ len(city) for city in cities ]\n",
    "city_lengths"
   ]
  },
  {
   "cell_type": "code",
   "execution_count": 220,
   "id": "81973383-c1d7-476e-a833-d31272608647",
   "metadata": {},
   "outputs": [
    {
     "data": {
      "text/plain": [
       "45"
      ]
     },
     "execution_count": 220,
     "metadata": {},
     "output_type": "execute_result"
    }
   ],
   "source": [
    "total = 0\n",
    "for l in city_lengths:\n",
    "    total += l\n",
    "total"
   ]
  },
  {
   "cell_type": "code",
   "execution_count": 222,
   "id": "40be10f5-6121-43d9-8d82-bf30415b8c4f",
   "metadata": {},
   "outputs": [
    {
     "data": {
      "text/plain": [
       "{'Nice': 4,\n",
       " 'Lyon': 4,\n",
       " 'Caen': 4,\n",
       " 'Pau': 3,\n",
       " 'Toulouse': 8,\n",
       " 'Marseille': 9,\n",
       " 'Paris': 5,\n",
       " 'Bordeaux': 8}"
      ]
     },
     "execution_count": 222,
     "metadata": {},
     "output_type": "execute_result"
    }
   ],
   "source": [
    "# dict comprehension\n",
    "{ city: len(city) for city in cities }"
   ]
  },
  {
   "cell_type": "code",
   "execution_count": 246,
   "id": "e3ab9a11-9e4b-46bd-a3cb-5cbad29bf2ab",
   "metadata": {},
   "outputs": [
    {
     "data": {
      "text/plain": [
       "[True, True, True, True, True, True, True, True]"
      ]
     },
     "execution_count": 246,
     "metadata": {},
     "output_type": "execute_result"
    }
   ],
   "source": [
    "length_threshold = 3\n",
    "[len(city) >= length_threshold for city in cities]"
   ]
  },
  {
   "cell_type": "code",
   "execution_count": 247,
   "id": "d5e999e5-7a17-4226-a15d-046532eb3e2b",
   "metadata": {},
   "outputs": [
    {
     "data": {
      "text/plain": [
       "True"
      ]
     },
     "execution_count": 247,
     "metadata": {},
     "output_type": "execute_result"
    }
   ],
   "source": [
    "all(len(city) >= length_threshold for city in cities)"
   ]
  },
  {
   "cell_type": "code",
   "execution_count": 248,
   "id": "ff939d4c-a9eb-4703-8a32-f1af019f2b4d",
   "metadata": {},
   "outputs": [
    {
     "data": {
      "text/plain": [
       "True"
      ]
     },
     "execution_count": 248,
     "metadata": {},
     "output_type": "execute_result"
    }
   ],
   "source": [
    "any(len(city) >= length_threshold for city in cities)"
   ]
  },
  {
   "cell_type": "code",
   "execution_count": 252,
   "id": "a932958c-0b47-41ba-8382-b358582e1395",
   "metadata": {},
   "outputs": [
    {
     "data": {
      "text/plain": [
       "45"
      ]
     },
     "execution_count": 252,
     "metadata": {},
     "output_type": "execute_result"
    }
   ],
   "source": [
    "sum(len(city) for city in cities)"
   ]
  },
  {
   "cell_type": "code",
   "execution_count": 262,
   "id": "b99df1bd-a57a-40ec-b62c-9c7cb5e55021",
   "metadata": {},
   "outputs": [
    {
     "data": {
      "text/plain": [
       "1045"
      ]
     },
     "execution_count": 262,
     "metadata": {},
     "output_type": "execute_result"
    }
   ],
   "source": [
    "sum((len(city) for city in cities), start=1000)"
   ]
  },
  {
   "cell_type": "code",
   "execution_count": 266,
   "id": "46ea8a9a-9c78-4b91-8cbf-fae27ab6164a",
   "metadata": {},
   "outputs": [
    {
     "name": "stdout",
     "output_type": "stream",
     "text": [
      "45\n",
      "1045\n"
     ]
    }
   ],
   "source": [
    "# non optimal: list comprehension vs generator expresion\n",
    "print(sum([len(city) for city in cities]))\n",
    "print(sum([len(city) for city in cities], start=1000))"
   ]
  }
 ],
 "metadata": {
  "kernelspec": {
   "display_name": "Python 3 (ipykernel)",
   "language": "python",
   "name": "python3"
  },
  "language_info": {
   "codemirror_mode": {
    "name": "ipython",
    "version": 3
   },
   "file_extension": ".py",
   "mimetype": "text/x-python",
   "name": "python",
   "nbconvert_exporter": "python",
   "pygments_lexer": "ipython3",
   "version": "3.12.4"
  }
 },
 "nbformat": 4,
 "nbformat_minor": 5
}
