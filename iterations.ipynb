{
 "cells": [
  {
   "cell_type": "markdown",
   "id": "b6ae72e6-8d50-400d-abfb-e7d1a3d2e488",
   "metadata": {},
   "source": [
    "# Iterations"
   ]
  },
  {
   "cell_type": "code",
   "execution_count": 2,
   "id": "878529aa-a500-43cd-bd5a-6185a5e93e40",
   "metadata": {},
   "outputs": [],
   "source": [
    "import math\n",
    "import numpy as np\n",
    "from itertools import zip_longest\n",
    "import locale\n",
    "import csv # in python standard library\n",
    "import pandas as pd # scientific python"
   ]
  },
  {
   "cell_type": "code",
   "execution_count": 3,
   "id": "2c80ac7f-b676-42b5-967b-dd9796d1f6e4",
   "metadata": {},
   "outputs": [],
   "source": [
    "cities = [\"Nice\", \"Lyon\", \"Caen\", \"Pau\"]\n",
    "city_t = (\"Nice\",  342_522, \"06000\")\n",
    "city_d = { \n",
    "    \"name\": \"Nice\",\n",
    "    \"population\": 342_522,\n",
    "    \"zipcode\": \"06000\"\n",
    "}"
   ]
  },
  {
   "cell_type": "code",
   "execution_count": 4,
   "id": "da13b6a3-24a5-4488-9f88-6bee9e2e596e",
   "metadata": {},
   "outputs": [
    {
     "data": {
      "text/plain": [
       "['Nice', 'Lyon', 'Caen', 'Pau']"
      ]
     },
     "execution_count": 4,
     "metadata": {},
     "output_type": "execute_result"
    }
   ],
   "source": [
    "cities # uses repr"
   ]
  },
  {
   "cell_type": "code",
   "execution_count": 5,
   "id": "28add336-ae90-4a69-a0d4-65af1df90244",
   "metadata": {},
   "outputs": [
    {
     "name": "stdout",
     "output_type": "stream",
     "text": [
      "['Nice', 'Lyon', 'Caen', 'Pau']\n"
     ]
    }
   ],
   "source": [
    "print(cities) # uses str"
   ]
  },
  {
   "cell_type": "code",
   "execution_count": 6,
   "id": "fe612296-95ab-4f84-b027-e3efb0728a76",
   "metadata": {},
   "outputs": [
    {
     "name": "stdout",
     "output_type": "stream",
     "text": [
      "Nice\n"
     ]
    },
    {
     "data": {
      "text/plain": [
       "'Nice'"
      ]
     },
     "execution_count": 6,
     "metadata": {},
     "output_type": "execute_result"
    }
   ],
   "source": [
    "city = cities[0]\n",
    "print(city)\n",
    "city"
   ]
  },
  {
   "cell_type": "code",
   "execution_count": 7,
   "id": "36e27106-66c8-4ecd-bf3c-b48b7c36c869",
   "metadata": {},
   "outputs": [
    {
     "name": "stdout",
     "output_type": "stream",
     "text": [
      "Nice 'Nice'\n"
     ]
    }
   ],
   "source": [
    "print(str(city), repr(city))"
   ]
  },
  {
   "cell_type": "code",
   "execution_count": 8,
   "id": "992efaf0-af85-4b39-9e86-e31dafc60a29",
   "metadata": {},
   "outputs": [
    {
     "name": "stdout",
     "output_type": "stream",
     "text": [
      "Nice\n",
      "Lyon\n",
      "Caen\n",
      "Pau\n"
     ]
    }
   ],
   "source": [
    "for city in cities:\n",
    "    print(city)"
   ]
  },
  {
   "cell_type": "code",
   "execution_count": 9,
   "id": "fcd11ba2-ed6e-4db4-8eca-f666fd40e210",
   "metadata": {},
   "outputs": [],
   "source": [
    "# TypeError: 'int' object is not iterable\n",
    "# for x in 12345:\n",
    "#     print(x)"
   ]
  },
  {
   "cell_type": "code",
   "execution_count": 10,
   "id": "a7ac9743-e6fc-4d27-808f-716733ff78ec",
   "metadata": {},
   "outputs": [
    {
     "name": "stdout",
     "output_type": "stream",
     "text": [
      "S  a  i  n  t  -  R  e  m  y  -  e  n  -  B  o  u  z  e  m  o  n  t  -  S  a  i  n  t  -  G  e  n  e  s  t  -  e  t  -  I  s  s  o  n  "
     ]
    }
   ],
   "source": [
    "city = \"Saint-Remy-en-Bouzemont-Saint-Genest-et-Isson\"\n",
    "for letter in city:\n",
    "    print(letter, end='  ')"
   ]
  },
  {
   "cell_type": "code",
   "execution_count": 11,
   "id": "750b95a7-83bb-40d6-9d30-03140bcfe2aa",
   "metadata": {},
   "outputs": [
    {
     "name": "stdout",
     "output_type": "stream",
     "text": [
      "Nice\n",
      "342522\n",
      "06000\n"
     ]
    }
   ],
   "source": [
    "for info in city_t:\n",
    "    print(info)"
   ]
  },
  {
   "cell_type": "code",
   "execution_count": 12,
   "id": "74ad4f6d-4487-4ea7-90e4-b64a35748558",
   "metadata": {},
   "outputs": [
    {
     "name": "stdout",
     "output_type": "stream",
     "text": [
      "name\n",
      "population\n",
      "zipcode\n"
     ]
    }
   ],
   "source": [
    "# default iteration on dict: keys\n",
    "for info_name in city_d:\n",
    "    print(info_name)"
   ]
  },
  {
   "cell_type": "code",
   "execution_count": 13,
   "id": "f5babeca-7fc6-40de-a17d-f3ec187a072d",
   "metadata": {},
   "outputs": [
    {
     "name": "stdout",
     "output_type": "stream",
     "text": [
      "name\n",
      "population\n",
      "zipcode\n"
     ]
    }
   ],
   "source": [
    "for info_name in city_d.keys():\n",
    "    print(info_name)"
   ]
  },
  {
   "cell_type": "code",
   "execution_count": 14,
   "id": "bbd4c16e-4cd3-4fad-9db6-405d69fd3273",
   "metadata": {},
   "outputs": [
    {
     "name": "stdout",
     "output_type": "stream",
     "text": [
      "Nice\n",
      "342522\n",
      "06000\n"
     ]
    }
   ],
   "source": [
    "for info_value in city_d.values():\n",
    "    print(info_value)"
   ]
  },
  {
   "cell_type": "code",
   "execution_count": 15,
   "id": "8cd870b0-9c22-490f-b775-db2726fbef6b",
   "metadata": {},
   "outputs": [
    {
     "name": "stdout",
     "output_type": "stream",
     "text": [
      "name: Nice\n",
      "population: 342522\n",
      "zipcode: 06000\n"
     ]
    }
   ],
   "source": [
    "for info_name, info_value in city_d.items():\n",
    "    print(info_name, info_value, sep=\": \")"
   ]
  },
  {
   "cell_type": "code",
   "execution_count": 16,
   "id": "e64da609-f3d1-4989-87d4-5aa06ef6e48d",
   "metadata": {},
   "outputs": [
    {
     "data": {
      "text/plain": [
       "enumerate"
      ]
     },
     "execution_count": 16,
     "metadata": {},
     "output_type": "execute_result"
    }
   ],
   "source": [
    "enumerate"
   ]
  },
  {
   "cell_type": "code",
   "execution_count": 17,
   "id": "16e69c65-b3a2-4d39-a7d6-b56d5e9204ec",
   "metadata": {},
   "outputs": [
    {
     "data": {
      "text/plain": [
       "dict"
      ]
     },
     "execution_count": 17,
     "metadata": {},
     "output_type": "execute_result"
    }
   ],
   "source": [
    "type(city_d)"
   ]
  },
  {
   "cell_type": "code",
   "execution_count": 18,
   "id": "73531dc6-2e60-44ab-9415-5df08133b51e",
   "metadata": {},
   "outputs": [
    {
     "name": "stdout",
     "output_type": "stream",
     "text": [
      "Help on built-in function count:\n",
      "\n",
      "count(value, /) method of builtins.tuple instance\n",
      "    Return number of occurrences of value.\n",
      "\n"
     ]
    }
   ],
   "source": [
    "# aide de python\n",
    "help(city_t.count)"
   ]
  },
  {
   "cell_type": "code",
   "execution_count": 19,
   "id": "6b3a72b5-9442-43c6-8d26-07e9aeb2369a",
   "metadata": {},
   "outputs": [
    {
     "data": {
      "text/plain": [
       "\u001b[1;31mSignature:\u001b[0m \u001b[0mcity_t\u001b[0m\u001b[1;33m.\u001b[0m\u001b[0mcount\u001b[0m\u001b[1;33m(\u001b[0m\u001b[0mvalue\u001b[0m\u001b[1;33m,\u001b[0m \u001b[1;33m/\u001b[0m\u001b[1;33m)\u001b[0m\u001b[1;33m\u001b[0m\u001b[1;33m\u001b[0m\u001b[0m\n",
       "\u001b[1;31mDocstring:\u001b[0m Return number of occurrences of value.\n",
       "\u001b[1;31mType:\u001b[0m      builtin_function_or_method"
      ]
     },
     "metadata": {},
     "output_type": "display_data"
    }
   ],
   "source": [
    "# aide ipython, notebook\n",
    "city_t.count?"
   ]
  },
  {
   "cell_type": "code",
   "execution_count": 20,
   "id": "1b3bad39-f41b-410c-bc79-fee27fa914d1",
   "metadata": {},
   "outputs": [
    {
     "data": {
      "text/plain": [
       "<method-wrapper '__iter__' of list object at 0x000001B7113C3B00>"
      ]
     },
     "execution_count": 20,
     "metadata": {},
     "output_type": "execute_result"
    }
   ],
   "source": [
    "# each iterable object has a hidden method __iter__\n",
    "cities.__iter__"
   ]
  },
  {
   "cell_type": "code",
   "execution_count": 21,
   "id": "ad7a1d57-1ed2-4ecc-9a15-22137d23b3e0",
   "metadata": {},
   "outputs": [
    {
     "data": {
      "text/plain": [
       "<slot wrapper '__iter__' of 'list' objects>"
      ]
     },
     "execution_count": 21,
     "metadata": {},
     "output_type": "execute_result"
    }
   ],
   "source": [
    "list.__iter__"
   ]
  },
  {
   "cell_type": "code",
   "execution_count": 22,
   "id": "43dffa73-edf8-4362-b1f5-5122c9713464",
   "metadata": {},
   "outputs": [],
   "source": [
    "x = 123 "
   ]
  },
  {
   "cell_type": "code",
   "execution_count": 23,
   "id": "16f7bcef-f541-48d8-a9bf-ccae5dae2eaa",
   "metadata": {},
   "outputs": [],
   "source": [
    "# AttributeError: 'int' object has no attribute '__iter__'\n",
    "# x.__iter__"
   ]
  },
  {
   "cell_type": "code",
   "execution_count": 24,
   "id": "2bdcd497-c513-41e3-931a-7aad2e0ac781",
   "metadata": {},
   "outputs": [
    {
     "data": {
      "text/plain": [
       "<list_iterator at 0x1b7139bbee0>"
      ]
     },
     "execution_count": 24,
     "metadata": {},
     "output_type": "execute_result"
    }
   ],
   "source": [
    "it = cities.__iter__()\n",
    "it"
   ]
  },
  {
   "cell_type": "code",
   "execution_count": 25,
   "id": "59f578e7-3796-4eac-898b-c30076cda8f0",
   "metadata": {},
   "outputs": [
    {
     "data": {
      "text/plain": [
       "<list_iterator at 0x1b7139f2200>"
      ]
     },
     "execution_count": 25,
     "metadata": {},
     "output_type": "execute_result"
    }
   ],
   "source": [
    "it = iter(cities) # call cities.__iter__()\n",
    "it"
   ]
  },
  {
   "cell_type": "code",
   "execution_count": 26,
   "id": "e54fdfb7-7593-45ed-9619-1a8326b4c5ca",
   "metadata": {},
   "outputs": [],
   "source": [
    "# TypeError: 'int' object is not iterable\n",
    "# iter(x)"
   ]
  },
  {
   "cell_type": "code",
   "execution_count": 27,
   "id": "d9ee778a-958c-42a3-bce0-11a9355fa842",
   "metadata": {},
   "outputs": [
    {
     "data": {
      "text/plain": [
       "4"
      ]
     },
     "execution_count": 27,
     "metadata": {},
     "output_type": "execute_result"
    }
   ],
   "source": [
    "len(cities) # calls cities.__len__()"
   ]
  },
  {
   "cell_type": "code",
   "execution_count": 28,
   "id": "2a1f4869-1565-4ad2-b1ef-effd424fbb9d",
   "metadata": {},
   "outputs": [
    {
     "name": "stdout",
     "output_type": "stream",
     "text": [
      "['Nice', 'Lyon', 'Caen', 'Pau'] <class 'list'> 4 4\n",
      "('Nice', 342522, '06000') <class 'tuple'> 3 3\n",
      "{'name': 'Nice', 'population': 342522, 'zipcode': '06000'} <class 'dict'> 3 3\n",
      "Saint-Remy-en-Bouzemont-Saint-Genest-et-Isson <class 'str'> 45 45\n"
     ]
    }
   ],
   "source": [
    "for obj in cities, city_t, city_d, city:\n",
    "    print(obj, type(obj), len(obj), obj.__len__())"
   ]
  },
  {
   "cell_type": "code",
   "execution_count": 29,
   "id": "7518f5e5-7246-4c4b-94cd-8a45cd6cd7ec",
   "metadata": {},
   "outputs": [
    {
     "data": {
      "text/plain": [
       "True"
      ]
     },
     "execution_count": 29,
     "metadata": {},
     "output_type": "execute_result"
    }
   ],
   "source": [
    "\"Pau\" in cities"
   ]
  },
  {
   "cell_type": "code",
   "execution_count": 30,
   "id": "9fcae6ef-ddbc-4bcd-8cec-7aed9908aae6",
   "metadata": {},
   "outputs": [
    {
     "data": {
      "text/plain": [
       "<list_iterator at 0x1b7139f3760>"
      ]
     },
     "execution_count": 30,
     "metadata": {},
     "output_type": "execute_result"
    }
   ],
   "source": [
    "it = iter(cities)\n",
    "it"
   ]
  },
  {
   "cell_type": "code",
   "execution_count": 31,
   "id": "0ac2ca79-f1f2-44d6-9f9b-b75b903dc675",
   "metadata": {},
   "outputs": [
    {
     "data": {
      "text/plain": [
       "'Nice'"
      ]
     },
     "execution_count": 31,
     "metadata": {},
     "output_type": "execute_result"
    }
   ],
   "source": [
    "# execute this cell until exception StopIteration\n",
    "next(it)"
   ]
  },
  {
   "cell_type": "code",
   "execution_count": 32,
   "id": "3862bf48-584d-428b-9be1-05c792e48451",
   "metadata": {},
   "outputs": [
    {
     "name": "stdout",
     "output_type": "stream",
     "text": [
      "Nice\n",
      "Lyon\n",
      "Caen\n",
      "Pau\n"
     ]
    }
   ],
   "source": [
    "# code equivalent to 'loop for'\n",
    "it = iter(cities)\n",
    "while True:\n",
    "    try:\n",
    "        city = next(it)\n",
    "        # do something with current value\n",
    "        print(city)\n",
    "    except StopIteration:\n",
    "        break"
   ]
  },
  {
   "cell_type": "code",
   "execution_count": null,
   "id": "8f5b4383-1635-4621-94be-090c2aaeda70",
   "metadata": {},
   "outputs": [],
   "source": []
  },
  {
   "cell_type": "code",
   "execution_count": 33,
   "id": "924e42d7-ea34-412d-9ea5-fb2c663baf29",
   "metadata": {},
   "outputs": [
    {
     "data": {
      "text/plain": [
       "90"
      ]
     },
     "execution_count": 33,
     "metadata": {},
     "output_type": "execute_result"
    }
   ],
   "source": [
    "sum([12, 33, 45])"
   ]
  },
  {
   "cell_type": "code",
   "execution_count": 34,
   "id": "c247d0c7-7c34-440a-959f-8de92a4a5252",
   "metadata": {},
   "outputs": [
    {
     "data": {
      "text/plain": [
       "57"
      ]
     },
     "execution_count": 34,
     "metadata": {},
     "output_type": "execute_result"
    }
   ],
   "source": [
    "12 + 45"
   ]
  },
  {
   "cell_type": "code",
   "execution_count": 35,
   "id": "d24400a7-f6c0-46eb-af24-b2f58477406b",
   "metadata": {},
   "outputs": [
    {
     "name": "stdout",
     "output_type": "stream",
     "text": [
      "0 - Nice\n",
      "1 - Lyon\n",
      "2 - Caen\n",
      "3 - Pau\n"
     ]
    }
   ],
   "source": [
    "for i, city in enumerate(cities):\n",
    "    print(i, city, sep=\" - \")"
   ]
  },
  {
   "cell_type": "code",
   "execution_count": 36,
   "id": "66ddc604-c33b-4b56-abbd-6f91e9ce768a",
   "metadata": {},
   "outputs": [
    {
     "name": "stdout",
     "output_type": "stream",
     "text": [
      "1 - Nice\n",
      "2 - Lyon\n",
      "3 - Caen\n",
      "4 - Pau\n"
     ]
    }
   ],
   "source": [
    "for i, city in enumerate(cities, start=1):\n",
    "    print(i, city, sep=\" - \")"
   ]
  },
  {
   "cell_type": "code",
   "execution_count": 37,
   "id": "6bae5dba-b671-40de-a9e5-af5273455292",
   "metadata": {},
   "outputs": [
    {
     "name": "stdout",
     "output_type": "stream",
     "text": [
      "1 - S\n",
      "2 - a\n",
      "3 - i\n",
      "4 - n\n",
      "5 - t\n",
      "6 - -\n",
      "7 - R\n",
      "8 - e\n",
      "9 - m\n",
      "10 - y\n",
      "11 - -\n",
      "12 - e\n",
      "13 - n\n",
      "14 - -\n",
      "15 - B\n",
      "16 - o\n",
      "17 - u\n",
      "18 - z\n",
      "19 - e\n",
      "20 - m\n",
      "21 - o\n",
      "22 - n\n",
      "23 - t\n",
      "24 - -\n",
      "25 - S\n",
      "26 - a\n",
      "27 - i\n",
      "28 - n\n",
      "29 - t\n",
      "30 - -\n",
      "31 - G\n",
      "32 - e\n",
      "33 - n\n",
      "34 - e\n",
      "35 - s\n",
      "36 - t\n",
      "37 - -\n",
      "38 - e\n",
      "39 - t\n",
      "40 - -\n",
      "41 - I\n",
      "42 - s\n",
      "43 - s\n",
      "44 - o\n",
      "45 - n\n"
     ]
    }
   ],
   "source": [
    "long_city = \"Saint-Remy-en-Bouzemont-Saint-Genest-et-Isson\"\n",
    "for i, letter in enumerate(long_city, start=1):\n",
    "    print(i, letter, sep=\" - \")"
   ]
  },
  {
   "cell_type": "code",
   "execution_count": 38,
   "id": "536b7752-69a4-47de-9c74-23a186f3dd3b",
   "metadata": {},
   "outputs": [
    {
     "data": {
      "text/plain": [
       "<enumerate at 0x1b711354a90>"
      ]
     },
     "execution_count": 38,
     "metadata": {},
     "output_type": "execute_result"
    }
   ],
   "source": [
    "enumerate(long_city)"
   ]
  },
  {
   "cell_type": "code",
   "execution_count": 39,
   "id": "9dfb1ab2-b5a5-4a75-82ad-00371564143f",
   "metadata": {},
   "outputs": [
    {
     "data": {
      "text/plain": [
       "range(0, 1000000)"
      ]
     },
     "execution_count": 39,
     "metadata": {},
     "output_type": "execute_result"
    }
   ],
   "source": [
    "r = range(1_000_000)\n",
    "r"
   ]
  },
  {
   "cell_type": "code",
   "execution_count": 40,
   "id": "e8e26c5a-3879-43bb-ad48-82848e54fc11",
   "metadata": {},
   "outputs": [
    {
     "data": {
      "text/plain": [
       "499999500000"
      ]
     },
     "execution_count": 40,
     "metadata": {},
     "output_type": "execute_result"
    }
   ],
   "source": [
    "sum(r)"
   ]
  },
  {
   "cell_type": "code",
   "execution_count": 41,
   "id": "4ff5939d-9897-4b10-957b-0f74622a33a2",
   "metadata": {},
   "outputs": [
    {
     "name": "stdout",
     "output_type": "stream",
     "text": [
      "range(0, 1000000)\n"
     ]
    }
   ],
   "source": [
    "print(range(1_000_000))"
   ]
  },
  {
   "cell_type": "code",
   "execution_count": 42,
   "id": "27ed68ff-4f2f-40c9-b45d-07329a85f7ac",
   "metadata": {},
   "outputs": [
    {
     "data": {
      "text/plain": [
       "[0, 1, 2, 3, 4, 5, 6, 7, 8, 9]"
      ]
     },
     "execution_count": 42,
     "metadata": {},
     "output_type": "execute_result"
    }
   ],
   "source": [
    "values = list(range(10))\n",
    "values"
   ]
  },
  {
   "cell_type": "code",
   "execution_count": 43,
   "id": "d70ebb36-4d8a-4a2b-a8e3-b79e9525052d",
   "metadata": {},
   "outputs": [
    {
     "data": {
      "text/plain": [
       "[(1, 'Nice'), (2, 'Lyon'), (3, 'Caen'), (4, 'Pau')]"
      ]
     },
     "execution_count": 43,
     "metadata": {},
     "output_type": "execute_result"
    }
   ],
   "source": [
    "list(enumerate(cities, start=1))"
   ]
  },
  {
   "cell_type": "code",
   "execution_count": 44,
   "id": "add71077-0ba2-49bd-9214-063e0154247e",
   "metadata": {},
   "outputs": [
    {
     "data": {
      "text/plain": [
       "['Nice', 'Lyon', 'Caen', 'Pau', 'Toulouse', 'Marseille']"
      ]
     },
     "execution_count": 44,
     "metadata": {},
     "output_type": "execute_result"
    }
   ],
   "source": [
    "cities.extend([\"Toulouse\", \"Marseille\"]) # extend with an iterable list\n",
    "cities"
   ]
  },
  {
   "cell_type": "code",
   "execution_count": 45,
   "id": "571372f4-e351-4c45-8c3d-222dd8aa40a3",
   "metadata": {},
   "outputs": [
    {
     "data": {
      "text/plain": [
       "['Nice', 'Lyon', 'Caen', 'Pau', 'Toulouse', 'Marseille', 'Paris', 'Bordeaux']"
      ]
     },
     "execution_count": 45,
     "metadata": {},
     "output_type": "execute_result"
    }
   ],
   "source": [
    "cities.extend((\"Paris\", \"Bordeaux\"))\n",
    "cities"
   ]
  },
  {
   "cell_type": "code",
   "execution_count": 46,
   "id": "6a39f864-3342-4356-afab-6320b81804d6",
   "metadata": {},
   "outputs": [
    {
     "data": {
      "text/plain": [
       "[12, 34, 56, 0, 1, 2, 3, 4, 5, 6, 7, 8, 9]"
      ]
     },
     "execution_count": 46,
     "metadata": {},
     "output_type": "execute_result"
    }
   ],
   "source": [
    "numbers = [12, 34, 56]\n",
    "numbers.extend(range(10))\n",
    "numbers"
   ]
  },
  {
   "cell_type": "code",
   "execution_count": 47,
   "id": "3d2f2cf4-0609-4a33-aca7-6150a9c1cce7",
   "metadata": {},
   "outputs": [
    {
     "data": {
      "text/plain": [
       "<zip at 0x1b713a61ec0>"
      ]
     },
     "execution_count": 47,
     "metadata": {},
     "output_type": "execute_result"
    }
   ],
   "source": [
    "z = zip('abcdefg', range(3), range(4))\n",
    "z"
   ]
  },
  {
   "cell_type": "code",
   "execution_count": 48,
   "id": "4c1060f7-f8bf-4890-b51f-81fcb8ea74dc",
   "metadata": {},
   "outputs": [
    {
     "data": {
      "text/plain": [
       "[('a', 0, 0), ('b', 1, 1), ('c', 2, 2)]"
      ]
     },
     "execution_count": 48,
     "metadata": {},
     "output_type": "execute_result"
    }
   ],
   "source": [
    "list(z)"
   ]
  },
  {
   "cell_type": "code",
   "execution_count": 49,
   "id": "dfc06fc7-2788-430c-af6c-b451f1b757a6",
   "metadata": {},
   "outputs": [
    {
     "data": {
      "text/plain": [
       "[('a', 0, 0),\n",
       " ('b', 1, 1),\n",
       " ('c', 2, 2),\n",
       " ('d', None, 3),\n",
       " ('e', None, None),\n",
       " ('f', None, None),\n",
       " ('g', None, None)]"
      ]
     },
     "execution_count": 49,
     "metadata": {},
     "output_type": "execute_result"
    }
   ],
   "source": [
    "list(zip_longest('abcdefg', range(3), range(4)))"
   ]
  },
  {
   "cell_type": "code",
   "execution_count": 50,
   "id": "f3e5b1c8-d6cd-4315-8755-5f4f1b028828",
   "metadata": {},
   "outputs": [
    {
     "data": {
      "text/plain": [
       "itertools.zip_longest"
      ]
     },
     "execution_count": 50,
     "metadata": {},
     "output_type": "execute_result"
    }
   ],
   "source": [
    "zip_longest"
   ]
  },
  {
   "cell_type": "code",
   "execution_count": 51,
   "id": "77aef537-69dc-4568-8278-560de5b1aed3",
   "metadata": {},
   "outputs": [
    {
     "data": {
      "text/plain": [
       "<function math.sqrt(x, /)>"
      ]
     },
     "execution_count": 51,
     "metadata": {},
     "output_type": "execute_result"
    }
   ],
   "source": [
    "math.sqrt"
   ]
  },
  {
   "cell_type": "code",
   "execution_count": 52,
   "id": "c6e54559-4c9b-4908-b780-901836782c5e",
   "metadata": {},
   "outputs": [
    {
     "data": {
      "text/plain": [
       "<function sum at 0x000001B7114BFF70>"
      ]
     },
     "execution_count": 52,
     "metadata": {},
     "output_type": "execute_result"
    }
   ],
   "source": [
    "np.sum"
   ]
  },
  {
   "cell_type": "code",
   "execution_count": 53,
   "id": "b0cb9a97-99b2-48f1-9237-0b4381767d87",
   "metadata": {},
   "outputs": [
    {
     "data": {
      "text/plain": [
       "<list_iterator at 0x1b713a10f40>"
      ]
     },
     "execution_count": 53,
     "metadata": {},
     "output_type": "execute_result"
    }
   ],
   "source": [
    "# an iterator is iterable\n",
    "it = iter(cities)\n",
    "it"
   ]
  },
  {
   "cell_type": "code",
   "execution_count": 54,
   "id": "cbd22f85-4cc8-4b0e-a48c-380492e4d6a3",
   "metadata": {},
   "outputs": [
    {
     "data": {
      "text/plain": [
       "<list_iterator at 0x1b713a10f40>"
      ]
     },
     "execution_count": 54,
     "metadata": {},
     "output_type": "execute_result"
    }
   ],
   "source": [
    "it2 = iter(it)\n",
    "it2"
   ]
  },
  {
   "cell_type": "code",
   "execution_count": 55,
   "id": "294f83b9-a2d4-42a3-ba56-e5371de31a23",
   "metadata": {},
   "outputs": [
    {
     "data": {
      "text/plain": [
       "True"
      ]
     },
     "execution_count": 55,
     "metadata": {},
     "output_type": "execute_result"
    }
   ],
   "source": [
    "it is it2"
   ]
  },
  {
   "cell_type": "code",
   "execution_count": 56,
   "id": "c147d279-0974-4100-9bf8-1c8ac982feca",
   "metadata": {},
   "outputs": [
    {
     "data": {
      "text/plain": [
       "True"
      ]
     },
     "execution_count": 56,
     "metadata": {},
     "output_type": "execute_result"
    }
   ],
   "source": [
    "12 == 24 * 2 // 4"
   ]
  },
  {
   "cell_type": "code",
   "execution_count": 57,
   "id": "2de57c2c-bbfd-44f9-ab60-4c2d2b09d6ac",
   "metadata": {},
   "outputs": [
    {
     "data": {
      "text/plain": [
       "True"
      ]
     },
     "execution_count": 57,
     "metadata": {},
     "output_type": "execute_result"
    }
   ],
   "source": [
    "city.upper().lower() == city.lower()"
   ]
  },
  {
   "cell_type": "code",
   "execution_count": 58,
   "id": "62cbac2b-d7fa-4112-8d90-c3be83c7a0de",
   "metadata": {},
   "outputs": [
    {
     "data": {
      "text/plain": [
       "False"
      ]
     },
     "execution_count": 58,
     "metadata": {},
     "output_type": "execute_result"
    }
   ],
   "source": [
    "city.upper().lower() is city.lower()"
   ]
  },
  {
   "cell_type": "code",
   "execution_count": 59,
   "id": "06bfe181-4024-4b52-b4f3-34fe51c4f246",
   "metadata": {},
   "outputs": [
    {
     "data": {
      "text/plain": [
       "['Nice', 'Lyon', 'Caen', 'Pau', 'Toulouse', 'Marseille', 'Paris', 'Bordeaux']"
      ]
     },
     "execution_count": 59,
     "metadata": {},
     "output_type": "execute_result"
    }
   ],
   "source": [
    "list(it)"
   ]
  },
  {
   "cell_type": "markdown",
   "id": "c8ae5b76-0607-4098-962a-a08b952d6e39",
   "metadata": {},
   "source": [
    "## Expression for"
   ]
  },
  {
   "cell_type": "code",
   "execution_count": 61,
   "id": "2882bed9-9348-4142-8b21-57b914edd0d0",
   "metadata": {},
   "outputs": [
    {
     "data": {
      "text/plain": [
       "['Nice', 'Lyon', 'Caen', 'Pau', 'Toulouse', 'Marseille', 'Paris', 'Bordeaux']"
      ]
     },
     "execution_count": 61,
     "metadata": {},
     "output_type": "execute_result"
    }
   ],
   "source": [
    "cities"
   ]
  },
  {
   "cell_type": "code",
   "execution_count": 62,
   "id": "02c6b568-5142-4923-8254-7e5e1dda5640",
   "metadata": {},
   "outputs": [
    {
     "data": {
      "text/plain": [
       "['NICE', 'LYON', 'CAEN', 'PAU', 'TOULOUSE', 'MARSEILLE', 'PARIS', 'BORDEAUX']"
      ]
     },
     "execution_count": 62,
     "metadata": {},
     "output_type": "execute_result"
    }
   ],
   "source": [
    "# list comprehension: expression for with [ ]\n",
    "[ city.upper() for city in cities ]"
   ]
  },
  {
   "cell_type": "code",
   "execution_count": 63,
   "id": "8a82ad54-1c0e-4a60-8d5e-6c6712f92983",
   "metadata": {},
   "outputs": [
    {
     "data": {
      "text/plain": [
       "<generator object <genexpr> at 0x000001B710F9A400>"
      ]
     },
     "execution_count": 63,
     "metadata": {},
     "output_type": "execute_result"
    }
   ],
   "source": [
    "# expression for a generator\n",
    "g = (city.upper() for city in cities)\n",
    "g"
   ]
  },
  {
   "cell_type": "code",
   "execution_count": 64,
   "id": "c2c3ddb5-86eb-4c6f-ab36-e92cabbf41b1",
   "metadata": {},
   "outputs": [
    {
     "data": {
      "text/plain": [
       "['NICE', 'LYON', 'CAEN', 'PAU', 'TOULOUSE', 'MARSEILLE', 'PARIS', 'BORDEAUX']"
      ]
     },
     "execution_count": 64,
     "metadata": {},
     "output_type": "execute_result"
    }
   ],
   "source": [
    "list(g)"
   ]
  },
  {
   "cell_type": "code",
   "execution_count": 65,
   "id": "a58631ae-2bdd-42b9-8ecd-f8a6697a8a75",
   "metadata": {},
   "outputs": [
    {
     "data": {
      "text/plain": [
       "[]"
      ]
     },
     "execution_count": 65,
     "metadata": {},
     "output_type": "execute_result"
    }
   ],
   "source": [
    "list(g)"
   ]
  },
  {
   "cell_type": "code",
   "execution_count": 66,
   "id": "5335ec7a-ceb1-44ca-b1eb-52854025eb95",
   "metadata": {},
   "outputs": [
    {
     "data": {
      "text/plain": [
       "45"
      ]
     },
     "execution_count": 66,
     "metadata": {},
     "output_type": "execute_result"
    }
   ],
   "source": [
    "# compute total number of letters to write all cities\n",
    "sum(len(city) for city in cities)"
   ]
  },
  {
   "cell_type": "code",
   "execution_count": 67,
   "id": "235494b4-58c9-46a6-8907-12e8f6a802ba",
   "metadata": {},
   "outputs": [
    {
     "data": {
      "text/plain": [
       "45"
      ]
     },
     "execution_count": 67,
     "metadata": {},
     "output_type": "execute_result"
    }
   ],
   "source": [
    "total = 0\n",
    "for city in cities:\n",
    "    total += len(city)\n",
    "total"
   ]
  },
  {
   "cell_type": "code",
   "execution_count": 68,
   "id": "1f5ef179-fd0b-4208-9e5f-74c61aa4c774",
   "metadata": {},
   "outputs": [
    {
     "data": {
      "text/plain": [
       "[4, 4, 4, 3, 8, 9, 5, 8]"
      ]
     },
     "execution_count": 68,
     "metadata": {},
     "output_type": "execute_result"
    }
   ],
   "source": [
    "city_lengths = [ len(city) for city in cities ]\n",
    "city_lengths"
   ]
  },
  {
   "cell_type": "code",
   "execution_count": 69,
   "id": "81973383-c1d7-476e-a833-d31272608647",
   "metadata": {},
   "outputs": [
    {
     "data": {
      "text/plain": [
       "45"
      ]
     },
     "execution_count": 69,
     "metadata": {},
     "output_type": "execute_result"
    }
   ],
   "source": [
    "total = 0\n",
    "for l in city_lengths:\n",
    "    total += l\n",
    "total"
   ]
  },
  {
   "cell_type": "code",
   "execution_count": 70,
   "id": "40be10f5-6121-43d9-8d82-bf30415b8c4f",
   "metadata": {},
   "outputs": [
    {
     "data": {
      "text/plain": [
       "{'Nice': 4,\n",
       " 'Lyon': 4,\n",
       " 'Caen': 4,\n",
       " 'Pau': 3,\n",
       " 'Toulouse': 8,\n",
       " 'Marseille': 9,\n",
       " 'Paris': 5,\n",
       " 'Bordeaux': 8}"
      ]
     },
     "execution_count": 70,
     "metadata": {},
     "output_type": "execute_result"
    }
   ],
   "source": [
    "# dict comprehension\n",
    "{ city: len(city) for city in cities }"
   ]
  },
  {
   "cell_type": "code",
   "execution_count": 71,
   "id": "e3ab9a11-9e4b-46bd-a3cb-5cbad29bf2ab",
   "metadata": {},
   "outputs": [
    {
     "data": {
      "text/plain": [
       "[True, True, True, True, True, True, True, True]"
      ]
     },
     "execution_count": 71,
     "metadata": {},
     "output_type": "execute_result"
    }
   ],
   "source": [
    "length_threshold = 3\n",
    "[len(city) >= length_threshold for city in cities]"
   ]
  },
  {
   "cell_type": "code",
   "execution_count": 72,
   "id": "d5e999e5-7a17-4226-a15d-046532eb3e2b",
   "metadata": {},
   "outputs": [
    {
     "data": {
      "text/plain": [
       "True"
      ]
     },
     "execution_count": 72,
     "metadata": {},
     "output_type": "execute_result"
    }
   ],
   "source": [
    "all(len(city) >= length_threshold for city in cities)"
   ]
  },
  {
   "cell_type": "code",
   "execution_count": 73,
   "id": "ff939d4c-a9eb-4703-8a32-f1af019f2b4d",
   "metadata": {},
   "outputs": [
    {
     "data": {
      "text/plain": [
       "True"
      ]
     },
     "execution_count": 73,
     "metadata": {},
     "output_type": "execute_result"
    }
   ],
   "source": [
    "any(len(city) >= length_threshold for city in cities)"
   ]
  },
  {
   "cell_type": "code",
   "execution_count": 74,
   "id": "a932958c-0b47-41ba-8382-b358582e1395",
   "metadata": {},
   "outputs": [
    {
     "data": {
      "text/plain": [
       "45"
      ]
     },
     "execution_count": 74,
     "metadata": {},
     "output_type": "execute_result"
    }
   ],
   "source": [
    "sum(len(city) for city in cities)"
   ]
  },
  {
   "cell_type": "code",
   "execution_count": 75,
   "id": "b99df1bd-a57a-40ec-b62c-9c7cb5e55021",
   "metadata": {},
   "outputs": [
    {
     "data": {
      "text/plain": [
       "1045"
      ]
     },
     "execution_count": 75,
     "metadata": {},
     "output_type": "execute_result"
    }
   ],
   "source": [
    "sum((len(city) for city in cities), start=1000)"
   ]
  },
  {
   "cell_type": "code",
   "execution_count": 76,
   "id": "46ea8a9a-9c78-4b91-8cbf-fae27ab6164a",
   "metadata": {},
   "outputs": [
    {
     "name": "stdout",
     "output_type": "stream",
     "text": [
      "45\n",
      "1045\n"
     ]
    }
   ],
   "source": [
    "# non optimal: list comprehension vs generator expresion\n",
    "print(sum([len(city) for city in cities]))\n",
    "print(sum([len(city) for city in cities], start=1000))"
   ]
  },
  {
   "cell_type": "markdown",
   "id": "ac5e4594-1387-4957-88ed-902b1ec6ec1a",
   "metadata": {},
   "source": [
    "## Different type of containers"
   ]
  },
  {
   "cell_type": "code",
   "execution_count": 78,
   "id": "7dfffc61-2d92-43b3-82fa-9df8fc99190c",
   "metadata": {},
   "outputs": [],
   "source": [
    "numbers = [12, 33, 56, 12, 2, 89]"
   ]
  },
  {
   "cell_type": "code",
   "execution_count": 79,
   "id": "641143d9-4bf0-4d6e-aa4a-a51e5ce07c68",
   "metadata": {},
   "outputs": [
    {
     "data": {
      "text/plain": [
       "(12, 33, 56, 12, 2, 89)"
      ]
     },
     "execution_count": 79,
     "metadata": {},
     "output_type": "execute_result"
    }
   ],
   "source": [
    "tuple(numbers)"
   ]
  },
  {
   "cell_type": "code",
   "execution_count": 80,
   "id": "53883510-c252-4c15-a53d-80fa047d59d7",
   "metadata": {},
   "outputs": [
    {
     "data": {
      "text/plain": [
       "{2, 12, 33, 56, 89}"
      ]
     },
     "execution_count": 80,
     "metadata": {},
     "output_type": "execute_result"
    }
   ],
   "source": [
    "# set: each value is unique, no doubles\n",
    "set(numbers)"
   ]
  },
  {
   "cell_type": "code",
   "execution_count": 81,
   "id": "d01964fd-4b97-407a-be9e-87e1498ec381",
   "metadata": {},
   "outputs": [
    {
     "data": {
      "text/plain": [
       "[33, 2, 12, 56, 89]"
      ]
     },
     "execution_count": 81,
     "metadata": {},
     "output_type": "execute_result"
    }
   ],
   "source": [
    "list(set(numbers))"
   ]
  },
  {
   "cell_type": "code",
   "execution_count": 82,
   "id": "c669cb62-27dd-4f88-9de3-32c6ff49b077",
   "metadata": {},
   "outputs": [
    {
     "data": {
      "text/plain": [
       "[145, 1090, 3137, 145, 5, 7922]"
      ]
     },
     "execution_count": 82,
     "metadata": {},
     "output_type": "execute_result"
    }
   ],
   "source": [
    "list(x**2+1 for x in numbers)"
   ]
  },
  {
   "cell_type": "markdown",
   "id": "fe713e56-5eec-4586-8282-1a2dc093749c",
   "metadata": {},
   "source": [
    "## Sorting"
   ]
  },
  {
   "cell_type": "code",
   "execution_count": 84,
   "id": "2c438225-78d8-49a3-8088-e45e8cf8d006",
   "metadata": {},
   "outputs": [
    {
     "data": {
      "text/plain": [
       "[12, 33, 56, 12, 2, 89]"
      ]
     },
     "execution_count": 84,
     "metadata": {},
     "output_type": "execute_result"
    }
   ],
   "source": [
    "numbers"
   ]
  },
  {
   "cell_type": "code",
   "execution_count": 85,
   "id": "486c8de4-1622-4765-a74f-2890976ecc1d",
   "metadata": {},
   "outputs": [
    {
     "data": {
      "text/plain": [
       "[2, 12, 12, 33, 56, 89]"
      ]
     },
     "execution_count": 85,
     "metadata": {},
     "output_type": "execute_result"
    }
   ],
   "source": [
    "# in place sort (type list)\n",
    "numbers.sort()\n",
    "numbers"
   ]
  },
  {
   "cell_type": "code",
   "execution_count": 86,
   "id": "9de72305-aabe-46f4-b9d6-d9c3532ef113",
   "metadata": {},
   "outputs": [
    {
     "data": {
      "text/plain": [
       "[5, 145, 1090, 3137, 7922]"
      ]
     },
     "execution_count": 86,
     "metadata": {},
     "output_type": "execute_result"
    }
   ],
   "source": [
    "# builtin sorted: => new list\n",
    "results = sorted(x**2+1 for x in set(numbers))\n",
    "results"
   ]
  },
  {
   "cell_type": "code",
   "execution_count": 87,
   "id": "9d9cf0bd-6ddf-4df0-ad08-e44e5822291e",
   "metadata": {},
   "outputs": [
    {
     "data": {
      "text/plain": [
       "True"
      ]
     },
     "execution_count": 87,
     "metadata": {},
     "output_type": "execute_result"
    }
   ],
   "source": [
    "12 < 24"
   ]
  },
  {
   "cell_type": "code",
   "execution_count": 88,
   "id": "01dcfd25-6c3e-4cd4-a6e4-c58bcfa8ed5f",
   "metadata": {},
   "outputs": [
    {
     "data": {
      "text/plain": [
       "True"
      ]
     },
     "execution_count": 88,
     "metadata": {},
     "output_type": "execute_result"
    }
   ],
   "source": [
    "12.4 < 25.3"
   ]
  },
  {
   "cell_type": "code",
   "execution_count": 89,
   "id": "dcd50c41-8286-4763-a6a6-75d0f191bcce",
   "metadata": {},
   "outputs": [
    {
     "data": {
      "text/plain": [
       "True"
      ]
     },
     "execution_count": 89,
     "metadata": {},
     "output_type": "execute_result"
    }
   ],
   "source": [
    "False < True"
   ]
  },
  {
   "cell_type": "code",
   "execution_count": 90,
   "id": "f6c3de75-f21b-4a12-a8f9-4491c7a17556",
   "metadata": {},
   "outputs": [
    {
     "data": {
      "text/plain": [
       "False"
      ]
     },
     "execution_count": 90,
     "metadata": {},
     "output_type": "execute_result"
    }
   ],
   "source": [
    "\"Toulouse\" < \"Paris\""
   ]
  },
  {
   "cell_type": "code",
   "execution_count": 91,
   "id": "2a365217-1909-4a53-b3e5-ecb0d40d9e09",
   "metadata": {},
   "outputs": [
    {
     "data": {
      "text/plain": [
       "False"
      ]
     },
     "execution_count": 91,
     "metadata": {},
     "output_type": "execute_result"
    }
   ],
   "source": [
    "\"Toulouse\" < \"Toulon\""
   ]
  },
  {
   "cell_type": "code",
   "execution_count": 92,
   "id": "0db8f938-e5aa-4282-9dc4-41489746cabb",
   "metadata": {},
   "outputs": [
    {
     "name": "stdout",
     "output_type": "stream",
     "text": [
      "['Nice', 'Lyon', 'Caen', 'Pau', 'Toulouse', 'Marseille', 'Paris', 'Bordeaux']\n",
      "['Bordeaux', 'Caen', 'Lyon', 'Marseille', 'Nice', 'Paris', 'Pau', 'Toulouse']\n"
     ]
    }
   ],
   "source": [
    "print(cities)\n",
    "cities.sort()\n",
    "print(cities)"
   ]
  },
  {
   "cell_type": "code",
   "execution_count": 93,
   "id": "73ec3a91-fbd2-4384-947d-8b1ef99d2bb7",
   "metadata": {},
   "outputs": [
    {
     "name": "stdout",
     "output_type": "stream",
     "text": [
      "['Bordeaux', 'Caen', 'Lyon', 'Marseille', 'Nice', 'Paris', 'Pau', 'Toulouse', 'arcachon']\n",
      "['Bordeaux', 'Caen', 'Lyon', 'Marseille', 'Nice', 'Paris', 'Pau', 'Toulouse', 'arcachon']\n"
     ]
    }
   ],
   "source": [
    "cities.append(\"arcachon\")\n",
    "print(cities)\n",
    "cities.sort()\n",
    "print(cities)"
   ]
  },
  {
   "cell_type": "code",
   "execution_count": 94,
   "id": "ad110788-5288-49f4-9676-1f69ada87f58",
   "metadata": {},
   "outputs": [
    {
     "data": {
      "text/plain": [
       "True"
      ]
     },
     "execution_count": 94,
     "metadata": {},
     "output_type": "execute_result"
    }
   ],
   "source": [
    "\"Z\" < 'a'"
   ]
  },
  {
   "cell_type": "code",
   "execution_count": 95,
   "id": "82d955b7-1828-489c-b5dc-76dfc6d25ff6",
   "metadata": {},
   "outputs": [
    {
     "data": {
      "text/plain": [
       "['arcachon',\n",
       " 'Bordeaux',\n",
       " 'Caen',\n",
       " 'Lyon',\n",
       " 'Marseille',\n",
       " 'Nice',\n",
       " 'Paris',\n",
       " 'Pau',\n",
       " 'Toulouse']"
      ]
     },
     "execution_count": 95,
     "metadata": {},
     "output_type": "execute_result"
    }
   ],
   "source": [
    "sorted(cities, key=str.upper)"
   ]
  },
  {
   "cell_type": "code",
   "execution_count": 96,
   "id": "2398ce19-706d-45c8-ac20-6db39847a0d3",
   "metadata": {},
   "outputs": [
    {
     "data": {
      "text/plain": [
       "['arcachon',\n",
       " 'Bordeaux',\n",
       " 'Caen',\n",
       " 'Lyon',\n",
       " 'Marseille',\n",
       " 'Nice',\n",
       " 'Paris',\n",
       " 'Pau',\n",
       " 'Toulouse']"
      ]
     },
     "execution_count": 96,
     "metadata": {},
     "output_type": "execute_result"
    }
   ],
   "source": [
    "cities.sort(key=str.lower)\n",
    "cities"
   ]
  },
  {
   "cell_type": "code",
   "execution_count": 97,
   "id": "026944d9-ef6f-484c-a2f4-6b555be19c58",
   "metadata": {},
   "outputs": [
    {
     "name": "stdout",
     "output_type": "stream",
     "text": [
      "['arcachon', 'Bordeaux', 'Caen', 'Lyon', 'Marseille', 'Nice', 'Paris', 'Pau', 'Toulouse']\n"
     ]
    }
   ],
   "source": [
    "cities.sort(key=str.casefold)\n",
    "print(cities)"
   ]
  },
  {
   "cell_type": "code",
   "execution_count": 98,
   "id": "22229374-d421-4913-a7f9-d88b8f2499a7",
   "metadata": {},
   "outputs": [
    {
     "data": {
      "text/plain": [
       "['arcachon',\n",
       " 'Bordeaux',\n",
       " 'Caen',\n",
       " 'Charbonnières-les-Bains',\n",
       " \"L'Haÿ-les-Roses\",\n",
       " 'Lyon',\n",
       " 'Marseille',\n",
       " 'Nice',\n",
       " 'Niort',\n",
       " 'Nîmes',\n",
       " 'Paris',\n",
       " 'Pau',\n",
       " 'Toulouse']"
      ]
     },
     "execution_count": 98,
     "metadata": {},
     "output_type": "execute_result"
    }
   ],
   "source": [
    "cities.extend(('Charbonnières-les-Bains', 'Nîmes', 'Niort', \"L'Haÿ-les-Roses\"))\n",
    "cities.sort(key=str.casefold) # Nîmes is not at the 'right place'\n",
    "cities"
   ]
  },
  {
   "cell_type": "code",
   "execution_count": 99,
   "id": "293b7b45-6277-4585-ab24-3a54465668ef",
   "metadata": {},
   "outputs": [
    {
     "data": {
      "text/plain": [
       "'mañana'"
      ]
     },
     "execution_count": 99,
     "metadata": {},
     "output_type": "execute_result"
    }
   ],
   "source": [
    "'mañana'"
   ]
  },
  {
   "cell_type": "markdown",
   "id": "eb13a09f-7f87-4002-b617-392dde8cff57",
   "metadata": {},
   "source": [
    "## locale parameters\n",
    "- sorting (LC_COLLATE)\n",
    "- format de date (LC_TIME)\n",
    "- monnaie (LC_MONETARY)\n",
    "- decimal separator (, .)  (LC_NUMERIC)"
   ]
  },
  {
   "cell_type": "code",
   "execution_count": 101,
   "id": "12fdabf8-d969-4b10-9a4d-78fc24a4627b",
   "metadata": {},
   "outputs": [
    {
     "data": {
      "text/plain": [
       "(None, None)"
      ]
     },
     "execution_count": 101,
     "metadata": {},
     "output_type": "execute_result"
    }
   ],
   "source": [
    "locale.getlocale(locale.LC_COLLATE)"
   ]
  },
  {
   "cell_type": "code",
   "execution_count": 102,
   "id": "5ed6d3ff-085f-4c6d-a987-b51b87638ab8",
   "metadata": {},
   "outputs": [
    {
     "data": {
      "text/plain": [
       "'fr_fr.UTF8'"
      ]
     },
     "execution_count": 102,
     "metadata": {},
     "output_type": "execute_result"
    }
   ],
   "source": [
    "locale.setlocale(locale.LC_ALL, 'fr_fr.UTF8')"
   ]
  },
  {
   "cell_type": "code",
   "execution_count": 103,
   "id": "fc3ece0a-efb3-42ef-89b0-6cd9395afa98",
   "metadata": {},
   "outputs": [
    {
     "data": {
      "text/plain": [
       "('fr_FR', 'UTF-8')"
      ]
     },
     "execution_count": 103,
     "metadata": {},
     "output_type": "execute_result"
    }
   ],
   "source": [
    "locale.getlocale(locale.LC_COLLATE)"
   ]
  },
  {
   "cell_type": "code",
   "execution_count": 104,
   "id": "f64fffab-a0bc-4a9a-a343-f169cfb567be",
   "metadata": {},
   "outputs": [
    {
     "data": {
      "text/plain": [
       "['arcachon',\n",
       " 'Bordeaux',\n",
       " 'Caen',\n",
       " 'Charbonnières-les-Bains',\n",
       " \"L'Haÿ-les-Roses\",\n",
       " 'Lyon',\n",
       " 'Marseille',\n",
       " 'Nice',\n",
       " 'Nîmes',\n",
       " 'Niort',\n",
       " 'Paris',\n",
       " 'Pau',\n",
       " 'Toulouse']"
      ]
     },
     "execution_count": 104,
     "metadata": {},
     "output_type": "execute_result"
    }
   ],
   "source": [
    "cities.sort(key=locale.strxfrm)\n",
    "cities"
   ]
  },
  {
   "cell_type": "code",
   "execution_count": 105,
   "id": "c04f77d1-34a7-4ad6-9178-928455519f35",
   "metadata": {},
   "outputs": [
    {
     "data": {
      "text/plain": [
       "['cobra', 'cœur', 'corde', 'garce', 'garçon', 'gars']"
      ]
     },
     "execution_count": 105,
     "metadata": {},
     "output_type": "execute_result"
    }
   ],
   "source": [
    "sorted(('cœur', 'cobra', 'corde', 'garçon', 'gars', 'garce'), key=locale.strxfrm)"
   ]
  },
  {
   "cell_type": "code",
   "execution_count": 106,
   "id": "f9b14dbd-368f-467e-92c5-5816868b2f21",
   "metadata": {},
   "outputs": [
    {
     "data": {
      "text/plain": [
       "['mañana', 'mano', 'matador']"
      ]
     },
     "execution_count": 106,
     "metadata": {},
     "output_type": "execute_result"
    }
   ],
   "source": [
    "sorted(('mañana', 'mano', 'matador'), key=locale.strxfrm)"
   ]
  },
  {
   "cell_type": "code",
   "execution_count": 107,
   "id": "41cc4825-5ce4-450b-b9a7-8f5733946183",
   "metadata": {},
   "outputs": [
    {
     "data": {
      "text/plain": [
       "('es_ES', 'UTF-8')"
      ]
     },
     "execution_count": 107,
     "metadata": {},
     "output_type": "execute_result"
    }
   ],
   "source": [
    "locale.setlocale(locale.LC_ALL, 'es_ES.UTF8')\n",
    "locale.getlocale(locale.LC_COLLATE)"
   ]
  },
  {
   "cell_type": "code",
   "execution_count": 108,
   "id": "0b6ec74a-c9f3-4ccc-bb78-79cf64102007",
   "metadata": {},
   "outputs": [
    {
     "data": {
      "text/plain": [
       "['mano', 'mañana', 'matador']"
      ]
     },
     "execution_count": 108,
     "metadata": {},
     "output_type": "execute_result"
    }
   ],
   "source": [
    "sorted(('mañana', 'mano', 'matador'), key=locale.strxfrm)"
   ]
  },
  {
   "cell_type": "markdown",
   "id": "7ba71527-c259-4199-b1c1-39e942dd7bfe",
   "metadata": {},
   "source": [
    "## Encoding\n",
    "Europe Occidentale: 1 caractère = 1 octet\n",
    "- ASCII (pas d'accent): 128 caracatères (1963)\n",
    "- latin-1 / ISO-8859-1: 256 caractères (lettres latines avec accents, manque œ, Œ, Ÿ\n",
    "- ISO-8859-15: adaptation du latin-1 avec €, œ, Œ, Ÿ notamment\n",
    "- Microsoft CP1252 ou ANSI: idem que ISO-8859-15 mais avec des codes différents pour les nouvelles lettres\n",
    "\n",
    "Unicode: international, toutes langues écrites\n",
    "- classification\n",
    "- algorithmes (tri, comparaison)\n",
    "- encoding informatique: UTF-8, UTF-16, UTF-32"
   ]
  },
  {
   "cell_type": "code",
   "execution_count": 110,
   "id": "8e786c0a-2315-4188-ba94-33489b6e3d89",
   "metadata": {},
   "outputs": [
    {
     "name": "stdout",
     "output_type": "stream",
     "text": [
      "UTF-8: b'\\xe2\\x82\\xac'\n",
      "UTF-16: b'\\xff\\xfe\\xac '\n",
      "ISO-8859-15: b'\\xa4'\n",
      "CP1252: b'\\x80'\n"
     ]
    }
   ],
   "source": [
    "# NB: 'ISO-8859-1': UnicodeEncodeError: 'latin-1' codec can't encode character '\\u20ac'\n",
    "for encoding in 'UTF-8', 'UTF-16', 'ISO-8859-15', 'CP1252': \n",
    "    print(encoding, '€'.encode(encoding), sep=\": \")"
   ]
  },
  {
   "cell_type": "code",
   "execution_count": 111,
   "id": "5d5b4b54-8dfd-496b-9a0f-44d4021064b4",
   "metadata": {},
   "outputs": [
    {
     "data": {
      "text/plain": [
       "['東京', '北京', '🍹🦜']"
      ]
     },
     "execution_count": 111,
     "metadata": {},
     "output_type": "execute_result"
    }
   ],
   "source": [
    "words = ['東京', '北京', '🍹🦜']\n",
    "words"
   ]
  },
  {
   "cell_type": "markdown",
   "id": "22efd827-fc02-4d06-a83a-d561101823a9",
   "metadata": {},
   "source": [
    "### Lecture fichier texte brut\n",
    "Fichier data/cities.csv téléchargé depuis https://www.data.gouv.fr/fr/datasets/villes-de-france/"
   ]
  },
  {
   "cell_type": "code",
   "execution_count": 113,
   "id": "59d7ccbe-9222-4df0-8edb-04e529100965",
   "metadata": {},
   "outputs": [
    {
     "data": {
      "text/plain": [
       "<_io.TextIOWrapper name='data/cities.csv' mode='r' encoding='cp1252'>"
      ]
     },
     "execution_count": 113,
     "metadata": {},
     "output_type": "execute_result"
    }
   ],
   "source": [
    "# use default OS encoding\n",
    "f = open('data/cities.csv')\n",
    "f"
   ]
  },
  {
   "cell_type": "code",
   "execution_count": 114,
   "id": "87bd98d4-e8ee-4e08-8a55-8e87d409061c",
   "metadata": {},
   "outputs": [],
   "source": [
    "f.close()"
   ]
  },
  {
   "cell_type": "code",
   "execution_count": 115,
   "id": "0786ca67-0df1-4c2a-85cb-d6c9eaabc9d1",
   "metadata": {},
   "outputs": [
    {
     "data": {
      "text/plain": [
       "<_io.TextIOWrapper name='data/cities.csv' mode='r' encoding='UTF-8'>"
      ]
     },
     "execution_count": 115,
     "metadata": {},
     "output_type": "execute_result"
    }
   ],
   "source": [
    "f = open('data/cities.csv', encoding='UTF-8')\n",
    "f"
   ]
  },
  {
   "cell_type": "code",
   "execution_count": 116,
   "id": "0131dde5-457c-4d09-b0e4-4da957b71324",
   "metadata": {},
   "outputs": [
    {
     "data": {
      "text/plain": [
       "['insee_code,city_code,zip_code,label,latitude,longitude,department_name,department_number,region_name,region_geojson_name\\n',\n",
       " '25620,ville du pont,25650,ville du pont,46.999873398,6.498147193,doubs,25,bourgogne-franche-comté,Bourgogne-Franche-Comté\\n',\n",
       " '25624,villers grelot,25640,villers grelot,47.361512085,6.235167025,doubs,25,bourgogne-franche-comté,Bourgogne-Franche-Comté\\n',\n",
       " '25615,villars les blamont,25310,villars les blamont,47.368383721,6.871414913,doubs,25,bourgogne-franche-comté,Bourgogne-Franche-Comté\\n',\n",
       " '25619,les villedieu,25240,les villedieu,46.713906258,6.26583065,doubs,25,bourgogne-franche-comté,Bourgogne-Franche-Comté\\n']"
      ]
     },
     "execution_count": 116,
     "metadata": {},
     "output_type": "execute_result"
    }
   ],
   "source": [
    "data = list(f)\n",
    "data[:5]"
   ]
  },
  {
   "cell_type": "code",
   "execution_count": 117,
   "id": "48ca3e6e-136e-4337-a9e4-be0dd4c5dec5",
   "metadata": {},
   "outputs": [],
   "source": [
    "f.close()"
   ]
  },
  {
   "cell_type": "code",
   "execution_count": 118,
   "id": "abb2acc7-c268-42e4-a1e6-279f18b2abc9",
   "metadata": {},
   "outputs": [
    {
     "data": {
      "text/plain": [
       "['insee_code,city_code,zip_code,label,latitude,longitude,department_name,department_number,region_name,region_geojson_name\\n',\n",
       " '25620,ville du pont,25650,ville du pont,46.999873398,6.498147193,doubs,25,bourgogne-franche-comté,Bourgogne-Franche-Comté\\n',\n",
       " '25624,villers grelot,25640,villers grelot,47.361512085,6.235167025,doubs,25,bourgogne-franche-comté,Bourgogne-Franche-Comté\\n',\n",
       " '25615,villars les blamont,25310,villars les blamont,47.368383721,6.871414913,doubs,25,bourgogne-franche-comté,Bourgogne-Franche-Comté\\n',\n",
       " '25619,les villedieu,25240,les villedieu,46.713906258,6.26583065,doubs,25,bourgogne-franche-comté,Bourgogne-Franche-Comté\\n']"
      ]
     },
     "execution_count": 118,
     "metadata": {},
     "output_type": "execute_result"
    }
   ],
   "source": [
    "with open('data/cities.csv', encoding='UTF-8') as f:\n",
    "    # read whole file\n",
    "    data = list(f)\n",
    "# f.close() auto\n",
    "data[:5]"
   ]
  },
  {
   "cell_type": "code",
   "execution_count": 119,
   "id": "5f38ac45-7cc0-4531-886a-3cf9fb5f903e",
   "metadata": {},
   "outputs": [
    {
     "data": {
      "text/plain": [
       "39146"
      ]
     },
     "execution_count": 119,
     "metadata": {},
     "output_type": "execute_result"
    }
   ],
   "source": [
    "len(data)"
   ]
  },
  {
   "cell_type": "markdown",
   "id": "7a3515aa-363b-4aee-b5df-663ce9de621e",
   "metadata": {},
   "source": [
    "### Lecture fichier csv avec module csv"
   ]
  },
  {
   "cell_type": "code",
   "execution_count": 244,
   "id": "96a0cda1-da04-4fc1-a15a-56e498dd7691",
   "metadata": {},
   "outputs": [
    {
     "name": "stdout",
     "output_type": "stream",
     "text": [
      "['insee_code', 'city_code', 'zip_code', 'label', 'latitude', 'longitude', 'department_name', 'department_number', 'region_name', 'region_geojson_name']\n"
     ]
    },
    {
     "data": {
      "text/plain": [
       "[['25620',\n",
       "  'ville du pont',\n",
       "  '25650',\n",
       "  'ville du pont',\n",
       "  '46.999873398',\n",
       "  '6.498147193',\n",
       "  'doubs',\n",
       "  '25',\n",
       "  'bourgogne-franche-comté',\n",
       "  'Bourgogne-Franche-Comté'],\n",
       " ['25624',\n",
       "  'villers grelot',\n",
       "  '25640',\n",
       "  'villers grelot',\n",
       "  '47.361512085',\n",
       "  '6.235167025',\n",
       "  'doubs',\n",
       "  '25',\n",
       "  'bourgogne-franche-comté',\n",
       "  'Bourgogne-Franche-Comté'],\n",
       " ['25615',\n",
       "  'villars les blamont',\n",
       "  '25310',\n",
       "  'villars les blamont',\n",
       "  '47.368383721',\n",
       "  '6.871414913',\n",
       "  'doubs',\n",
       "  '25',\n",
       "  'bourgogne-franche-comté',\n",
       "  'Bourgogne-Franche-Comté'],\n",
       " ['25619',\n",
       "  'les villedieu',\n",
       "  '25240',\n",
       "  'les villedieu',\n",
       "  '46.713906258',\n",
       "  '6.26583065',\n",
       "  'doubs',\n",
       "  '25',\n",
       "  'bourgogne-franche-comté',\n",
       "  'Bourgogne-Franche-Comté'],\n",
       " ['25622',\n",
       "  'villers buzon',\n",
       "  '25170',\n",
       "  'villers buzon',\n",
       "  '47.228558434',\n",
       "  '5.852186748',\n",
       "  'doubs',\n",
       "  '25',\n",
       "  'bourgogne-franche-comté',\n",
       "  'Bourgogne-Franche-Comté']]"
      ]
     },
     "execution_count": 244,
     "metadata": {},
     "output_type": "execute_result"
    }
   ],
   "source": [
    "with open('data/cities.csv', encoding='UTF-8') as f:\n",
    "    reader = csv.reader(f)\n",
    "    headers = next(reader)\n",
    "    data = list(reader)\n",
    "print(headers)\n",
    "data[:5]"
   ]
  },
  {
   "cell_type": "markdown",
   "id": "f6f68cde-ff08-4ddd-9ed6-54b45d30a132",
   "metadata": {},
   "source": [
    "### Lecture fichier csv avec librairie pandas"
   ]
  },
  {
   "cell_type": "code",
   "execution_count": 122,
   "id": "d314864a-b237-476e-9890-00e119da25f6",
   "metadata": {},
   "outputs": [
    {
     "data": {
      "text/html": [
       "<div>\n",
       "<style scoped>\n",
       "    .dataframe tbody tr th:only-of-type {\n",
       "        vertical-align: middle;\n",
       "    }\n",
       "\n",
       "    .dataframe tbody tr th {\n",
       "        vertical-align: top;\n",
       "    }\n",
       "\n",
       "    .dataframe thead th {\n",
       "        text-align: right;\n",
       "    }\n",
       "</style>\n",
       "<table border=\"1\" class=\"dataframe\">\n",
       "  <thead>\n",
       "    <tr style=\"text-align: right;\">\n",
       "      <th></th>\n",
       "      <th>insee_code</th>\n",
       "      <th>city_code</th>\n",
       "      <th>zip_code</th>\n",
       "      <th>label</th>\n",
       "      <th>latitude</th>\n",
       "      <th>longitude</th>\n",
       "      <th>department_name</th>\n",
       "      <th>department_number</th>\n",
       "      <th>region_name</th>\n",
       "      <th>region_geojson_name</th>\n",
       "    </tr>\n",
       "  </thead>\n",
       "  <tbody>\n",
       "    <tr>\n",
       "      <th>0</th>\n",
       "      <td>25620</td>\n",
       "      <td>ville du pont</td>\n",
       "      <td>25650</td>\n",
       "      <td>ville du pont</td>\n",
       "      <td>46.999873</td>\n",
       "      <td>6.498147</td>\n",
       "      <td>doubs</td>\n",
       "      <td>25</td>\n",
       "      <td>bourgogne-franche-comté</td>\n",
       "      <td>Bourgogne-Franche-Comté</td>\n",
       "    </tr>\n",
       "    <tr>\n",
       "      <th>1</th>\n",
       "      <td>25624</td>\n",
       "      <td>villers grelot</td>\n",
       "      <td>25640</td>\n",
       "      <td>villers grelot</td>\n",
       "      <td>47.361512</td>\n",
       "      <td>6.235167</td>\n",
       "      <td>doubs</td>\n",
       "      <td>25</td>\n",
       "      <td>bourgogne-franche-comté</td>\n",
       "      <td>Bourgogne-Franche-Comté</td>\n",
       "    </tr>\n",
       "    <tr>\n",
       "      <th>2</th>\n",
       "      <td>25615</td>\n",
       "      <td>villars les blamont</td>\n",
       "      <td>25310</td>\n",
       "      <td>villars les blamont</td>\n",
       "      <td>47.368384</td>\n",
       "      <td>6.871415</td>\n",
       "      <td>doubs</td>\n",
       "      <td>25</td>\n",
       "      <td>bourgogne-franche-comté</td>\n",
       "      <td>Bourgogne-Franche-Comté</td>\n",
       "    </tr>\n",
       "    <tr>\n",
       "      <th>3</th>\n",
       "      <td>25619</td>\n",
       "      <td>les villedieu</td>\n",
       "      <td>25240</td>\n",
       "      <td>les villedieu</td>\n",
       "      <td>46.713906</td>\n",
       "      <td>6.265831</td>\n",
       "      <td>doubs</td>\n",
       "      <td>25</td>\n",
       "      <td>bourgogne-franche-comté</td>\n",
       "      <td>Bourgogne-Franche-Comté</td>\n",
       "    </tr>\n",
       "    <tr>\n",
       "      <th>4</th>\n",
       "      <td>25622</td>\n",
       "      <td>villers buzon</td>\n",
       "      <td>25170</td>\n",
       "      <td>villers buzon</td>\n",
       "      <td>47.228558</td>\n",
       "      <td>5.852187</td>\n",
       "      <td>doubs</td>\n",
       "      <td>25</td>\n",
       "      <td>bourgogne-franche-comté</td>\n",
       "      <td>Bourgogne-Franche-Comté</td>\n",
       "    </tr>\n",
       "    <tr>\n",
       "      <th>...</th>\n",
       "      <td>...</td>\n",
       "      <td>...</td>\n",
       "      <td>...</td>\n",
       "      <td>...</td>\n",
       "      <td>...</td>\n",
       "      <td>...</td>\n",
       "      <td>...</td>\n",
       "      <td>...</td>\n",
       "      <td>...</td>\n",
       "      <td>...</td>\n",
       "    </tr>\n",
       "    <tr>\n",
       "      <th>39140</th>\n",
       "      <td>98829</td>\n",
       "      <td>thio</td>\n",
       "      <td>98829</td>\n",
       "      <td>thio</td>\n",
       "      <td>NaN</td>\n",
       "      <td>NaN</td>\n",
       "      <td>nouvelle-calédonie</td>\n",
       "      <td>988</td>\n",
       "      <td>nouvelle-calédonie</td>\n",
       "      <td>Nouvelle Calédonie</td>\n",
       "    </tr>\n",
       "    <tr>\n",
       "      <th>39141</th>\n",
       "      <td>98831</td>\n",
       "      <td>voh</td>\n",
       "      <td>98833</td>\n",
       "      <td>voh</td>\n",
       "      <td>NaN</td>\n",
       "      <td>NaN</td>\n",
       "      <td>nouvelle-calédonie</td>\n",
       "      <td>988</td>\n",
       "      <td>nouvelle-calédonie</td>\n",
       "      <td>Nouvelle Calédonie</td>\n",
       "    </tr>\n",
       "    <tr>\n",
       "      <th>39142</th>\n",
       "      <td>98832</td>\n",
       "      <td>yate</td>\n",
       "      <td>98834</td>\n",
       "      <td>yate</td>\n",
       "      <td>NaN</td>\n",
       "      <td>NaN</td>\n",
       "      <td>nouvelle-calédonie</td>\n",
       "      <td>988</td>\n",
       "      <td>nouvelle-calédonie</td>\n",
       "      <td>Nouvelle Calédonie</td>\n",
       "    </tr>\n",
       "    <tr>\n",
       "      <th>39143</th>\n",
       "      <td>98612</td>\n",
       "      <td>sigave</td>\n",
       "      <td>98620</td>\n",
       "      <td>sigave</td>\n",
       "      <td>-14.270411</td>\n",
       "      <td>-178.155263</td>\n",
       "      <td>wallis-et-futuna</td>\n",
       "      <td>986</td>\n",
       "      <td>wallis-et-futuna</td>\n",
       "      <td>Wallis-et-Futuna</td>\n",
       "    </tr>\n",
       "    <tr>\n",
       "      <th>39144</th>\n",
       "      <td>98613</td>\n",
       "      <td>uvea</td>\n",
       "      <td>98600</td>\n",
       "      <td>uvea</td>\n",
       "      <td>-13.281863</td>\n",
       "      <td>-176.161928</td>\n",
       "      <td>wallis-et-futuna</td>\n",
       "      <td>986</td>\n",
       "      <td>wallis-et-futuna</td>\n",
       "      <td>Wallis-et-Futuna</td>\n",
       "    </tr>\n",
       "  </tbody>\n",
       "</table>\n",
       "<p>39145 rows × 10 columns</p>\n",
       "</div>"
      ],
      "text/plain": [
       "      insee_code            city_code  zip_code                label  \\\n",
       "0          25620        ville du pont     25650        ville du pont   \n",
       "1          25624       villers grelot     25640       villers grelot   \n",
       "2          25615  villars les blamont     25310  villars les blamont   \n",
       "3          25619        les villedieu     25240        les villedieu   \n",
       "4          25622        villers buzon     25170        villers buzon   \n",
       "...          ...                  ...       ...                  ...   \n",
       "39140      98829                 thio     98829                 thio   \n",
       "39141      98831                  voh     98833                  voh   \n",
       "39142      98832                 yate     98834                 yate   \n",
       "39143      98612               sigave     98620               sigave   \n",
       "39144      98613                 uvea     98600                 uvea   \n",
       "\n",
       "        latitude   longitude     department_name department_number  \\\n",
       "0      46.999873    6.498147               doubs                25   \n",
       "1      47.361512    6.235167               doubs                25   \n",
       "2      47.368384    6.871415               doubs                25   \n",
       "3      46.713906    6.265831               doubs                25   \n",
       "4      47.228558    5.852187               doubs                25   \n",
       "...          ...         ...                 ...               ...   \n",
       "39140        NaN         NaN  nouvelle-calédonie               988   \n",
       "39141        NaN         NaN  nouvelle-calédonie               988   \n",
       "39142        NaN         NaN  nouvelle-calédonie               988   \n",
       "39143 -14.270411 -178.155263    wallis-et-futuna               986   \n",
       "39144 -13.281863 -176.161928    wallis-et-futuna               986   \n",
       "\n",
       "                   region_name      region_geojson_name  \n",
       "0      bourgogne-franche-comté  Bourgogne-Franche-Comté  \n",
       "1      bourgogne-franche-comté  Bourgogne-Franche-Comté  \n",
       "2      bourgogne-franche-comté  Bourgogne-Franche-Comté  \n",
       "3      bourgogne-franche-comté  Bourgogne-Franche-Comté  \n",
       "4      bourgogne-franche-comté  Bourgogne-Franche-Comté  \n",
       "...                        ...                      ...  \n",
       "39140       nouvelle-calédonie       Nouvelle Calédonie  \n",
       "39141       nouvelle-calédonie       Nouvelle Calédonie  \n",
       "39142       nouvelle-calédonie       Nouvelle Calédonie  \n",
       "39143         wallis-et-futuna         Wallis-et-Futuna  \n",
       "39144         wallis-et-futuna         Wallis-et-Futuna  \n",
       "\n",
       "[39145 rows x 10 columns]"
      ]
     },
     "execution_count": 122,
     "metadata": {},
     "output_type": "execute_result"
    }
   ],
   "source": [
    "df_cities = pd.read_csv('data/cities.csv', encoding='UTF-8')\n",
    "df_cities # type: DataFrame"
   ]
  },
  {
   "cell_type": "code",
   "execution_count": 253,
   "id": "b82f9d4d-9170-4af6-ae5d-bed89e1101b1",
   "metadata": {},
   "outputs": [
    {
     "data": {
      "text/plain": [
       "0        25650\n",
       "1        25640\n",
       "2        25310\n",
       "3        25240\n",
       "4        25170\n",
       "         ...  \n",
       "39140    98829\n",
       "39141    98833\n",
       "39142    98834\n",
       "39143    98620\n",
       "39144    98600\n",
       "Name: zip_code, Length: 39145, dtype: int64"
      ]
     },
     "execution_count": 253,
     "metadata": {},
     "output_type": "execute_result"
    }
   ],
   "source": [
    "# dynamic attribute\n",
    "df_cities.zip_code"
   ]
  }
 ],
 "metadata": {
  "kernelspec": {
   "display_name": "Python 3 (ipykernel)",
   "language": "python",
   "name": "python3"
  },
  "language_info": {
   "codemirror_mode": {
    "name": "ipython",
    "version": 3
   },
   "file_extension": ".py",
   "mimetype": "text/x-python",
   "name": "python",
   "nbconvert_exporter": "python",
   "pygments_lexer": "ipython3",
   "version": "3.12.3"
  }
 },
 "nbformat": 4,
 "nbformat_minor": 5
}
